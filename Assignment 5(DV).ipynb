{
 "cells": [
  {
   "cell_type": "markdown",
   "metadata": {},
   "source": [
    "# Basic Plot\n",
    "\n",
    "### Line plot\n",
    "Create a line plot showing the number of marriages and divorces per capita in the U.S. between 1867 and 2014. Label both of the lines and show the legend.\n",
    "\n",
    "Don't forget to label your axes!\n",
    "\n"
   ]
  },
  {
   "cell_type": "code",
   "execution_count": 1,
   "metadata": {
    "collapsed": true
   },
   "outputs": [],
   "source": [
    "import plotly.plotly as py\n",
    "import plotly.graph_objs as go"
   ]
  },
  {
   "cell_type": "code",
   "execution_count": 2,
   "metadata": {
    "collapsed": true
   },
   "outputs": [],
   "source": [
    "import pandas as pd\n",
    "import matplotlib.pyplot as plt\n",
    "\n",
    "us_marriage_divorce_data = pd.read_csv('C:/Users/Girijesh/Desktop/DV- Assign/A5/us-marriages-divorces-1867-2014.csv')\n",
    "# print(us_marriage_divorce_data.columns)\n",
    "\n",
    "# print(us_marriage_divorce_data.describe())\n",
    "\n",
    "#Missing values\n",
    "# print(us_marriage_divorce_data.info())\n",
    "\n",
    "\n",
    "us_marriage_divorce_data.dropna(how= 'any', axis=0, inplace=True)\n",
    "# print(us_marriage_divorce_data.info())\n",
    "years = us_marriage_divorce_data['Year'].values\n",
    "marriages_per_capita = us_marriage_divorce_data['Marriages_per_1000'].values\n",
    "divorces_per_capita = us_marriage_divorce_data['Divorces_per_1000'].values\n"
   ]
  },
  {
   "cell_type": "code",
   "execution_count": 3,
   "metadata": {
    "scrolled": true
   },
   "outputs": [
    {
     "data": {
      "text/html": [
       "<iframe id=\"igraph\" scrolling=\"no\" style=\"border:none;\" seamless=\"seamless\" src=\"https://plot.ly/~HimanshuGupta/6.embed\" height=\"525px\" width=\"100%\"></iframe>"
      ],
      "text/plain": [
       "<plotly.tools.PlotlyDisplay object>"
      ]
     },
     "execution_count": 3,
     "metadata": {},
     "output_type": "execute_result"
    }
   ],
   "source": [
    "#Create Traces and style traces:\n",
    "trace_0= go.Scatter(\n",
    "    x= years,\n",
    "    y = marriages_per_capita,\n",
    "    name = 'Marriages_per_1000',\n",
    "    mode = 'lines', # line style\n",
    "    connectgaps = True, # Connects gaps \n",
    "    line = dict(                            #Styling of lines\n",
    "        color = ('rgb(205, 12, 24)'),       # color of line \n",
    "        width = 4),                         #width of line\n",
    "\n",
    "       )\n",
    "\n",
    "trace_1 = go.Scatter(\n",
    "    x= years,\n",
    "    y = divorces_per_capita,\n",
    "    name = 'Divorces_per_1000',\n",
    "    mode = 'lines+markers',\n",
    "    line = dict(                                \n",
    "        color = ('rgb(22, 96, 167)'),\n",
    "        width = 4),\n",
    "        \n",
    "        )\n",
    "    \n",
    "layout_1 = dict(title = 'Marriages and Divorces per 100',              # labelling of axis\n",
    "              xaxis = dict(title = 'Years'),\n",
    "              yaxis = dict(title = 'Number of Marriages and Divorces'),\n",
    "             )\n",
    "data = [trace_0, trace_1]     # all the plots are kept\n",
    "fig = dict(data= data, layout = layout_1)\n",
    "py.iplot(fig, filename= 'styled-line')"
   ]
  },
  {
   "cell_type": "markdown",
   "metadata": {},
   "source": [
    "### Vertical Bar Chart\n",
    "\n",
    "Create a vertical bar chart comparing the number of marriages and divorces per capita in the U.S. between 1900, 1950, and 2000.\n",
    "\n",
    "Don't forget to label your axes!"
   ]
  },
  {
   "cell_type": "code",
   "execution_count": 75,
   "metadata": {
    "collapsed": true
   },
   "outputs": [],
   "source": [
    "import pandas as pd\n",
    "import seaborn as sns\n",
    "import matplotlib.pyplot as plt\n",
    "%matplotlib inline\n",
    "\n",
    "us_marriage_divorce_data_Q2 = us_marriage_divorce_data[\n",
    "    us_marriage_divorce_data['Year'].apply(lambda x: x in [1900, 1950, 2000])]\n",
    "\n",
    "years = us_marriage_divorce_data_Q2['Year'].values\n",
    "marriages_per_capita = us_marriage_divorce_data_Q2['Marriages_per_1000'].values\n",
    "divorces_per_capita = us_marriage_divorce_data_Q2['Divorces_per_1000'].values"
   ]
  },
  {
   "cell_type": "code",
   "execution_count": 84,
   "metadata": {},
   "outputs": [
    {
     "data": {
      "text/plain": [
       "array([ 0.35,  1.35,  2.35,  3.35,  4.35])"
      ]
     },
     "execution_count": 84,
     "metadata": {},
     "output_type": "execute_result"
    }
   ],
   "source": [
    "import numpy as np\n",
    "np.arange(5) + 0.35"
   ]
  },
  {
   "cell_type": "code",
   "execution_count": 128,
   "metadata": {},
   "outputs": [
    {
     "data": {
      "image/png": "[encoded data removed]",
      "text/plain": [
       "<matplotlib.figure.Figure at 0xd89fff9b0>"
      ]
     },
     "metadata": {},
     "output_type": "display_data"
    }
   ],
   "source": [
    "plt.style.use('ggplot')\n",
    "ind = np.arange(3)\n",
    "width = 0.35\n",
    "plt.figure(figsize=(16,8))\n",
    "plt.bar(ind, marriages_per_capita, width, label = 'Marriages', color = 'blue', alpha = 0.7)\n",
    "plt.bar(ind + width, divorces_per_capita, width, label = 'Divorces', color = 'red', alpha = 0.65)\n",
    "plt.xlabel('Year', fontsize = 16)\n",
    "plt.ylabel('Avg.Counts', fontsize = 16)\n",
    "plt.title(\"Avg. Marriages/Divorces in a 100 years\", fontsize = 20)\n",
    "plt.xticks(ind + width/2, ('1900' , '1950', '2000'))\n",
    "plt.legend(loc = 'best')\n",
    "plt.show()"
   ]
  },
  {
   "cell_type": "markdown",
   "metadata": {},
   "source": [
    "### Horizontal Bar Chart\n",
    "\n",
    "Create a horizontal bar chart that compares the deadliest actors in Hollywood. Sort the actors by their kill count and label each bar with the corresponding actor's name.\n",
    "\n",
    "Don't forget to label your axes!\n",
    "\n",
    "For reference, here's the raw data:"
   ]
  },
  {
   "cell_type": "code",
   "execution_count": 108,
   "metadata": {},
   "outputs": [
    {
     "data": {
      "text/html": [
       "<div>\n",
       "<style>\n",
       "    .dataframe thead tr:only-child th {\n",
       "        text-align: right;\n",
       "    }\n",
       "\n",
       "    .dataframe thead th {\n",
       "        text-align: left;\n",
       "    }\n",
       "\n",
       "    .dataframe tbody tr th {\n",
       "        vertical-align: top;\n",
       "    }\n",
       "</style>\n",
       "<table border=\"1\" class=\"dataframe\">\n",
       "  <thead>\n",
       "    <tr style=\"text-align: right;\">\n",
       "      <th></th>\n",
       "      <th>Actor</th>\n",
       "      <th>Count</th>\n",
       "    </tr>\n",
       "  </thead>\n",
       "  <tbody>\n",
       "    <tr>\n",
       "      <th>0</th>\n",
       "      <td>Arnold Schwarzenegger</td>\n",
       "      <td>369</td>\n",
       "    </tr>\n",
       "    <tr>\n",
       "      <th>1</th>\n",
       "      <td>Chow Yun-Fat</td>\n",
       "      <td>295</td>\n",
       "    </tr>\n",
       "    <tr>\n",
       "      <th>2</th>\n",
       "      <td>Clint Eastwood</td>\n",
       "      <td>207</td>\n",
       "    </tr>\n",
       "    <tr>\n",
       "      <th>3</th>\n",
       "      <td>Clive Owen</td>\n",
       "      <td>194</td>\n",
       "    </tr>\n",
       "    <tr>\n",
       "      <th>4</th>\n",
       "      <td>Dolph Lundgren</td>\n",
       "      <td>239</td>\n",
       "    </tr>\n",
       "    <tr>\n",
       "      <th>5</th>\n",
       "      <td>Jet Li</td>\n",
       "      <td>201</td>\n",
       "    </tr>\n",
       "    <tr>\n",
       "      <th>6</th>\n",
       "      <td>Nicolas Cage</td>\n",
       "      <td>204</td>\n",
       "    </tr>\n",
       "    <tr>\n",
       "      <th>7</th>\n",
       "      <td>Sylvester Stallone</td>\n",
       "      <td>267</td>\n",
       "    </tr>\n",
       "    <tr>\n",
       "      <th>8</th>\n",
       "      <td>Tomisaburo Wakayama</td>\n",
       "      <td>226</td>\n",
       "    </tr>\n",
       "    <tr>\n",
       "      <th>9</th>\n",
       "      <td>Wesley Snipes</td>\n",
       "      <td>193</td>\n",
       "    </tr>\n",
       "  </tbody>\n",
       "</table>\n",
       "</div>"
      ],
      "text/plain": [
       "                   Actor  Count\n",
       "0  Arnold Schwarzenegger    369\n",
       "1           Chow Yun-Fat    295\n",
       "2         Clint Eastwood    207\n",
       "3             Clive Owen    194\n",
       "4         Dolph Lundgren    239\n",
       "5                 Jet Li    201\n",
       "6           Nicolas Cage    204\n",
       "7     Sylvester Stallone    267\n",
       "8    Tomisaburo Wakayama    226\n",
       "9          Wesley Snipes    193"
      ]
     },
     "execution_count": 108,
     "metadata": {},
     "output_type": "execute_result"
    }
   ],
   "source": [
    "import pandas as pd\n",
    "hollywood_actor_kills = pd.read_csv('C:/Users/Girijesh/Desktop/DV- Assign/A5/actor_kill_counts.csv')"
   ]
  },
  {
   "cell_type": "code",
   "execution_count": 114,
   "metadata": {},
   "outputs": [
    {
     "name": "stdout",
     "output_type": "stream",
     "text": [
      "0 Nuclear\n",
      "1 Hydro\n",
      "2 Gas\n",
      "3 Oil\n",
      "4 Coal\n",
      "5 Biofuel\n"
     ]
    }
   ],
   "source": [
    "import pandas as pd\n",
    "\n",
    "actor_names = hollywood_actor_kills['Actor'].values\n",
    "kill_counts = hollywood_actor_kills['Count'].values "
   ]
  },
  {
   "cell_type": "code",
   "execution_count": 127,
   "metadata": {},
   "outputs": [
    {
     "data": {
      "image/png": "[encoded data removed]",
      "text/plain": [
       "<matplotlib.figure.Figure at 0xd89d2cf28>"
      ]
     },
     "metadata": {},
     "output_type": "display_data"
    }
   ],
   "source": [
    "x_pos = [i for i,_ in enumerate(actor_names)]\n",
    "plt.figure(figsize=(16,8), dpi=80, facecolor='w', edgecolor='k')\n",
    "plt.barh(x_pos, kill_counts, color = 'green', alpha = 0.6)\n",
    "plt.yticks(x_pos, actor_names)\n",
    "plt.title(\"Actor Kill Counts\", fontsize = 20)\n",
    "plt.xlabel('Counts', fontsize = 16)\n",
    "plt.ylabel('Actors', fontsize= 16)\n",
    "# plt.legend(loc= 'best')\n",
    "plt.show()"
   ]
  },
  {
   "cell_type": "markdown",
   "metadata": {},
   "source": [
    "### Pie Chart\n",
    "\n",
    "Create a pie chart showing the fraction of all Roman Emperors that were assassinated.\n",
    "\n",
    "Make sure that the pie chart is an even circle, labels the categories, and shows the percentage breakdown of the categories."
   ]
  },
  {
   "cell_type": "code",
   "execution_count": 144,
   "metadata": {},
   "outputs": [
    {
     "data": {
      "image/png": "[encoded data removed]",
      "text/plain": [
       "<matplotlib.figure.Figure at 0xd8a2c9b70>"
      ]
     },
     "metadata": {},
     "output_type": "display_data"
    }
   ],
   "source": [
    "import pandas as pd\n",
    "\n",
    "roman_emperors = pd.read_csv('C:/Users/Girijesh/Desktop/DV- Assign/A5/roman-emperor-reigns.csv')\n",
    "assassinated_emperors = roman_emperors[\n",
    "    roman_emperors['Cause_of_Death'].apply(lambda x: 'assassinated' in x.lower())]\n",
    "\n",
    "number_assassinated = len(assassinated_emperors)\n",
    "other_deaths = len(roman_emperors) - number_assassinated\n",
    "[number_assassinated, other_deaths]\n",
    "df = pd.DataFrame([other_deaths, number_assassinated], index= ['assassinated', 'other_deaths'], columns=['Kills'])\n",
    "df.plot(kind = 'pie',subplots=True, figsize = (8,8), fontsize= 18)\n",
    "plt.title('Kills')\n",
    "plt.show()"
   ]
  },
  {
   "cell_type": "markdown",
   "metadata": {},
   "source": [
    "### Scatter Plot\n",
    "\n",
    "Create a scatter plot showing the relationship between the total revenue earned by arcades and the number of Computer Science PhDs awarded in the U.S. between 2000 and 2009.\n",
    "\n",
    "Don't forget to label your axes!\n",
    "\n",
    "Color each dot according to its year."
   ]
  },
  {
   "cell_type": "code",
   "execution_count": 4,
   "metadata": {},
   "outputs": [],
   "source": [
    "import pandas as pd\n",
    "\n",
    "arcade_revenue_cs_doctorates = pd.read_csv('C:/Users/Girijesh/Desktop/DV- Assign/A5/arcade-revenue-vs-cs-doctorates.csv')\n",
    "arcade_revenue = arcade_revenue_cs_doctorates['Total Arcade Revenue (billions)'].values\n",
    "cs_doctorates_awarded = arcade_revenue_cs_doctorates[\n",
    "    'Computer Science Doctorates Awarded (US)'].values"
   ]
  },
  {
   "cell_type": "code",
   "execution_count": 5,
   "metadata": {},
   "outputs": [
    {
     "data": {
      "text/html": [
       "<iframe id=\"igraph\" scrolling=\"no\" style=\"border:none;\" seamless=\"seamless\" src=\"https://plot.ly/~HimanshuGupta/8.embed\" height=\"525px\" width=\"100%\"></iframe>"
      ],
      "text/plain": [
       "<plotly.tools.PlotlyDisplay object>"
      ]
     },
     "execution_count": 5,
     "metadata": {},
     "output_type": "execute_result"
    }
   ],
   "source": [
    "#Create a trace\n",
    "trace0 = go.Scatter(\n",
    "    x= arcade_revenue,\n",
    "    y = cs_doctorates_awarded, \n",
    "    mode  = 'markers',\n",
    "    marker = dict(\n",
    "        size = 12,\n",
    "        color = arcade_revenue_cs_doctorates.Year,\n",
    "         colorscale  = 'Viridis',\n",
    "        showscale  = True,\n",
    "        line = dict(\n",
    "             width = 1,\n",
    "             color = arcade_revenue_cs_doctorates.Year\n",
    "        )\n",
    "    )\n",
    ")\n",
    "\n",
    "layout1 = dict(title  = 'PHDs v/s Total Revenue given', \n",
    "             xaxis = dict(title = 'Revenue in Bn (US$)'),\n",
    "             yaxis = dict(title = 'Computer Science Doctorates Awarded '),\n",
    "             )\n",
    "\n",
    "\n",
    "data = [trace0]\n",
    "fig =dict(data= data, layout = layout1)\n",
    "#Plot \n",
    "py.iplot(fig, filename = 'scatterplot')"
   ]
  },
  {
   "cell_type": "markdown",
   "metadata": {},
   "source": [
    "### Histogram\n",
    "\n",
    "Create a histogram showing the distribution of the Roman Emperor's reign lengths.\n",
    "\n",
    "What does this distribution tell you?"
   ]
  },
  {
   "cell_type": "code",
   "execution_count": 181,
   "metadata": {},
   "outputs": [
    {
     "data": {
      "text/html": [
       "<div>\n",
       "<style>\n",
       "    .dataframe thead tr:only-child th {\n",
       "        text-align: right;\n",
       "    }\n",
       "\n",
       "    .dataframe thead th {\n",
       "        text-align: left;\n",
       "    }\n",
       "\n",
       "    .dataframe tbody tr th {\n",
       "        vertical-align: top;\n",
       "    }\n",
       "</style>\n",
       "<table border=\"1\" class=\"dataframe\">\n",
       "  <thead>\n",
       "    <tr style=\"text-align: right;\">\n",
       "      <th></th>\n",
       "      <th>Emperor</th>\n",
       "      <th>Length_of_Reign</th>\n",
       "      <th>Cause_of_Death</th>\n",
       "    </tr>\n",
       "  </thead>\n",
       "  <tbody>\n",
       "    <tr>\n",
       "      <th>0</th>\n",
       "      <td>Augustus</td>\n",
       "      <td>40.58</td>\n",
       "      <td>Possibly assassinated</td>\n",
       "    </tr>\n",
       "    <tr>\n",
       "      <th>1</th>\n",
       "      <td>Tiberius</td>\n",
       "      <td>22.50</td>\n",
       "      <td>Possibly assassinated</td>\n",
       "    </tr>\n",
       "    <tr>\n",
       "      <th>2</th>\n",
       "      <td>Caligula</td>\n",
       "      <td>4.83</td>\n",
       "      <td>Assassinated</td>\n",
       "    </tr>\n",
       "    <tr>\n",
       "      <th>3</th>\n",
       "      <td>Claudius</td>\n",
       "      <td>13.75</td>\n",
       "      <td>Possibly assassinated</td>\n",
       "    </tr>\n",
       "  </tbody>\n",
       "</table>\n",
       "</div>"
      ],
      "text/plain": [
       "    Emperor  Length_of_Reign         Cause_of_Death\n",
       "0  Augustus            40.58  Possibly assassinated\n",
       "1  Tiberius            22.50  Possibly assassinated\n",
       "2  Caligula             4.83           Assassinated\n",
       "3  Claudius            13.75  Possibly assassinated"
      ]
     },
     "execution_count": 181,
     "metadata": {},
     "output_type": "execute_result"
    }
   ],
   "source": [
    "import pandas as pd\n",
    "\n",
    "roman_emperors = pd.read_csv('C:/Users/Girijesh/Desktop/DV- Assign/A5/roman-emperor-reigns.csv')\n",
    "roman_emperor_reign_lengths = roman_emperors['Length_of_Reign'].values\n",
    "roman_emperors.head(4)"
   ]
  },
  {
   "cell_type": "code",
   "execution_count": 194,
   "metadata": {},
   "outputs": [
    {
     "data": {
      "text/plain": [
       "<matplotlib.axes._subplots.AxesSubplot at 0xd8b7f7278>"
      ]
     },
     "execution_count": 194,
     "metadata": {},
     "output_type": "execute_result"
    },
    {
     "data": {
      "image/png": "[encoded data removed]",
      "text/plain": [
       "<matplotlib.figure.Figure at 0xd8b7f72e8>"
      ]
     },
     "metadata": {},
     "output_type": "display_data"
    }
   ],
   "source": [
    "plt.figure(figsize = (16,8), edgecolor = 'k', facecolor = 'w')\n",
    "plt.title(\"Distribution of Roman Emperor's reign\", fontsize = 20)\n",
    "plt.xlabel(\"Reign bins\", fontsize = 16)\n",
    "plt.ylabel(\"Probability\", fontsize = 16)\n",
    "sns.distplot(roman_emperor_reign_lengths, hist= True, bins= 5, rug= True)\n",
    "\n",
    "## Shows the Emperor reign has the highest frequency or highest density around 5-6 years"
   ]
  },
  {
   "cell_type": "markdown",
   "metadata": {},
   "source": [
    "### Box Plots\n",
    "Create two box plots to compare the earnings of recent college graduates in majors that are primarily composed of women to the earnings of recent college graduates in majors that are primarily composed of men.\n",
    "\n",
    "Does there appear to be a significant difference? (Hint: Use notches.)\n",
    "\n",
    "Remember to label the categories!"
   ]
  },
  {
   "cell_type": "code",
   "execution_count": 8,
   "metadata": {
    "collapsed": true
   },
   "outputs": [],
   "source": [
    "import pandas as pd\n",
    "\n",
    "college_major_earnings = pd.read_csv('C:/Users/Girijesh/Desktop/DV- Assign/A5/recent-college-grads-earnings.csv')\n",
    "more_men_earnings = college_major_earnings[\n",
    "    college_major_earnings['ShareWomen'] < 0.5]['Median'].values\n",
    "\n",
    "more_women_earnings = college_major_earnings[\n",
    "    college_major_earnings['ShareWomen'] > 0.5]['Median'].values\n"
   ]
  },
  {
   "cell_type": "code",
   "execution_count": 9,
   "metadata": {},
   "outputs": [
    {
     "data": {
      "text/html": [
       "<iframe id=\"igraph\" scrolling=\"no\" style=\"border:none;\" seamless=\"seamless\" src=\"https://plot.ly/~HimanshuGupta/26.embed\" height=\"525px\" width=\"100%\"></iframe>"
      ],
      "text/plain": [
       "<plotly.tools.PlotlyDisplay object>"
      ]
     },
     "execution_count": 9,
     "metadata": {},
     "output_type": "execute_result"
    }
   ],
   "source": [
    "trace_men = go.Box(\n",
    "    y = more_men_earnings,\n",
    "    boxpoints = 'all',\n",
    "    jitter = 0.3,\n",
    "    pointpos = -1.8,\n",
    "    name = 'Men', \n",
    "    boxmean = True,\n",
    "    marker = dict(\n",
    "        color = 'rgb(152, 122, 111)')\n",
    ")\n",
    "\n",
    "trace_women = go.Box(\n",
    "    y = more_women_earnings, \n",
    "    boxpoints = 'all', \n",
    "    jitter = 0.3,\n",
    "    pointpos = 1.8, \n",
    "    name = 'Women', \n",
    "    boxmean = True, \n",
    "    marker = dict(\n",
    "    color = 'rgb(222, 162, 111)')\n",
    ")\n",
    "data = [trace_men, trace_women]\n",
    "layout_1 = dict(title = 'Comparision of salary with dominant men Majors v/s women Majors', \n",
    "               xaxis = dict(title = 'Sex'), \n",
    "               yaxis = dict(title = 'Salary')\n",
    "               )\n",
    "fig = dict(data = data, layout = layout_1)\n",
    "py.iplot(fig, filename = 'Boxplot')"
   ]
  },
  {
   "cell_type": "markdown",
   "metadata": {},
   "source": [
    "### Subplots\n",
    "\n",
    "Use subplots to create a figure with two sepate line plots showing the number of marriages and divorces per capita in the U.S. between 1867 and 2014. Place the two line plots on top of each other so the years line up.\n",
    "\n",
    "Don't forget to label your axes!"
   ]
  },
  {
   "cell_type": "code",
   "execution_count": 268,
   "metadata": {
    "collapsed": true
   },
   "outputs": [],
   "source": [
    "import pandas as pd\n",
    "\n",
    "us_marriage_divorce_data = pd.read_csv('C:/Users/Girijesh/Desktop/DV- Assign/A5/us-marriages-divorces-1867-2014.csv')\n",
    "years = us_marriage_divorce_data['Year'].values\n",
    "marriages_per_capita = us_marriage_divorce_data['Marriages_per_1000'].values\n",
    "divorces_per_capita = us_marriage_divorce_data['Divorces_per_1000'].values\n",
    "\n"
   ]
  },
  {
   "cell_type": "code",
   "execution_count": 284,
   "metadata": {},
   "outputs": [
    {
     "name": "stdout",
     "output_type": "stream",
     "text": [
      "This is the format of your plot grid:\n",
      "[ (1,1) x1,y1 ]\n",
      "[ (2,1) x2,y2 ]\n",
      "\n"
     ]
    },
    {
     "data": {
      "text/html": [
       "<iframe id=\"igraph\" scrolling=\"no\" style=\"border:none;\" seamless=\"seamless\" src=\"https://plot.ly/~HimanshuGupta/6.embed\" height=\"600px\" width=\"1200px\"></iframe>"
      ],
      "text/plain": [
       "<plotly.tools.PlotlyDisplay object>"
      ]
     },
     "execution_count": 284,
     "metadata": {},
     "output_type": "execute_result"
    }
   ],
   "source": [
    "from plotly import tools\n",
    "#Create Traces and style traces:\n",
    "trace_0= go.Scatter(\n",
    "    x= years,\n",
    "    y = marriages_per_capita,\n",
    "    name = 'Marriages_per_1000',\n",
    "    mode = 'lines', # line style\n",
    "    line = dict(                            #Styling of lines\n",
    "        color = ('rgb(205, 12, 24)'),       # color of line \n",
    "        width = 4),                         #width of line\n",
    "\n",
    "       )\n",
    "\n",
    "trace_1 = go.Scatter(\n",
    "    x= years,\n",
    "    y = divorces_per_capita,\n",
    "    name = 'Divorces_per_1000',\n",
    "    mode = 'lines+markers',\n",
    "    line = dict(                                \n",
    "        color = ('rgb(22, 96, 167)'),\n",
    "        width = 4),\n",
    "        \n",
    "        )\n",
    "    \n",
    "fig = tools.make_subplots(rows = 2, cols = 1, subplot_titles = ('Marriage per 1000', 'Divorce per 1000'))\n",
    "\n",
    "fig.append_trace(trace_0, 1,1)\n",
    "fig.append_trace(trace_1, 2, 1)\n",
    "\n",
    "\n",
    "# layout_1 = dict(title = 'Marriages and Divorces per 1000',              # labelling of axis\n",
    "#               xaxis = dict(title = 'Years'),\n",
    "#               yaxis = dict(title = 'Number of Marriages and Divorces'),\n",
    "#              )\n",
    "    # all the plots are kept\n",
    "# fig['layout'] = layout_1\n",
    "fig['layout']['xaxis1'].update(title = 'Year', showgrid = True)\n",
    "fig['layout']['xaxis2'].update(title = 'Year')\n",
    "\n",
    "fig['layout']['yaxis1'].update(title = 'Marriages')\n",
    "fig['layout']['yaxis2'].update(title = 'Divorces')\n",
    "fig['layout'].update(height = 600, width = 1200, title = 'Multiple subplots with titles')\n",
    "py.iplot(fig, filename= 'styled-line')"
   ]
  },
  {
   "cell_type": "markdown",
   "metadata": {},
   "source": [
    "### Multiple Plots\n",
    "\n",
    "Use small multiples to compare the trends in gender ratio of 17 U.S. college majors between 1970 and 2011. Make sure all of the subplots have the same axes and ranges.\n",
    "\n",
    "Only label the y-axes of the subplots on the left; only label the x-axes of the subplots on the bottom."
   ]
  },
  {
   "cell_type": "code",
   "execution_count": 6,
   "metadata": {
    "collapsed": true
   },
   "outputs": [],
   "source": [
    "import pandas as pd\n",
    "\n",
    "degree_gender_ratio = pd.read_csv('C:/Users/Girijesh/Desktop/DV- Assign/A5/percent-degrees-conferred-women-usa.csv')\n",
    "years = degree_gender_ratio['Year'].values\n",
    "degree_gender_ratios = {}\n",
    "\n",
    "for degree in degree_gender_ratio.columns.drop('Year'):\n",
    "    degree_gender_ratios[degree] = degree_gender_ratio[degree].values\n",
    "# degree_gender_ratio"
   ]
  },
  {
   "cell_type": "code",
   "execution_count": 7,
   "metadata": {},
   "outputs": [
    {
     "data": {
      "text/html": [
       "<iframe id=\"igraph\" scrolling=\"no\" style=\"border:none;\" seamless=\"seamless\" src=\"https://plot.ly/~HimanshuGupta/28.embed\" height=\"525px\" width=\"100%\"></iframe>"
      ],
      "text/plain": [
       "<plotly.tools.PlotlyDisplay object>"
      ]
     },
     "execution_count": 7,
     "metadata": {},
     "output_type": "execute_result"
    }
   ],
   "source": [
    "#Create Trace\n",
    "data = []\n",
    "for col in degree_gender_ratio.columns.drop('Year'):\n",
    "    name= \"trace_\" + str(col)\n",
    "    name = go.Scatter(\n",
    "        x = years,\n",
    "        y = degree_gender_ratios[col],\n",
    "        name = str(col), \n",
    "    )\n",
    "    data.append(name)\n",
    "\n",
    "layout_x = dict(title = 'Gender Ratio comparision in many Majors', \n",
    "             xaxis = dict(title = 'Time Series'), \n",
    "             yaxis = dict(title = 'Female Percentage'))\n",
    "fig = dict(data = data, layout = layout_x)\n",
    "py.iplot(fig, filename = 'Timeseries')"
   ]
  },
  {
   "cell_type": "markdown",
   "metadata": {
    "collapsed": true
   },
   "source": [
    "# Problem 10: {Using the data from Problem 9}"
   ]
  },
  {
   "cell_type": "code",
   "execution_count": 266,
   "metadata": {},
   "outputs": [
    {
     "data": {
      "text/html": [
       "<div>\n",
       "<style>\n",
       "    .dataframe thead tr:only-child th {\n",
       "        text-align: right;\n",
       "    }\n",
       "\n",
       "    .dataframe thead th {\n",
       "        text-align: left;\n",
       "    }\n",
       "\n",
       "    .dataframe tbody tr th {\n",
       "        vertical-align: top;\n",
       "    }\n",
       "</style>\n",
       "<table border=\"1\" class=\"dataframe\">\n",
       "  <thead>\n",
       "    <tr style=\"text-align: right;\">\n",
       "      <th></th>\n",
       "      <th>Year</th>\n",
       "      <th>Agriculture</th>\n",
       "      <th>Architecture</th>\n",
       "      <th>Art and Performance</th>\n",
       "      <th>Biology</th>\n",
       "      <th>Business</th>\n",
       "      <th>Communications and Journalism</th>\n",
       "      <th>Computer Science</th>\n",
       "      <th>Education</th>\n",
       "      <th>Engineering</th>\n",
       "      <th>English</th>\n",
       "      <th>Foreign Languages</th>\n",
       "      <th>Health Professions</th>\n",
       "      <th>Math and Statistics</th>\n",
       "      <th>Physical Sciences</th>\n",
       "      <th>Psychology</th>\n",
       "      <th>Public Administration</th>\n",
       "      <th>Social Sciences and History</th>\n",
       "    </tr>\n",
       "  </thead>\n",
       "  <tbody>\n",
       "    <tr>\n",
       "      <th>0</th>\n",
       "      <td>1970</td>\n",
       "      <td>4.229798</td>\n",
       "      <td>11.921005</td>\n",
       "      <td>59.7</td>\n",
       "      <td>29.088363</td>\n",
       "      <td>9.064439</td>\n",
       "      <td>35.3</td>\n",
       "      <td>13.6</td>\n",
       "      <td>74.535328</td>\n",
       "      <td>0.8</td>\n",
       "      <td>65.570923</td>\n",
       "      <td>73.8</td>\n",
       "      <td>77.1</td>\n",
       "      <td>38.0</td>\n",
       "      <td>13.8</td>\n",
       "      <td>44.4</td>\n",
       "      <td>68.4</td>\n",
       "      <td>36.8</td>\n",
       "    </tr>\n",
       "    <tr>\n",
       "      <th>1</th>\n",
       "      <td>1971</td>\n",
       "      <td>5.452797</td>\n",
       "      <td>12.003106</td>\n",
       "      <td>59.9</td>\n",
       "      <td>29.394403</td>\n",
       "      <td>9.503187</td>\n",
       "      <td>35.5</td>\n",
       "      <td>13.6</td>\n",
       "      <td>74.149204</td>\n",
       "      <td>1.0</td>\n",
       "      <td>64.556485</td>\n",
       "      <td>73.9</td>\n",
       "      <td>75.5</td>\n",
       "      <td>39.0</td>\n",
       "      <td>14.9</td>\n",
       "      <td>46.2</td>\n",
       "      <td>65.5</td>\n",
       "      <td>36.2</td>\n",
       "    </tr>\n",
       "    <tr>\n",
       "      <th>2</th>\n",
       "      <td>1972</td>\n",
       "      <td>7.420710</td>\n",
       "      <td>13.214594</td>\n",
       "      <td>60.4</td>\n",
       "      <td>29.810221</td>\n",
       "      <td>10.558962</td>\n",
       "      <td>36.6</td>\n",
       "      <td>14.9</td>\n",
       "      <td>73.554520</td>\n",
       "      <td>1.2</td>\n",
       "      <td>63.664263</td>\n",
       "      <td>74.6</td>\n",
       "      <td>76.9</td>\n",
       "      <td>40.2</td>\n",
       "      <td>14.8</td>\n",
       "      <td>47.6</td>\n",
       "      <td>62.6</td>\n",
       "      <td>36.1</td>\n",
       "    </tr>\n",
       "    <tr>\n",
       "      <th>3</th>\n",
       "      <td>1973</td>\n",
       "      <td>9.653602</td>\n",
       "      <td>14.791613</td>\n",
       "      <td>60.2</td>\n",
       "      <td>31.147915</td>\n",
       "      <td>12.804602</td>\n",
       "      <td>38.4</td>\n",
       "      <td>16.4</td>\n",
       "      <td>73.501814</td>\n",
       "      <td>1.6</td>\n",
       "      <td>62.941502</td>\n",
       "      <td>74.9</td>\n",
       "      <td>77.4</td>\n",
       "      <td>40.9</td>\n",
       "      <td>16.5</td>\n",
       "      <td>50.4</td>\n",
       "      <td>64.3</td>\n",
       "      <td>36.4</td>\n",
       "    </tr>\n",
       "  </tbody>\n",
       "</table>\n",
       "</div>"
      ],
      "text/plain": [
       "   Year  Agriculture  Architecture  Art and Performance    Biology   Business  \\\n",
       "0  1970     4.229798     11.921005                 59.7  29.088363   9.064439   \n",
       "1  1971     5.452797     12.003106                 59.9  29.394403   9.503187   \n",
       "2  1972     7.420710     13.214594                 60.4  29.810221  10.558962   \n",
       "3  1973     9.653602     14.791613                 60.2  31.147915  12.804602   \n",
       "\n",
       "   Communications and Journalism  Computer Science  Education  Engineering  \\\n",
       "0                           35.3              13.6  74.535328          0.8   \n",
       "1                           35.5              13.6  74.149204          1.0   \n",
       "2                           36.6              14.9  73.554520          1.2   \n",
       "3                           38.4              16.4  73.501814          1.6   \n",
       "\n",
       "     English  Foreign Languages  Health Professions  Math and Statistics  \\\n",
       "0  65.570923               73.8                77.1                 38.0   \n",
       "1  64.556485               73.9                75.5                 39.0   \n",
       "2  63.664263               74.6                76.9                 40.2   \n",
       "3  62.941502               74.9                77.4                 40.9   \n",
       "\n",
       "   Physical Sciences  Psychology  Public Administration  \\\n",
       "0               13.8        44.4                   68.4   \n",
       "1               14.9        46.2                   65.5   \n",
       "2               14.8        47.6                   62.6   \n",
       "3               16.5        50.4                   64.3   \n",
       "\n",
       "   Social Sciences and History  \n",
       "0                         36.8  \n",
       "1                         36.2  \n",
       "2                         36.1  \n",
       "3                         36.4  "
      ]
     },
     "execution_count": 266,
     "metadata": {},
     "output_type": "execute_result"
    }
   ],
   "source": [
    "degree_gender_ratio.head(4)"
   ]
  },
  {
   "cell_type": "code",
   "execution_count": 295,
   "metadata": {},
   "outputs": [
    {
     "data": {
      "text/plain": [
       "Index(['Agriculture', 'Architecture', 'Art and Performance', 'Biology',\n",
       "       'Business', 'Communications and Journalism', 'Computer Science',\n",
       "       'Education', 'Engineering', 'English', 'Foreign Languages',\n",
       "       'Health Professions', 'Math and Statistics', 'Physical Sciences',\n",
       "       'Psychology', 'Public Administration', 'Social Sciences and History'],\n",
       "      dtype='object')"
      ]
     },
     "execution_count": 295,
     "metadata": {},
     "output_type": "execute_result"
    }
   ],
   "source": [
    "ary = degree_gender_ratio.drop('Year', axis=1).values\n",
    "col_names = degree_gender_ratio.columns.drop('Year')\n",
    "\n",
    "col_names"
   ]
  },
  {
   "cell_type": "code",
   "execution_count": 298,
   "metadata": {},
   "outputs": [
    {
     "data": {
      "text/html": [
       "<iframe id=\"igraph\" scrolling=\"no\" style=\"border:none;\" seamless=\"seamless\" src=\"https://plot.ly/~HimanshuGupta/30.embed\" height=\"525px\" width=\"100%\"></iframe>"
      ],
      "text/plain": [
       "<plotly.tools.PlotlyDisplay object>"
      ]
     },
     "execution_count": 298,
     "metadata": {},
     "output_type": "execute_result"
    }
   ],
   "source": [
    "trace_0 = go.Heatmap(\n",
    "    z = ary,\n",
    "    x = col_names,\n",
    "    y = degree_gender_ratio.Year)\n",
    "layout = dict(title =  \"Heatmap of Women in various field over the field\", \n",
    "             xaxis = dict(title =  \"Majors\"), \n",
    "             yaxis = dict(title = \"Years\"))\n",
    "data = [trace_0]\n",
    "fig = dict(data = data, layout = layout)\n",
    "py.iplot(fig, filename = 'Heatmap')"
   ]
  },
  {
   "cell_type": "code",
   "execution_count": null,
   "metadata": {
    "collapsed": true
   },
   "outputs": [],
   "source": [
    "\n"
   ]
  }
 ],
 "metadata": {
  "kernelspec": {
   "display_name": "Python 3",
   "language": "python",
   "name": "python3"
  },
  "language_info": {
   "codemirror_mode": {
    "name": "ipython",
    "version": 3
   },
   "file_extension": ".py",
   "mimetype": "text/x-python",
   "name": "python",
   "nbconvert_exporter": "python",
   "pygments_lexer": "ipython3",
   "version": "3.6.1"
  }
 },
 "nbformat": 4,
 "nbformat_minor": 1
}
