{
 "cells": [
  {
   "cell_type": "markdown",
   "metadata": {},
   "source": [
    "# Part1 : Data wrangling\n",
    "\n",
    "## Data Download and pre-processing"
   ]
  },
  {
   "cell_type": "code",
   "execution_count": 3,
   "metadata": {},
   "outputs": [],
   "source": [
    "import requests\n",
    "from robobrowser import RoboBrowser\n",
    "from bs4 import BeautifulSoup\n",
    "import re\n",
    "from lxml import html\n",
    "import pathlib\n",
    "import time\n",
    "import zipfile\n",
    "import io\n",
    "\n",
    "import warnings\n",
    "warnings.filterwarnings('ignore')\n"
   ]
  },
  {
   "cell_type": "code",
   "execution_count": 62,
   "metadata": {
    "scrolled": false
   },
   "outputs": [
    {
     "data": {
      "text/plain": [
       "<RequestsCookieJar[Cookie(version=0, name='PHPSESSID', value='coi5qgifs73jt8tc25fhogtlj0', port=None, port_specified=False, domain='freddiemac.embs.com', domain_specified=False, domain_initial_dot=False, path='/', path_specified=True, secure=True, expires=None, discard=True, comment=None, comment_url=None, rest={'HttpOnly': None}, rfc2109=False)]>"
      ]
     },
     "execution_count": 62,
     "metadata": {},
     "output_type": "execute_result"
    }
   ],
   "source": [
    "filepath = './zipfile'\n",
    "#creating the folder for zipfiles\n",
    "pathlib.Path(filepath).mkdir(parents=True, exist_ok=True) \n",
    "\n",
    "#account parameters\n",
    "username = 'xinglongjia715@gmail.com'\n",
    "password = ';U={j<WU'\n",
    "\n",
    "#Intializing browser\n",
    "br = RoboBrowser()\n",
    "#open website\n",
    "br.open('https://freddiemac.embs.com/FLoan/secure/login.php?pagename=download')  \n",
    "\n",
    "#Getting form from browser\n",
    "form = br.get_form()\n",
    "form['username'] = username\n",
    "form['password'] = password\n",
    "br.submit_form(form)\n",
    "\n",
    "#accept the form\n",
    "form1 = br.get_form()\n",
    "form1['accept'] = 'Yes'\n",
    "br.submit_form(form1)\n",
    "links = br.find_all('a')\n",
    "br.session.cookies"
   ]
  },
  {
   "cell_type": "code",
   "execution_count": 61,
   "metadata": {},
   "outputs": [
    {
     "name": "stdout",
     "output_type": "stream",
     "text": [
      "https://freddiemac.embs.com/FLoan/Data/download.php?f=sample_2006&s=33286483\n",
      "https://freddiemac.embs.com/FLoan/Data/download.php?f=sample_2007&s=31029360\n",
      "https://freddiemac.embs.com/FLoan/Data/download.php?f=sample_2008&s=25243310\n",
      "https://freddiemac.embs.com/FLoan/Data/download.php?f=sample_2009&s=29742643\n",
      "https://freddiemac.embs.com/FLoan/Data/download.php?f=sample_2010&s=29502562\n",
      "https://freddiemac.embs.com/FLoan/Data/download.php?f=sample_2011&s=27895583\n",
      "https://freddiemac.embs.com/FLoan/Data/download.php?f=sample_2012&s=31533051\n",
      "https://freddiemac.embs.com/FLoan/Data/download.php?f=sample_2013&s=26626765\n",
      "https://freddiemac.embs.com/FLoan/Data/download.php?f=sample_2014&s=20459253\n",
      "https://freddiemac.embs.com/FLoan/Data/download.php?f=sample_2015&s=17376778\n",
      "https://freddiemac.embs.com/FLoan/Data/download.php?f=sample_2016&s=12007433\n",
      "https://freddiemac.embs.com/FLoan/Data/download.php?f=sample_2017&s=4621125\n"
     ]
    }
   ],
   "source": [
    "for link in links:\n",
    "    regex = re.findall('sample_\\d+.zip', str(link))\n",
    "    if(regex and (int)(re.findall('\\d+', str(regex))[0]) > 2005):\n",
    "        url = \"https://freddiemac.embs.com/FLoan/Data/\" + link.get('href')\n",
    "        print(url)"
   ]
  },
  {
   "cell_type": "code",
   "execution_count": 21,
   "metadata": {},
   "outputs": [
    {
     "name": "stdout",
     "output_type": "stream",
     "text": [
      "download.php?f=sample_2006&s=33286483\n",
      "./zipfile2006\n",
      "https://freddiemac.embs.com/FLoan/Data/download.php?f=sample_2006&s=33286483\n"
     ]
    },
    {
     "ename": "BadZipFile",
     "evalue": "File is not a zip file",
     "output_type": "error",
     "traceback": [
      "\u001b[1;31m---------------------------------------------------------------------------\u001b[0m",
      "\u001b[1;31mBadZipFile\u001b[0m                                Traceback (most recent call last)",
      "\u001b[1;32m<ipython-input-21-09f0e5a04dcf>\u001b[0m in \u001b[0;36m<module>\u001b[1;34m()\u001b[0m\n\u001b[0;32m     23\u001b[0m             \u001b[0mprint\u001b[0m\u001b[1;33m(\u001b[0m\u001b[0murl\u001b[0m\u001b[1;33m)\u001b[0m\u001b[1;33m\u001b[0m\u001b[0m\n\u001b[0;32m     24\u001b[0m             \u001b[0mr\u001b[0m \u001b[1;33m=\u001b[0m \u001b[0mrequests\u001b[0m\u001b[1;33m.\u001b[0m\u001b[0mget\u001b[0m\u001b[1;33m(\u001b[0m\u001b[0murl\u001b[0m\u001b[1;33m,\u001b[0m \u001b[0mstream\u001b[0m\u001b[1;33m=\u001b[0m\u001b[1;32mTrue\u001b[0m\u001b[1;33m)\u001b[0m\u001b[1;33m\u001b[0m\u001b[0m\n\u001b[1;32m---> 25\u001b[1;33m             \u001b[0mfile\u001b[0m \u001b[1;33m=\u001b[0m \u001b[0mzipfile\u001b[0m\u001b[1;33m.\u001b[0m\u001b[0mZipFile\u001b[0m\u001b[1;33m(\u001b[0m\u001b[0mio\u001b[0m\u001b[1;33m.\u001b[0m\u001b[0mBytesIO\u001b[0m\u001b[1;33m(\u001b[0m\u001b[0mr\u001b[0m\u001b[1;33m.\u001b[0m\u001b[0mcontent\u001b[0m\u001b[1;33m)\u001b[0m\u001b[1;33m)\u001b[0m\u001b[1;33m\u001b[0m\u001b[0m\n\u001b[0m",
      "\u001b[1;32mD:\\anaconda\\lib\\zipfile.py\u001b[0m in \u001b[0;36m__init__\u001b[1;34m(self, file, mode, compression, allowZip64, compresslevel)\u001b[0m\n\u001b[0;32m   1198\u001b[0m         \u001b[1;32mtry\u001b[0m\u001b[1;33m:\u001b[0m\u001b[1;33m\u001b[0m\u001b[0m\n\u001b[0;32m   1199\u001b[0m             \u001b[1;32mif\u001b[0m \u001b[0mmode\u001b[0m \u001b[1;33m==\u001b[0m \u001b[1;34m'r'\u001b[0m\u001b[1;33m:\u001b[0m\u001b[1;33m\u001b[0m\u001b[0m\n\u001b[1;32m-> 1200\u001b[1;33m                 \u001b[0mself\u001b[0m\u001b[1;33m.\u001b[0m\u001b[0m_RealGetContents\u001b[0m\u001b[1;33m(\u001b[0m\u001b[1;33m)\u001b[0m\u001b[1;33m\u001b[0m\u001b[0m\n\u001b[0m\u001b[0;32m   1201\u001b[0m             \u001b[1;32melif\u001b[0m \u001b[0mmode\u001b[0m \u001b[1;32min\u001b[0m \u001b[1;33m(\u001b[0m\u001b[1;34m'w'\u001b[0m\u001b[1;33m,\u001b[0m \u001b[1;34m'x'\u001b[0m\u001b[1;33m)\u001b[0m\u001b[1;33m:\u001b[0m\u001b[1;33m\u001b[0m\u001b[0m\n\u001b[0;32m   1202\u001b[0m                 \u001b[1;31m# set the modified flag so central directory gets written\u001b[0m\u001b[1;33m\u001b[0m\u001b[1;33m\u001b[0m\u001b[0m\n",
      "\u001b[1;32mD:\\anaconda\\lib\\zipfile.py\u001b[0m in \u001b[0;36m_RealGetContents\u001b[1;34m(self)\u001b[0m\n\u001b[0;32m   1265\u001b[0m             \u001b[1;32mraise\u001b[0m \u001b[0mBadZipFile\u001b[0m\u001b[1;33m(\u001b[0m\u001b[1;34m\"File is not a zip file\"\u001b[0m\u001b[1;33m)\u001b[0m\u001b[1;33m\u001b[0m\u001b[0m\n\u001b[0;32m   1266\u001b[0m         \u001b[1;32mif\u001b[0m \u001b[1;32mnot\u001b[0m \u001b[0mendrec\u001b[0m\u001b[1;33m:\u001b[0m\u001b[1;33m\u001b[0m\u001b[0m\n\u001b[1;32m-> 1267\u001b[1;33m             \u001b[1;32mraise\u001b[0m \u001b[0mBadZipFile\u001b[0m\u001b[1;33m(\u001b[0m\u001b[1;34m\"File is not a zip file\"\u001b[0m\u001b[1;33m)\u001b[0m\u001b[1;33m\u001b[0m\u001b[0m\n\u001b[0m\u001b[0;32m   1268\u001b[0m         \u001b[1;32mif\u001b[0m \u001b[0mself\u001b[0m\u001b[1;33m.\u001b[0m\u001b[0mdebug\u001b[0m \u001b[1;33m>\u001b[0m \u001b[1;36m1\u001b[0m\u001b[1;33m:\u001b[0m\u001b[1;33m\u001b[0m\u001b[0m\n\u001b[0;32m   1269\u001b[0m             \u001b[0mprint\u001b[0m\u001b[1;33m(\u001b[0m\u001b[0mendrec\u001b[0m\u001b[1;33m)\u001b[0m\u001b[1;33m\u001b[0m\u001b[0m\n",
      "\u001b[1;31mBadZipFile\u001b[0m: File is not a zip file"
     ]
    }
   ],
   "source": [
    "\n",
    "#Verify the targeted webpage is reached\n",
    "src = str(br.parsed())\n",
    "\n",
    "html_links= []\n",
    "\n",
    "#getting 'a' tag having 'sample' tagname\n",
    "india_links = lambda tag: getattr(tag, 'name', None) == 'a' and 'href' in tag.attrs and 'sample' in tag.get_text().lower()\n",
    "for links in br.find_all(india_links):\n",
    "    html_links.append(links.get('href'))\n",
    "new_link= []\n",
    "\n",
    "#Taking only sample files which are of year 2006 and more.\n",
    "for value in html_links:\n",
    "    regex = re.findall('\\d+', value) #stiping the year of link\n",
    "    for years in regex:\n",
    "        if int(regex[0]) > 2005: # Choosing the file more than 2005\n",
    "            new_link.append(value)\n",
    "            print(value)\n",
    "            outfname= filepath + value.split('_')[1][:4] #naming the output file name and path\n",
    "            print(outfname)\n",
    "            url = \"https://freddiemac.embs.com/FLoan/Data/\" + value\n",
    "            print(url)\n",
    "            r = requests.get(url, stream=True)\n",
    "            file = zipfile.ZipFile(io.BytesIO(r.content))"
   ]
  },
  {
   "cell_type": "code",
   "execution_count": null,
   "metadata": {},
   "outputs": [],
   "source": []
  }
 ],
 "metadata": {
  "kernelspec": {
   "display_name": "Python 3",
   "language": "python",
   "name": "python3"
  },
  "language_info": {
   "codemirror_mode": {
    "name": "ipython",
    "version": 3
   },
   "file_extension": ".py",
   "mimetype": "text/x-python",
   "name": "python",
   "nbconvert_exporter": "python",
   "pygments_lexer": "ipython3",
   "version": "3.7.0"
  }
 },
 "nbformat": 4,
 "nbformat_minor": 2
}
