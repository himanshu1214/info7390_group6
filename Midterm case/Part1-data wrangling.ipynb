{
 "cells": [
  {
   "cell_type": "markdown",
   "metadata": {},
   "source": [
    "# Part1 : Data wrangling\n",
    "\n",
    "## Data Download and pre-processing"
   ]
  },
  {
   "cell_type": "code",
   "execution_count": 3,
   "metadata": {},
   "outputs": [],
   "source": [
    "import requests\n",
    "from robobrowser import RoboBrowser"
   ]
  },
  {
   "cell_type": "code",
   "execution_count": 11,
   "metadata": {},
   "outputs": [
    {
     "data": {
      "text/plain": [
       "b'\\n<!DOCTYPE html>\\r\\n<html>\\r\\n<head>\\r\\n<title>Freddie Mac Loan History</title>\\r\\n<link rel=\\'stylesheet\\' type=\\'text/css\\' href=\\'/FLoan/app_corp.css\\'>\\r\\n<link rel=\\'stylesheet\\' type=\\'text/css\\' href=\\'/FLoan/empty.css\\'>\\r\\n<link rel=\\'stylesheet\\' type=\\'text/css\\' href=\\'/FLoan/empty2.css\\'>\\r\\n</head>\\r\\n<body>\\r\\n<H2>Please log in</H2>\\n\\t<form name=\\'loginform\\' action=\\'auth.php\\' method=\\'post\\' class=\\'form\\'>\\n\\t<input type=hidden name=pagename value=\\'download\\'>\\n\\t<div class=\\'row\\'><div class=\\'small-5 column\\' >\\n\\t<label for=\"username\" >Enter email address:</label>\\n\\t<input name=\\'username\\' type=\\'email\\' placeholder=\\'name@company.com\\'></p>\\n\\t</div></div>\\n\\t<div class=\\'row\\'><div class=\\'small-5 column\\' >\\n\\t<label for=\"password\" >Enter password:</label>\\n\\t<input name=\\'password\\' type=\\'password\\' autocomplete=\\'off\\'>\\n\\t</div></div>\\n\\t<div class=\\'row\\'><div class=\\'small-5 column\\' >\\n\\t<input type=\\'submit\\' value=\\'Submit Credentials\\' class=\\'fmSubmit\\'>\\n\\t</div></div>\\n\\t</form>\\n\\t</p>\\n\\n</div></div></body></html>\\n'"
      ]
     },
     "execution_count": 11,
     "metadata": {},
     "output_type": "execute_result"
    }
   ],
   "source": [
    "i"
   ]
  },
  {
   "cell_type": "code",
   "execution_count": null,
   "metadata": {},
   "outputs": [],
   "source": []
  }
 ],
 "metadata": {
  "kernelspec": {
   "display_name": "Python 3",
   "language": "python",
   "name": "python3"
  },
  "language_info": {
   "codemirror_mode": {
    "name": "ipython",
    "version": 3
   },
   "file_extension": ".py",
   "mimetype": "text/x-python",
   "name": "python",
   "nbconvert_exporter": "python",
   "pygments_lexer": "ipython3",
   "version": "3.6.5"
  }
 },
 "nbformat": 4,
 "nbformat_minor": 2
}
