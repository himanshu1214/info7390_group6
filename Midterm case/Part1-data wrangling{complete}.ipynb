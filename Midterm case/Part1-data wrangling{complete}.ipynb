{
 "cells": [
  {
   "cell_type": "markdown",
   "metadata": {},
   "source": [
    "# Part1 : Data wrangling\n",
    "\n",
    "## Data Download and pre-processing"
   ]
  },
  {
   "cell_type": "code",
   "execution_count": 151,
   "metadata": {},
   "outputs": [
    {
     "data": {
      "text/plain": [
       "'Yes'"
      ]
     },
     "execution_count": 151,
     "metadata": {},
     "output_type": "execute_result"
    }
   ],
   "source": [
    "import requests\n",
    "from robobrowser import RoboBrowser\n",
    "from bs4 import BeautifulSoup\n",
    "import re\n",
    "from lxml import html\n",
    "import pathlib\n",
    "import time\n",
    "import zipfile\n",
    "from io import BytesIO\n",
    "import pandas as pd\n",
    "import warnings\n",
    "warnings.filterwarnings('ignore')\n",
    "import config\n",
    "import glob\n",
    "config.form['accept']"
   ]
  },
  {
   "cell_type": "code",
   "execution_count": 159,
   "metadata": {
    "scrolled": false
   },
   "outputs": [
    {
     "data": {
      "text/plain": [
       "<RequestsCookieJar[Cookie(version=0, name='PHPSESSID', value='vl7khp10st32goaun1o2j61sb0', port=None, port_specified=False, domain='freddiemac.embs.com', domain_specified=False, domain_initial_dot=False, path='/', path_specified=True, secure=True, expires=None, discard=True, comment=None, comment_url=None, rest={'HttpOnly': None}, rfc2109=False)]>"
      ]
     },
     "execution_count": 159,
     "metadata": {},
     "output_type": "execute_result"
    }
   ],
   "source": [
    "filepath = './zipfile'\n",
    "#creating the folder for zipfiles\n",
    "pathlib.Path(filepath).mkdir(parents=True, exist_ok=True) \n",
    "\n",
    "#account parameters\n",
    "username = 'gupta.h@husky.neu.edu'\n",
    "password = 'puVKND@V'\n",
    "\n",
    "#Intializing browser\n",
    "br = RoboBrowser()\n",
    "#open website\n",
    "br.open('https://freddiemac.embs.com/FLoan/secure/login.php?pagename=download')  \n",
    "\n",
    "#Getting form from browser\n",
    "form = br.get_form()\n",
    "form['username'] = username\n",
    "form['password'] = password\n",
    "br.submit_form(form)\n",
    "\n",
    "#accept the form\n",
    "form = br.get_form()\n",
    "form['accept'] = 'Yes'\n",
    "form['action'] = 'acceptTandC'\n",
    "form['acceptSubmit'] = 'Continue'\n",
    "br.submit_form(form)\n",
    "links = br.find_all('a')\n",
    "br.session.cookies"
   ]
  },
  {
   "cell_type": "code",
   "execution_count": 160,
   "metadata": {
    "scrolled": true
   },
   "outputs": [
    {
     "data": {
      "text/plain": [
       "{'PHPSESSID': 'vl7khp10st32goaun1o2j61sb0'}"
      ]
     },
     "execution_count": 160,
     "metadata": {},
     "output_type": "execute_result"
    }
   ],
   "source": [
    "cookie = br.session.cookies.get_dict()\n",
    "cookie"
   ]
  },
  {
   "cell_type": "code",
   "execution_count": 161,
   "metadata": {
    "scrolled": true
   },
   "outputs": [
    {
     "name": "stdout",
     "output_type": "stream",
     "text": [
      "https://freddiemac.embs.com/FLoan/Data/download.php?f=sample_2006&s=33286483\n",
      "2006\n",
      "https://freddiemac.embs.com/FLoan/Data/download.php?f=sample_2007&s=31029360\n",
      "2007\n",
      "https://freddiemac.embs.com/FLoan/Data/download.php?f=sample_2008&s=25243310\n",
      "2008\n",
      "https://freddiemac.embs.com/FLoan/Data/download.php?f=sample_2009&s=29742643\n",
      "2009\n",
      "https://freddiemac.embs.com/FLoan/Data/download.php?f=sample_2010&s=29502562\n",
      "2010\n",
      "https://freddiemac.embs.com/FLoan/Data/download.php?f=sample_2011&s=27895583\n",
      "2011\n",
      "https://freddiemac.embs.com/FLoan/Data/download.php?f=sample_2012&s=31533051\n",
      "2012\n",
      "https://freddiemac.embs.com/FLoan/Data/download.php?f=sample_2013&s=26626765\n",
      "2013\n",
      "https://freddiemac.embs.com/FLoan/Data/download.php?f=sample_2014&s=20459253\n",
      "2014\n",
      "https://freddiemac.embs.com/FLoan/Data/download.php?f=sample_2015&s=17376778\n",
      "2015\n",
      "https://freddiemac.embs.com/FLoan/Data/download.php?f=sample_2016&s=12007433\n",
      "2016\n",
      "https://freddiemac.embs.com/FLoan/Data/download.php?f=sample_2017&s=4621125\n",
      "2017\n"
     ]
    }
   ],
   "source": [
    "for link in links:\n",
    "    regex = re.findall('sample_\\d+.zip', str(link))\n",
    "    if(regex and (int)(re.findall('\\d+', str(regex))[0]) > 2005):\n",
    "        url = \"https://freddiemac.embs.com/FLoan/Data/\" + link.get('href')\n",
    "        print(url)\n",
    "        year = regex[0].split('_')[1][:4]\n",
    "        print(year)\n",
    "        content = requests.get(url, cookies = cookie) \n",
    "        zf = zipfile.ZipFile(BytesIO(content.content))\n",
    "        \n",
    "        #Getting txt files from the zipfiles\n",
    "        for name in zf.namelist():\n",
    "            \n",
    "            #Reading each files\n",
    "            df = pd.read_csv(zf.open(name), sep= '|', header = None)\n",
    "            \n",
    "            if name.split('_')[1] == 'orig':\n",
    "                #Converting into csv each year\n",
    "                df.to_csv(filepath + '/' + str(name.split('.')[0]) + '.csv', mode = 'a', index= False, header = None)\n",
    "            else:\n",
    "                df.to_csv(filepath + '/' + str(name.split('.')[0]) + '.csv', mode = 'a', index= False, header = None)"
   ]
  },
  {
   "cell_type": "markdown",
   "metadata": {},
   "source": [
    "# Summary"
   ]
  },
  {
   "cell_type": "code",
   "execution_count": 162,
   "metadata": {},
   "outputs": [
    {
     "name": "stdout",
     "output_type": "stream",
     "text": [
      "['./zipfile\\\\sample_orig_2006.csv', './zipfile\\\\sample_orig_2007.csv', './zipfile\\\\sample_orig_2008.csv', './zipfile\\\\sample_orig_2009.csv', './zipfile\\\\sample_orig_2010.csv', './zipfile\\\\sample_orig_2011.csv', './zipfile\\\\sample_orig_2012.csv', './zipfile\\\\sample_orig_2013.csv', './zipfile\\\\sample_orig_2014.csv', './zipfile\\\\sample_orig_2015.csv', './zipfile\\\\sample_orig_2016.csv', './zipfile\\\\sample_orig_2017.csv', './zipfile\\\\sample_svcg_2006.csv', './zipfile\\\\sample_svcg_2007.csv', './zipfile\\\\sample_svcg_2008.csv', './zipfile\\\\sample_svcg_2009.csv', './zipfile\\\\sample_svcg_2010.csv', './zipfile\\\\sample_svcg_2011.csv', './zipfile\\\\sample_svcg_2012.csv', './zipfile\\\\sample_svcg_2013.csv', './zipfile\\\\sample_svcg_2014.csv', './zipfile\\\\sample_svcg_2015.csv', './zipfile\\\\sample_svcg_2016.csv', './zipfile\\\\sample_svcg_2017.csv']\n",
      "./zipfile\\sample_orig_2006.csv\n",
      "orig\n",
      "./zipfile\\sample_orig_2007.csv\n",
      "orig\n",
      "./zipfile\\sample_orig_2008.csv\n",
      "orig\n",
      "./zipfile\\sample_orig_2009.csv\n",
      "orig\n",
      "./zipfile\\sample_orig_2010.csv\n",
      "orig\n",
      "./zipfile\\sample_orig_2011.csv\n",
      "orig\n",
      "./zipfile\\sample_orig_2012.csv\n",
      "orig\n",
      "./zipfile\\sample_orig_2013.csv\n",
      "orig\n",
      "./zipfile\\sample_orig_2014.csv\n",
      "orig\n",
      "./zipfile\\sample_orig_2015.csv\n",
      "orig\n",
      "./zipfile\\sample_orig_2016.csv\n",
      "orig\n",
      "./zipfile\\sample_orig_2017.csv\n",
      "orig\n",
      "./zipfile\\sample_svcg_2006.csv\n",
      "svcg\n",
      "./zipfile\\sample_svcg_2007.csv\n",
      "svcg\n",
      "./zipfile\\sample_svcg_2008.csv\n",
      "svcg\n",
      "./zipfile\\sample_svcg_2009.csv\n",
      "svcg\n",
      "./zipfile\\sample_svcg_2010.csv\n",
      "svcg\n",
      "./zipfile\\sample_svcg_2011.csv\n",
      "svcg\n",
      "./zipfile\\sample_svcg_2012.csv\n",
      "svcg\n",
      "./zipfile\\sample_svcg_2013.csv\n",
      "svcg\n",
      "./zipfile\\sample_svcg_2014.csv\n",
      "svcg\n",
      "./zipfile\\sample_svcg_2015.csv\n",
      "svcg\n",
      "./zipfile\\sample_svcg_2016.csv\n",
      "svcg\n",
      "./zipfile\\sample_svcg_2017.csv\n",
      "svcg\n"
     ]
    }
   ],
   "source": [
    "filepath = './zipfile'\n",
    "allfiles = glob.glob(filepath + \"/*.csv\")\n",
    "print(allfiles)\n",
    "dfs_origin = []\n",
    "dfs_performance = []\n",
    "for files in allfiles:\n",
    "    print(files)\n",
    "    if files.split('_')[1] == 'orig':\n",
    "        print(files.split('_')[1])\n",
    "        origin_files = pd.read_csv(files ,header = None, index_col= None)\n",
    "        origin_files.drop(origin_files.columns[25], axis= 1, inplace = True)\n",
    "        origin_files.columns = ['CREDIT SCORE', 'FIRST PAYMENT DATE', 'FIRST TIME HOMEBUYER FLAG', 'MATURITY DATE', 'MSA', \n",
    "              'MORTGAGE INSURANCE PERCENTAGE', 'NUMBER OF UNITS', 'OCCUPANCY STATUS', 'ORIGINAL COMBINED LOAN-TO-VALUE',\n",
    "             'ORIGINAL DEBT-TO-INCOME (DTI) RATIO', 'ORIGINAL UPB', 'ORIGINAL LOAN-TO-VALUE (LTV)', \n",
    "             'ORIGINAL INTEREST RATE', 'CHANNEL', 'PREPAYMENT PENALTY MORTGAGE (PPM) FLAG', 'PRODUCT TYPE', \n",
    "                    'PROPERTY STATE', 'PROPERTY TYPE', 'POSTAL CODE', 'LOAN SEQUENCE NUMBER', 'LOAN PURPOSE', \n",
    "                    'ORIGINAL LOAN TERM', 'NUMBER OF BORROWERS', 'SELLER NAME', 'SERVICER NAME']\n",
    "        summmary_files= origin_files.describe()\n",
    "        summmary_files.to_csv(filepath + \"/summary_\"+ str(files.split('\\\\')[1])) \n",
    "        dfs_origin.append(origin_files)\n",
    "    \n",
    "    else:\n",
    "        print(files.split('_')[1])\n",
    "        performance_files = pd.read_csv(files ,header = None, index_col= None)\n",
    "        performance_files.columns = ['LOAN SEQUENCE NUMBER', 'MONTHLY REPORTING PERIOD', 'CURRENT ACTUAL UPB', \n",
    "                                     'CURRENT LOAN DELINQUENCY STATUS', 'LOAN AGE', 'REMAINING MONTHS TO LEGAL MATURITY', \n",
    "                                     'REPURCHASE FLAG', 'MODIFICATION FLAG', 'ZERO BALANCE CODE','ZERO BALANCE EFFECTIVE DATE',\n",
    "                                     'CURRENT INTEREST RATE', 'CURRENT DEFERRED UPB', 'DUE DATE OF LAST PAID INSTALLMENT (DDLPI)',\n",
    "                                     'MI RECOVERIES', 'NET SALES PROCEEDS', 'NON MI RECOVERIES', 'EXPENSES', 'LEGAL COSTS', \n",
    "                                     'MAINTENANCE AND PRESERVATION COSTS', 'TAXES AND INSURANCE', 'MISCELLANEOUS EXPENSES', \n",
    "                                     'ACTUAL LOSS CALCULATION', 'MODIFICATION COST', 'STEP MODIFICATION FLAG', 'DEFERRED PAYMENT MODIFICATION',\n",
    "                                     'ESTIMATED LOAN TO VALUE (ELTV)']\n",
    "        summary_perf = performance_files.describe()\n",
    "        summary_perf.to_csv(filepath + \"/summary\" + str(files.split('\\\\')[1]))\n",
    "        dfs_performance.append(performance_files)"
   ]
  }
 ],
 "metadata": {
  "kernelspec": {
   "display_name": "Python 3",
   "language": "python",
   "name": "python3"
  },
  "language_info": {
   "codemirror_mode": {
    "name": "ipython",
    "version": 3
   },
   "file_extension": ".py",
   "mimetype": "text/x-python",
   "name": "python",
   "nbconvert_exporter": "python",
   "pygments_lexer": "ipython3",
   "version": "3.6.1"
  }
 },
 "nbformat": 4,
 "nbformat_minor": 2
}
