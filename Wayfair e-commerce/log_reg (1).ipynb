{
 "cells": [
  {
   "cell_type": "code",
   "execution_count": 1,
   "metadata": {},
   "outputs": [],
   "source": [
    "import pandas as pd\n",
    "import numpy as np\n",
    "from sklearn import preprocessing\n",
    "import csv\n",
    "from sklearn.model_selection import train_test_split\n",
    "data01 = pd.read_csv('final_output_data.csv')"
   ]
  },
  {
   "cell_type": "code",
   "execution_count": 2,
   "metadata": {},
   "outputs": [
    {
     "data": {
      "text/plain": [
       "Index(['Unnamed: 0', 'customer_id', 'date', 'time', 'BASKETLOADPAGE_total',\n",
       "       'CATEGORYDEPARTMENT_total', 'CATEGORYQUICKBROWSE_total',\n",
       "       'CATEGORYSTANDARD_total', 'CHECKOUTBASKET_total',\n",
       "       'CHECKOUTPRODUCTUPSELLGROUP_total', 'DAILYSALESCLOSEOUTPAGE_total',\n",
       "       'DAILYSALESEVENTPAGE_total', 'DAILYSALESMAINPAGE_total',\n",
       "       'DAILYSALESPRODUCTPAGE_total', 'DAILYSALESSOLREVENTPAGE_total',\n",
       "       'HOMEPAGE_total', 'KEYWORDSEARCH_total', 'PRODUCTKIT_total',\n",
       "       'PRODUCTOPTIONSKU_total', 'PRODUCTSIMPLESKU_total',\n",
       "       'SAVETOBOARDMODALSCREEN_total', 'STLLANDINGPAGE_total',\n",
       "       'SUPERBROWSECATEGORY_total', 'SUPERBROWSECATEGORY1ATTRIBUTES_total',\n",
       "       'SUPERBROWSECATEGORY2ATTRIBUTES_total',\n",
       "       'SUPERBROWSECATEGORY3ATTRIBUTES_total',\n",
       "       'SUPERBROWSECATEGORY4+ATTRIBUTES_total', 'SUPERBROWSEHOTDEALS_total',\n",
       "       'final_ordered_total'],\n",
       "      dtype='object')"
      ]
     },
     "execution_count": 2,
     "metadata": {},
     "output_type": "execute_result"
    }
   ],
   "source": [
    "data01.columns"
   ]
  },
  {
   "cell_type": "code",
   "execution_count": 3,
   "metadata": {},
   "outputs": [
    {
     "name": "stdout",
     "output_type": "stream",
     "text": [
      "        date       time  BASKETLOADPAGE_total  CATEGORYDEPARTMENT_total  \\\n",
      "0  Saturaday  afternoon                     0                         0   \n",
      "1  Saturaday    morning                     0                         0   \n",
      "2   Thursday  afternoon                     0                         0   \n",
      "3   Thursday    morning                     0                         0   \n",
      "4  Wednesday  afternoon                     0                         0   \n",
      "\n",
      "   CATEGORYQUICKBROWSE_total  CATEGORYSTANDARD_total  CHECKOUTBASKET_total  \\\n",
      "0                          0                       0                     0   \n",
      "1                          0                       0                     0   \n",
      "2                          0                       0                     1   \n",
      "3                          0                       0                     0   \n",
      "4                          0                       0                     1   \n",
      "\n",
      "   CHECKOUTPRODUCTUPSELLGROUP_total  DAILYSALESCLOSEOUTPAGE_total  \\\n",
      "0                                 0                             0   \n",
      "1                                 0                             0   \n",
      "2                                 0                             0   \n",
      "3                                 0                             0   \n",
      "4                                 0                             0   \n",
      "\n",
      "   DAILYSALESEVENTPAGE_total            ...              \\\n",
      "0                          0            ...               \n",
      "1                          0            ...               \n",
      "2                          0            ...               \n",
      "3                          0            ...               \n",
      "4                          0            ...               \n",
      "\n",
      "   PRODUCTOPTIONSKU_total  PRODUCTSIMPLESKU_total  \\\n",
      "0                       0                       0   \n",
      "1                       2                       0   \n",
      "2                       0                       0   \n",
      "3                       0                       1   \n",
      "4                       0                       0   \n",
      "\n",
      "   SAVETOBOARDMODALSCREEN_total  STLLANDINGPAGE_total  \\\n",
      "0                             0                     0   \n",
      "1                             0                     0   \n",
      "2                             0                     0   \n",
      "3                             0                     0   \n",
      "4                             0                     0   \n",
      "\n",
      "   SUPERBROWSECATEGORY_total  SUPERBROWSECATEGORY1ATTRIBUTES_total  \\\n",
      "0                          0                                     0   \n",
      "1                          0                                     0   \n",
      "2                          0                                     0   \n",
      "3                          0                                     0   \n",
      "4                          0                                     0   \n",
      "\n",
      "   SUPERBROWSECATEGORY2ATTRIBUTES_total  SUPERBROWSECATEGORY3ATTRIBUTES_total  \\\n",
      "0                                     0                                     0   \n",
      "1                                     0                                     0   \n",
      "2                                     0                                     0   \n",
      "3                                     0                                     0   \n",
      "4                                     0                                     0   \n",
      "\n",
      "   SUPERBROWSECATEGORY4+ATTRIBUTES_total  SUPERBROWSEHOTDEALS_total  \n",
      "0                                      0                          0  \n",
      "1                                      0                          0  \n",
      "2                                      0                          0  \n",
      "3                                      0                          0  \n",
      "4                                      0                          0  \n",
      "\n",
      "[5 rows x 26 columns]\n",
      "[1 0 1 ... 0 0 0]\n",
      "[[6884 4201]\n",
      " [5427 4905]]\n"
     ]
    }
   ],
   "source": [
    "import pandas as pd\n",
    "import numpy as np\n",
    "from sklearn import preprocessing\n",
    "import csv\n",
    "from sklearn.model_selection import train_test_split\n",
    "data01 = pd.read_csv('final_output_data.csv')\n",
    "\n",
    "\n",
    " \n",
    "\n",
    "#give the target variable, the outcome(energy consumption)\n",
    "y = data01['final_ordered_total']\n",
    "\n",
    "#give the predictor variables\n",
    "x = data01.drop(['customer_id','final_ordered_total'], axis=1)\n",
    "x = x.drop(x.columns[0],axis =1)\n",
    "print(x.head())\n",
    "x = pd.get_dummies(x).values\n",
    "\n",
    "\n",
    "\n",
    "\n",
    "X_train, X_test, y_train, y_test = train_test_split(x, y, train_size=0.75, test_size=0.25)\n",
    "\n",
    "\n",
    "X_train.shape, X_test.shape, y_train.shape, y_test.shape\n",
    "# import the class\n",
    "from sklearn.linear_model import LogisticRegression\n",
    "\n",
    "# instantiate the model (using the default parameters)\n",
    "logreg = LogisticRegression()\n",
    "\n",
    "# fit the model with data\n",
    "logreg.fit(X_train,y_train)\n",
    "\n",
    "#\n",
    "y_pred=logreg.predict(X_test)\n",
    "\n",
    "print(y_pred)\n",
    "\n",
    "#compute confusion matrix\n",
    "from sklearn import metrics\n",
    "cnf_matrix = metrics.confusion_matrix(y_test, y_pred)\n",
    "print(cnf_matrix)\n",
    "\n"
   ]
  },
  {
   "cell_type": "code",
   "execution_count": 6,
   "metadata": {},
   "outputs": [
    {
     "name": "stdout",
     "output_type": "stream",
     "text": [
      "MAE: \n",
      "0.44954942335527853\n",
      "RMS: \n",
      "0.6704844691380096\n",
      "R2: \n",
      "-0.8004232943933927\n",
      "\n",
      "\n"
     ]
    }
   ],
   "source": [
    "from sklearn.metrics import *\n",
    "from math import sqrt\n",
    "\n",
    "#Mean absolute error\n",
    "print('MAE: ')\n",
    "print(mean_absolute_error(y_test, y_pred))\n",
    "\n",
    "#ROOT MEAN SUARED ERROR\n",
    "print('RMS: ')\n",
    "print(sqrt(mean_squared_error(y_test, y_pred)))\n",
    "\n",
    "#R-squared score of this model\n",
    "print('R2: ')\n",
    "print(r2_score(y_test, y_pred))\n",
    "\n",
    "\n",
    "print('\\n')"
   ]
  },
  {
   "cell_type": "code",
   "execution_count": 10,
   "metadata": {},
   "outputs": [
    {
     "name": "stderr",
     "output_type": "stream",
     "text": [
      "/Users/yeyinyin/anaconda3/lib/python3.7/site-packages/sklearn/utils/validation.py:475: DataConversionWarning: Data with input dtype int64 was converted to float64 by StandardScaler.\n",
      "  warnings.warn(msg, DataConversionWarning)\n"
     ]
    },
    {
     "name": "stdout",
     "output_type": "stream",
     "text": [
      "MLPClassifier(activation='relu', alpha=1e-05, batch_size='auto', beta_1=0.9,\n",
      "       beta_2=0.999, early_stopping=False, epsilon=1e-08,\n",
      "       hidden_layer_sizes=(5, 2), learning_rate='constant',\n",
      "       learning_rate_init=0.001, max_iter=200, momentum=0.9,\n",
      "       nesterovs_momentum=True, power_t=0.5, random_state=1, shuffle=True,\n",
      "       solver='lbfgs', tol=0.0001, validation_fraction=0.1, verbose=False,\n",
      "       warm_start=False)\n",
      "Neural network model:\n",
      "train data model estimation\n",
      "MAE: \n",
      "0.4462809917355372\n",
      "RMS: \n",
      "0.668042657122685\n",
      "R2: \n",
      "-0.787333386769012\n"
     ]
    }
   ],
   "source": [
    "#Neural network model\n",
    "from sklearn.neural_network.multilayer_perceptron import MLPClassifier\n",
    "\n",
    "from sklearn.preprocessing import StandardScaler\n",
    "scaler= StandardScaler()\n",
    "#fit only to the training data\n",
    "scaler.fit(X_train)\n",
    "\n",
    "StandardScaler(copy=True, with_mean=True, with_std=True)\n",
    "\n",
    "#now apply the transformations to the data:\n",
    "x_train_nn = scaler.transform(X_train)\n",
    "x_test_nn = scaler.transform(X_test)\n",
    "\n",
    "nn = MLPClassifier(solver='lbfgs', alpha=1e-5,\n",
    "                    hidden_layer_sizes=(5, 2), random_state=1)\n",
    "print(nn.fit(x_train_nn,y_train))\n",
    "print('Neural network model:')\n",
    "nn_pred_train = nn.predict(x_test_nn)\n",
    "print('train data model estimation')\n",
    "\n",
    "#Mean absolute error\n",
    "print('MAE: ')\n",
    "print(mean_absolute_error(y_test, nn_pred_train))\n",
    "\n",
    "#ROOTMEAN SUARED ERROR\n",
    "print('RMS: ')\n",
    "print(sqrt(mean_squared_error(y_test, nn_pred_train)))\n",
    "\n",
    "#R-squared score of this model\n",
    "print('R2: ')\n",
    "print(r2_score(y_test, nn_pred_train))\n",
    "\n"
   ]
  },
  {
   "cell_type": "code",
   "execution_count": null,
   "metadata": {},
   "outputs": [],
   "source": []
  }
 ],
 "metadata": {
  "kernelspec": {
   "display_name": "Python 3",
   "language": "python",
   "name": "python3"
  },
  "language_info": {
   "codemirror_mode": {
    "name": "ipython",
    "version": 3
   },
   "file_extension": ".py",
   "mimetype": "text/x-python",
   "name": "python",
   "nbconvert_exporter": "python",
   "pygments_lexer": "ipython3",
   "version": "3.7.0"
  }
 },
 "nbformat": 4,
 "nbformat_minor": 2
}
