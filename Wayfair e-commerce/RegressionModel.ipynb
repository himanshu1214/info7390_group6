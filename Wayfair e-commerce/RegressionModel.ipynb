{
 "cells": [
  {
   "cell_type": "markdown",
   "metadata": {},
   "source": [
    "# Regression Model"
   ]
  },
  {
   "cell_type": "code",
   "execution_count": 1,
   "metadata": {},
   "outputs": [
    {
     "name": "stderr",
     "output_type": "stream",
     "text": [
      "C:\\Users\\Girijesh\\Anaconda3\\lib\\site-packages\\sklearn\\ensemble\\weight_boosting.py:29: DeprecationWarning: numpy.core.umath_tests is an internal NumPy module and should not be imported. It will be removed in a future NumPy release.\n",
      "  from numpy.core.umath_tests import inner1d\n"
     ]
    }
   ],
   "source": [
    "import pandas as pd\n",
    "import numpy as np\n",
    "import glob\n",
    "\n",
    "\n",
    "import warnings\n",
    "warnings.filterwarnings('ignore')\n",
    "import pandas as pd\n",
    "from sklearn.feature_selection import VarianceThreshold\n",
    "from sklearn.feature_selection import SelectKBest\n",
    "from sklearn.feature_selection import f_regression\n",
    "from sklearn.feature_selection import mutual_info_regression\n",
    "from sklearn.feature_selection import SelectFpr\n",
    "from sklearn.feature_selection import RFE\n",
    "from sklearn.linear_model import LogisticRegression\n",
    "from sklearn.model_selection import train_test_split\n",
    "from sklearn.ensemble import RandomForestClassifier\n",
    "selectModel = RandomForestClassifier(n_estimators=100)\n",
    "from sklearn.ensemble import RandomForestRegressor\n",
    "regressionModel = RandomForestRegressor()\n",
    "\n",
    "%matplotlib inline\n",
    "import matplotlib.pyplot as plt\n",
    "import seaborn as sns\n",
    "\n",
    "import warnings\n",
    "warnings.filterwarnings(\"ignore\")\n"
   ]
  },
  {
   "cell_type": "markdown",
   "metadata": {},
   "source": [
    "## Import data"
   ]
  },
  {
   "cell_type": "code",
   "execution_count": 2,
   "metadata": {
    "collapsed": true
   },
   "outputs": [],
   "source": [
    "filepath = 'E:\\datathon'\n",
    "list_files = glob.glob(filepath + '\\*csv')\n",
    "lis_df = []\n",
    "for files in list_files:\n",
    "    df = pd.read_csv(files)\n",
    "    lis_df.append(df)\n",
    "\n"
   ]
  },
  {
   "cell_type": "code",
   "execution_count": 3,
   "metadata": {
    "collapsed": true
   },
   "outputs": [],
   "source": [
    "df_click_purchase = lis_df[1]"
   ]
  },
  {
   "cell_type": "code",
   "execution_count": 4,
   "metadata": {},
   "outputs": [
    {
     "name": "stdout",
     "output_type": "stream",
     "text": [
      "(137537, 9)\n"
     ]
    },
    {
     "data": {
      "text/html": [
       "<div>\n",
       "<style scoped>\n",
       "    .dataframe tbody tr th:only-of-type {\n",
       "        vertical-align: middle;\n",
       "    }\n",
       "\n",
       "    .dataframe tbody tr th {\n",
       "        vertical-align: top;\n",
       "    }\n",
       "\n",
       "    .dataframe thead th {\n",
       "        text-align: right;\n",
       "    }\n",
       "</style>\n",
       "<table border=\"1\" class=\"dataframe\">\n",
       "  <thead>\n",
       "    <tr style=\"text-align: right;\">\n",
       "      <th></th>\n",
       "      <th>order_product_id</th>\n",
       "      <th>order_id</th>\n",
       "      <th>wayfair_product_id</th>\n",
       "      <th>wayfair_website_id</th>\n",
       "      <th>order_date</th>\n",
       "      <th>order_time</th>\n",
       "      <th>customer_id</th>\n",
       "      <th>customer_zip</th>\n",
       "      <th>quantity_ordered</th>\n",
       "    </tr>\n",
       "  </thead>\n",
       "  <tbody>\n",
       "    <tr>\n",
       "      <th>0</th>\n",
       "      <td>8.344710e+18</td>\n",
       "      <td>1.073040e+17</td>\n",
       "      <td>8.089580e+18</td>\n",
       "      <td>Wayfair</td>\n",
       "      <td>7/19/18</td>\n",
       "      <td>9:48:02</td>\n",
       "      <td>3.243950e+18</td>\n",
       "      <td>29464</td>\n",
       "      <td>1</td>\n",
       "    </tr>\n",
       "    <tr>\n",
       "      <th>1</th>\n",
       "      <td>7.897050e+18</td>\n",
       "      <td>9.115090e+17</td>\n",
       "      <td>4.407090e+18</td>\n",
       "      <td>Wayfair</td>\n",
       "      <td>7/21/18</td>\n",
       "      <td>15:04:23</td>\n",
       "      <td>7.606760e+18</td>\n",
       "      <td>10928</td>\n",
       "      <td>1</td>\n",
       "    </tr>\n",
       "    <tr>\n",
       "      <th>2</th>\n",
       "      <td>3.742700e+17</td>\n",
       "      <td>9.115090e+17</td>\n",
       "      <td>1.327620e+18</td>\n",
       "      <td>Wayfair</td>\n",
       "      <td>7/21/18</td>\n",
       "      <td>15:04:23</td>\n",
       "      <td>7.606760e+18</td>\n",
       "      <td>10928</td>\n",
       "      <td>1</td>\n",
       "    </tr>\n",
       "    <tr>\n",
       "      <th>3</th>\n",
       "      <td>7.072690e+18</td>\n",
       "      <td>5.760940e+18</td>\n",
       "      <td>7.293640e+18</td>\n",
       "      <td>Wayfair</td>\n",
       "      <td>7/22/18</td>\n",
       "      <td>21:56:42</td>\n",
       "      <td>3.106940e+18</td>\n",
       "      <td>6712</td>\n",
       "      <td>1</td>\n",
       "    </tr>\n",
       "    <tr>\n",
       "      <th>4</th>\n",
       "      <td>7.307240e+18</td>\n",
       "      <td>2.708890e+18</td>\n",
       "      <td>7.264500e+18</td>\n",
       "      <td>Wayfair</td>\n",
       "      <td>7/21/18</td>\n",
       "      <td>12:55:20</td>\n",
       "      <td>1.390570e+18</td>\n",
       "      <td>2468</td>\n",
       "      <td>1</td>\n",
       "    </tr>\n",
       "  </tbody>\n",
       "</table>\n",
       "</div>"
      ],
      "text/plain": [
       "   order_product_id      order_id  wayfair_product_id wayfair_website_id  \\\n",
       "0      8.344710e+18  1.073040e+17        8.089580e+18            Wayfair   \n",
       "1      7.897050e+18  9.115090e+17        4.407090e+18            Wayfair   \n",
       "2      3.742700e+17  9.115090e+17        1.327620e+18            Wayfair   \n",
       "3      7.072690e+18  5.760940e+18        7.293640e+18            Wayfair   \n",
       "4      7.307240e+18  2.708890e+18        7.264500e+18            Wayfair   \n",
       "\n",
       "  order_date order_time   customer_id customer_zip  quantity_ordered  \n",
       "0    7/19/18    9:48:02  3.243950e+18        29464                 1  \n",
       "1    7/21/18   15:04:23  7.606760e+18        10928                 1  \n",
       "2    7/21/18   15:04:23  7.606760e+18        10928                 1  \n",
       "3    7/22/18   21:56:42  3.106940e+18         6712                 1  \n",
       "4    7/21/18   12:55:20  1.390570e+18         2468                 1  "
      ]
     },
     "execution_count": 4,
     "metadata": {},
     "output_type": "execute_result"
    }
   ],
   "source": [
    "df_orders = lis_df[3]\n",
    "print(df_orders.shape)\n",
    "df_orders.head()"
   ]
  },
  {
   "cell_type": "code",
   "execution_count": 5,
   "metadata": {},
   "outputs": [
    {
     "data": {
      "text/html": [
       "<div>\n",
       "<style scoped>\n",
       "    .dataframe tbody tr th:only-of-type {\n",
       "        vertical-align: middle;\n",
       "    }\n",
       "\n",
       "    .dataframe tbody tr th {\n",
       "        vertical-align: top;\n",
       "    }\n",
       "\n",
       "    .dataframe thead th {\n",
       "        text-align: right;\n",
       "    }\n",
       "</style>\n",
       "<table border=\"1\" class=\"dataframe\">\n",
       "  <thead>\n",
       "    <tr style=\"text-align: right;\">\n",
       "      <th></th>\n",
       "      <th>order_product_id</th>\n",
       "      <th>order_id</th>\n",
       "      <th>product_id</th>\n",
       "      <th>wayfair_website_id</th>\n",
       "      <th>order_date</th>\n",
       "      <th>order_time</th>\n",
       "      <th>customer_id</th>\n",
       "      <th>customer_zip</th>\n",
       "      <th>quantity_ordered</th>\n",
       "    </tr>\n",
       "  </thead>\n",
       "  <tbody>\n",
       "    <tr>\n",
       "      <th>0</th>\n",
       "      <td>8.344710e+18</td>\n",
       "      <td>1.073040e+17</td>\n",
       "      <td>8.089580e+18</td>\n",
       "      <td>Wayfair</td>\n",
       "      <td>7/19/18</td>\n",
       "      <td>9:48:02</td>\n",
       "      <td>3.243950e+18</td>\n",
       "      <td>29464</td>\n",
       "      <td>1</td>\n",
       "    </tr>\n",
       "    <tr>\n",
       "      <th>1</th>\n",
       "      <td>7.897050e+18</td>\n",
       "      <td>9.115090e+17</td>\n",
       "      <td>4.407090e+18</td>\n",
       "      <td>Wayfair</td>\n",
       "      <td>7/21/18</td>\n",
       "      <td>15:04:23</td>\n",
       "      <td>7.606760e+18</td>\n",
       "      <td>10928</td>\n",
       "      <td>1</td>\n",
       "    </tr>\n",
       "    <tr>\n",
       "      <th>2</th>\n",
       "      <td>3.742700e+17</td>\n",
       "      <td>9.115090e+17</td>\n",
       "      <td>1.327620e+18</td>\n",
       "      <td>Wayfair</td>\n",
       "      <td>7/21/18</td>\n",
       "      <td>15:04:23</td>\n",
       "      <td>7.606760e+18</td>\n",
       "      <td>10928</td>\n",
       "      <td>1</td>\n",
       "    </tr>\n",
       "    <tr>\n",
       "      <th>3</th>\n",
       "      <td>7.072690e+18</td>\n",
       "      <td>5.760940e+18</td>\n",
       "      <td>7.293640e+18</td>\n",
       "      <td>Wayfair</td>\n",
       "      <td>7/22/18</td>\n",
       "      <td>21:56:42</td>\n",
       "      <td>3.106940e+18</td>\n",
       "      <td>6712</td>\n",
       "      <td>1</td>\n",
       "    </tr>\n",
       "    <tr>\n",
       "      <th>4</th>\n",
       "      <td>7.307240e+18</td>\n",
       "      <td>2.708890e+18</td>\n",
       "      <td>7.264500e+18</td>\n",
       "      <td>Wayfair</td>\n",
       "      <td>7/21/18</td>\n",
       "      <td>12:55:20</td>\n",
       "      <td>1.390570e+18</td>\n",
       "      <td>2468</td>\n",
       "      <td>1</td>\n",
       "    </tr>\n",
       "  </tbody>\n",
       "</table>\n",
       "</div>"
      ],
      "text/plain": [
       "   order_product_id      order_id    product_id wayfair_website_id order_date  \\\n",
       "0      8.344710e+18  1.073040e+17  8.089580e+18            Wayfair    7/19/18   \n",
       "1      7.897050e+18  9.115090e+17  4.407090e+18            Wayfair    7/21/18   \n",
       "2      3.742700e+17  9.115090e+17  1.327620e+18            Wayfair    7/21/18   \n",
       "3      7.072690e+18  5.760940e+18  7.293640e+18            Wayfair    7/22/18   \n",
       "4      7.307240e+18  2.708890e+18  7.264500e+18            Wayfair    7/21/18   \n",
       "\n",
       "  order_time   customer_id customer_zip  quantity_ordered  \n",
       "0    9:48:02  3.243950e+18        29464                 1  \n",
       "1   15:04:23  7.606760e+18        10928                 1  \n",
       "2   15:04:23  7.606760e+18        10928                 1  \n",
       "3   21:56:42  3.106940e+18         6712                 1  \n",
       "4   12:55:20  1.390570e+18         2468                 1  "
      ]
     },
     "execution_count": 5,
     "metadata": {},
     "output_type": "execute_result"
    }
   ],
   "source": [
    "df_orders1 = df_orders.rename(columns={'wayfair_product_id':'product_id'})\n",
    "df_orders1.head()"
   ]
  },
  {
   "cell_type": "code",
   "execution_count": 6,
   "metadata": {},
   "outputs": [
    {
     "data": {
      "text/html": [
       "<div>\n",
       "<style scoped>\n",
       "    .dataframe tbody tr th:only-of-type {\n",
       "        vertical-align: middle;\n",
       "    }\n",
       "\n",
       "    .dataframe tbody tr th {\n",
       "        vertical-align: top;\n",
       "    }\n",
       "\n",
       "    .dataframe thead th {\n",
       "        text-align: right;\n",
       "    }\n",
       "</style>\n",
       "<table border=\"1\" class=\"dataframe\">\n",
       "  <thead>\n",
       "    <tr style=\"text-align: right;\">\n",
       "      <th></th>\n",
       "      <th>state_fips</th>\n",
       "      <th>state</th>\n",
       "      <th>zipcode</th>\n",
       "      <th>agi_stub</th>\n",
       "      <th>num_returns</th>\n",
       "      <th>num_single</th>\n",
       "      <th>num_joint</th>\n",
       "      <th>num_hoh</th>\n",
       "      <th>num_dependents</th>\n",
       "      <th>num_elderly</th>\n",
       "      <th>...</th>\n",
       "      <th>N19300</th>\n",
       "      <th>A19300</th>\n",
       "      <th>N19500</th>\n",
       "      <th>A19500</th>\n",
       "      <th>N04800</th>\n",
       "      <th>A04800</th>\n",
       "      <th>N07220</th>\n",
       "      <th>A07220</th>\n",
       "      <th>N11901</th>\n",
       "      <th>A11901</th>\n",
       "    </tr>\n",
       "  </thead>\n",
       "  <tbody>\n",
       "    <tr>\n",
       "      <th>0</th>\n",
       "      <td>1</td>\n",
       "      <td>AL</td>\n",
       "      <td>0</td>\n",
       "      <td>1</td>\n",
       "      <td>815440</td>\n",
       "      <td>477700</td>\n",
       "      <td>105350</td>\n",
       "      <td>221200</td>\n",
       "      <td>491310</td>\n",
       "      <td>150920</td>\n",
       "      <td>...</td>\n",
       "      <td>25020</td>\n",
       "      <td>5950</td>\n",
       "      <td>46930</td>\n",
       "      <td>74541</td>\n",
       "      <td>17910</td>\n",
       "      <td>82471</td>\n",
       "      <td>27490</td>\n",
       "      <td>15002</td>\n",
       "      <td>0</td>\n",
       "      <td>0</td>\n",
       "    </tr>\n",
       "    <tr>\n",
       "      <th>1</th>\n",
       "      <td>1</td>\n",
       "      <td>AL</td>\n",
       "      <td>0</td>\n",
       "      <td>2</td>\n",
       "      <td>495830</td>\n",
       "      <td>211930</td>\n",
       "      <td>142340</td>\n",
       "      <td>128890</td>\n",
       "      <td>360480</td>\n",
       "      <td>109680</td>\n",
       "      <td>...</td>\n",
       "      <td>64360</td>\n",
       "      <td>17611</td>\n",
       "      <td>102740</td>\n",
       "      <td>243301</td>\n",
       "      <td>44430</td>\n",
       "      <td>292180</td>\n",
       "      <td>43580</td>\n",
       "      <td>45248</td>\n",
       "      <td>0</td>\n",
       "      <td>0</td>\n",
       "    </tr>\n",
       "    <tr>\n",
       "      <th>2</th>\n",
       "      <td>1</td>\n",
       "      <td>AL</td>\n",
       "      <td>0</td>\n",
       "      <td>3</td>\n",
       "      <td>263390</td>\n",
       "      <td>83420</td>\n",
       "      <td>137870</td>\n",
       "      <td>36340</td>\n",
       "      <td>182880</td>\n",
       "      <td>75570</td>\n",
       "      <td>...</td>\n",
       "      <td>68320</td>\n",
       "      <td>19479</td>\n",
       "      <td>99920</td>\n",
       "      <td>337719</td>\n",
       "      <td>37110</td>\n",
       "      <td>278272</td>\n",
       "      <td>22780</td>\n",
       "      <td>29166</td>\n",
       "      <td>0</td>\n",
       "      <td>0</td>\n",
       "    </tr>\n",
       "  </tbody>\n",
       "</table>\n",
       "<p>3 rows × 54 columns</p>\n",
       "</div>"
      ],
      "text/plain": [
       "   state_fips state  zipcode  agi_stub  num_returns  num_single  num_joint  \\\n",
       "0           1    AL        0         1       815440      477700     105350   \n",
       "1           1    AL        0         2       495830      211930     142340   \n",
       "2           1    AL        0         3       263390       83420     137870   \n",
       "\n",
       "   num_hoh  num_dependents  num_elderly   ...    N19300  A19300  N19500  \\\n",
       "0   221200          491310       150920   ...     25020    5950   46930   \n",
       "1   128890          360480       109680   ...     64360   17611  102740   \n",
       "2    36340          182880        75570   ...     68320   19479   99920   \n",
       "\n",
       "   A19500  N04800  A04800  N07220  A07220  N11901  A11901  \n",
       "0   74541   17910   82471   27490   15002       0       0  \n",
       "1  243301   44430  292180   43580   45248       0       0  \n",
       "2  337719   37110  278272   22780   29166       0       0  \n",
       "\n",
       "[3 rows x 54 columns]"
      ]
     },
     "execution_count": 6,
     "metadata": {},
     "output_type": "execute_result"
    }
   ],
   "source": [
    "lis_df[7].head(3)"
   ]
  },
  {
   "cell_type": "code",
   "execution_count": 7,
   "metadata": {},
   "outputs": [
    {
     "name": "stdout",
     "output_type": "stream",
     "text": [
      "(498673, 13)\n"
     ]
    },
    {
     "data": {
      "text/html": [
       "<div>\n",
       "<style scoped>\n",
       "    .dataframe tbody tr th:only-of-type {\n",
       "        vertical-align: middle;\n",
       "    }\n",
       "\n",
       "    .dataframe tbody tr th {\n",
       "        vertical-align: top;\n",
       "    }\n",
       "\n",
       "    .dataframe thead th {\n",
       "        text-align: right;\n",
       "    }\n",
       "</style>\n",
       "<table border=\"1\" class=\"dataframe\">\n",
       "  <thead>\n",
       "    <tr style=\"text-align: right;\">\n",
       "      <th></th>\n",
       "      <th>website_name</th>\n",
       "      <th>product_id</th>\n",
       "      <th>product_name</th>\n",
       "      <th>category_name</th>\n",
       "      <th>description</th>\n",
       "      <th>manufacturer_name</th>\n",
       "      <th>weight</th>\n",
       "      <th>dimension_1</th>\n",
       "      <th>dimension_2</th>\n",
       "      <th>dimension_3</th>\n",
       "      <th>num_reviews</th>\n",
       "      <th>onsite_price</th>\n",
       "      <th>on_promotion</th>\n",
       "    </tr>\n",
       "  </thead>\n",
       "  <tbody>\n",
       "    <tr>\n",
       "      <th>0</th>\n",
       "      <td>Joss US</td>\n",
       "      <td>2.790000e+18</td>\n",
       "      <td>Westgate Upholstered Panel Bed</td>\n",
       "      <td>Beds</td>\n",
       "      <td>The 1882 upholstered bed is sure to appeal to ...</td>\n",
       "      <td>Pulaski Furniture</td>\n",
       "      <td>116.0</td>\n",
       "      <td>59.25</td>\n",
       "      <td>87.50</td>\n",
       "      <td>68.75</td>\n",
       "      <td>7.0</td>\n",
       "      <td>409.99</td>\n",
       "      <td>0</td>\n",
       "    </tr>\n",
       "    <tr>\n",
       "      <th>1</th>\n",
       "      <td>Joss US</td>\n",
       "      <td>8.190000e+18</td>\n",
       "      <td>3 Piece Leah Bowl Set</td>\n",
       "      <td>Boxes, Bins, Baskets, &amp; Buckets</td>\n",
       "      <td>Stack green apples on the breakfast bar or dis...</td>\n",
       "      <td>Three Hands Co.</td>\n",
       "      <td>30.8</td>\n",
       "      <td>23.00</td>\n",
       "      <td>28.35</td>\n",
       "      <td>14.17</td>\n",
       "      <td>0.0</td>\n",
       "      <td>89.99</td>\n",
       "      <td>1</td>\n",
       "    </tr>\n",
       "    <tr>\n",
       "      <th>2</th>\n",
       "      <td>Joss US</td>\n",
       "      <td>7.240000e+18</td>\n",
       "      <td>Butter Cups/Ranunculus Sunshine Bulb</td>\n",
       "      <td>Planting &amp; Seeding</td>\n",
       "      <td>Start your own backyard garden or add spring s...</td>\n",
       "      <td>Van Zyverden Inc</td>\n",
       "      <td>1.0</td>\n",
       "      <td>16.00</td>\n",
       "      <td>3.00</td>\n",
       "      <td>4.00</td>\n",
       "      <td>0.0</td>\n",
       "      <td>16.99</td>\n",
       "      <td>0</td>\n",
       "    </tr>\n",
       "    <tr>\n",
       "      <th>3</th>\n",
       "      <td>Joss US</td>\n",
       "      <td>4.110000e+18</td>\n",
       "      <td>Freesias Double Blooming Bulb</td>\n",
       "      <td>Planting &amp; Seeding</td>\n",
       "      <td>Start your own backyard garden or add spring s...</td>\n",
       "      <td>Van Zyverden Inc</td>\n",
       "      <td>1.0</td>\n",
       "      <td>24.00</td>\n",
       "      <td>2.00</td>\n",
       "      <td>2.00</td>\n",
       "      <td>2.0</td>\n",
       "      <td>9.99</td>\n",
       "      <td>0</td>\n",
       "    </tr>\n",
       "    <tr>\n",
       "      <th>4</th>\n",
       "      <td>Joss US</td>\n",
       "      <td>7.670000e+18</td>\n",
       "      <td>Grand Freesia/Ranunculus Blend Bulb</td>\n",
       "      <td>Planting &amp; Seeding</td>\n",
       "      <td>Start your own backyard garden or add spring s...</td>\n",
       "      <td>Van Zyverden Inc</td>\n",
       "      <td>1.0</td>\n",
       "      <td>36.00</td>\n",
       "      <td>3.00</td>\n",
       "      <td>2.00</td>\n",
       "      <td>2.0</td>\n",
       "      <td>9.99</td>\n",
       "      <td>0</td>\n",
       "    </tr>\n",
       "  </tbody>\n",
       "</table>\n",
       "</div>"
      ],
      "text/plain": [
       "  website_name    product_id                          product_name  \\\n",
       "0      Joss US  2.790000e+18        Westgate Upholstered Panel Bed   \n",
       "1      Joss US  8.190000e+18                 3 Piece Leah Bowl Set   \n",
       "2      Joss US  7.240000e+18  Butter Cups/Ranunculus Sunshine Bulb   \n",
       "3      Joss US  4.110000e+18         Freesias Double Blooming Bulb   \n",
       "4      Joss US  7.670000e+18   Grand Freesia/Ranunculus Blend Bulb   \n",
       "\n",
       "                     category_name  \\\n",
       "0                             Beds   \n",
       "1  Boxes, Bins, Baskets, & Buckets   \n",
       "2               Planting & Seeding   \n",
       "3               Planting & Seeding   \n",
       "4               Planting & Seeding   \n",
       "\n",
       "                                         description  manufacturer_name  \\\n",
       "0  The 1882 upholstered bed is sure to appeal to ...  Pulaski Furniture   \n",
       "1  Stack green apples on the breakfast bar or dis...    Three Hands Co.   \n",
       "2  Start your own backyard garden or add spring s...   Van Zyverden Inc   \n",
       "3  Start your own backyard garden or add spring s...   Van Zyverden Inc   \n",
       "4  Start your own backyard garden or add spring s...   Van Zyverden Inc   \n",
       "\n",
       "   weight  dimension_1  dimension_2  dimension_3  num_reviews  onsite_price  \\\n",
       "0   116.0        59.25        87.50        68.75          7.0        409.99   \n",
       "1    30.8        23.00        28.35        14.17          0.0         89.99   \n",
       "2     1.0        16.00         3.00         4.00          0.0         16.99   \n",
       "3     1.0        24.00         2.00         2.00          2.0          9.99   \n",
       "4     1.0        36.00         3.00         2.00          2.0          9.99   \n",
       "\n",
       "   on_promotion  \n",
       "0             0  \n",
       "1             1  \n",
       "2             0  \n",
       "3             0  \n",
       "4             0  "
      ]
     },
     "execution_count": 7,
     "metadata": {},
     "output_type": "execute_result"
    }
   ],
   "source": [
    "df_products = lis_df[4]\n",
    "print(df_products.shape)\n",
    "df_products.head()"
   ]
  },
  {
   "cell_type": "code",
   "execution_count": 8,
   "metadata": {},
   "outputs": [
    {
     "data": {
      "text/html": [
       "<div>\n",
       "<style scoped>\n",
       "    .dataframe tbody tr th:only-of-type {\n",
       "        vertical-align: middle;\n",
       "    }\n",
       "\n",
       "    .dataframe tbody tr th {\n",
       "        vertical-align: top;\n",
       "    }\n",
       "\n",
       "    .dataframe thead th {\n",
       "        text-align: right;\n",
       "    }\n",
       "</style>\n",
       "<table border=\"1\" class=\"dataframe\">\n",
       "  <thead>\n",
       "    <tr style=\"text-align: right;\">\n",
       "      <th></th>\n",
       "      <th>state_fips</th>\n",
       "      <th>state</th>\n",
       "      <th>zipcode</th>\n",
       "      <th>agi_stub</th>\n",
       "      <th>num_returns</th>\n",
       "      <th>num_single</th>\n",
       "      <th>num_joint</th>\n",
       "      <th>num_hoh</th>\n",
       "      <th>num_dependents</th>\n",
       "      <th>num_elderly</th>\n",
       "      <th>...</th>\n",
       "      <th>N19300</th>\n",
       "      <th>A19300</th>\n",
       "      <th>N19500</th>\n",
       "      <th>A19500</th>\n",
       "      <th>N04800</th>\n",
       "      <th>A04800</th>\n",
       "      <th>N07220</th>\n",
       "      <th>A07220</th>\n",
       "      <th>N11901</th>\n",
       "      <th>A11901</th>\n",
       "    </tr>\n",
       "  </thead>\n",
       "  <tbody>\n",
       "    <tr>\n",
       "      <th>0</th>\n",
       "      <td>1</td>\n",
       "      <td>AL</td>\n",
       "      <td>0</td>\n",
       "      <td>1</td>\n",
       "      <td>815440</td>\n",
       "      <td>477700</td>\n",
       "      <td>105350</td>\n",
       "      <td>221200</td>\n",
       "      <td>491310</td>\n",
       "      <td>150920</td>\n",
       "      <td>...</td>\n",
       "      <td>25020</td>\n",
       "      <td>5950</td>\n",
       "      <td>46930</td>\n",
       "      <td>74541</td>\n",
       "      <td>17910</td>\n",
       "      <td>82471</td>\n",
       "      <td>27490</td>\n",
       "      <td>15002</td>\n",
       "      <td>0</td>\n",
       "      <td>0</td>\n",
       "    </tr>\n",
       "    <tr>\n",
       "      <th>1</th>\n",
       "      <td>1</td>\n",
       "      <td>AL</td>\n",
       "      <td>0</td>\n",
       "      <td>2</td>\n",
       "      <td>495830</td>\n",
       "      <td>211930</td>\n",
       "      <td>142340</td>\n",
       "      <td>128890</td>\n",
       "      <td>360480</td>\n",
       "      <td>109680</td>\n",
       "      <td>...</td>\n",
       "      <td>64360</td>\n",
       "      <td>17611</td>\n",
       "      <td>102740</td>\n",
       "      <td>243301</td>\n",
       "      <td>44430</td>\n",
       "      <td>292180</td>\n",
       "      <td>43580</td>\n",
       "      <td>45248</td>\n",
       "      <td>0</td>\n",
       "      <td>0</td>\n",
       "    </tr>\n",
       "    <tr>\n",
       "      <th>2</th>\n",
       "      <td>1</td>\n",
       "      <td>AL</td>\n",
       "      <td>0</td>\n",
       "      <td>3</td>\n",
       "      <td>263390</td>\n",
       "      <td>83420</td>\n",
       "      <td>137870</td>\n",
       "      <td>36340</td>\n",
       "      <td>182880</td>\n",
       "      <td>75570</td>\n",
       "      <td>...</td>\n",
       "      <td>68320</td>\n",
       "      <td>19479</td>\n",
       "      <td>99920</td>\n",
       "      <td>337719</td>\n",
       "      <td>37110</td>\n",
       "      <td>278272</td>\n",
       "      <td>22780</td>\n",
       "      <td>29166</td>\n",
       "      <td>0</td>\n",
       "      <td>0</td>\n",
       "    </tr>\n",
       "    <tr>\n",
       "      <th>3</th>\n",
       "      <td>1</td>\n",
       "      <td>AL</td>\n",
       "      <td>0</td>\n",
       "      <td>4</td>\n",
       "      <td>167190</td>\n",
       "      <td>29420</td>\n",
       "      <td>124060</td>\n",
       "      <td>10610</td>\n",
       "      <td>130160</td>\n",
       "      <td>51540</td>\n",
       "      <td>...</td>\n",
       "      <td>58540</td>\n",
       "      <td>18167</td>\n",
       "      <td>79980</td>\n",
       "      <td>362811</td>\n",
       "      <td>24780</td>\n",
       "      <td>202113</td>\n",
       "      <td>17250</td>\n",
       "      <td>22630</td>\n",
       "      <td>0</td>\n",
       "      <td>0</td>\n",
       "    </tr>\n",
       "    <tr>\n",
       "      <th>4</th>\n",
       "      <td>1</td>\n",
       "      <td>AL</td>\n",
       "      <td>0</td>\n",
       "      <td>5</td>\n",
       "      <td>217440</td>\n",
       "      <td>20240</td>\n",
       "      <td>188080</td>\n",
       "      <td>4880</td>\n",
       "      <td>195990</td>\n",
       "      <td>68080</td>\n",
       "      <td>...</td>\n",
       "      <td>117980</td>\n",
       "      <td>44270</td>\n",
       "      <td>151920</td>\n",
       "      <td>1065202</td>\n",
       "      <td>34030</td>\n",
       "      <td>298272</td>\n",
       "      <td>20970</td>\n",
       "      <td>29469</td>\n",
       "      <td>390</td>\n",
       "      <td>155</td>\n",
       "    </tr>\n",
       "  </tbody>\n",
       "</table>\n",
       "<p>5 rows × 54 columns</p>\n",
       "</div>"
      ],
      "text/plain": [
       "   state_fips state  zipcode  agi_stub  num_returns  num_single  num_joint  \\\n",
       "0           1    AL        0         1       815440      477700     105350   \n",
       "1           1    AL        0         2       495830      211930     142340   \n",
       "2           1    AL        0         3       263390       83420     137870   \n",
       "3           1    AL        0         4       167190       29420     124060   \n",
       "4           1    AL        0         5       217440       20240     188080   \n",
       "\n",
       "   num_hoh  num_dependents  num_elderly   ...    N19300  A19300  N19500  \\\n",
       "0   221200          491310       150920   ...     25020    5950   46930   \n",
       "1   128890          360480       109680   ...     64360   17611  102740   \n",
       "2    36340          182880        75570   ...     68320   19479   99920   \n",
       "3    10610          130160        51540   ...     58540   18167   79980   \n",
       "4     4880          195990        68080   ...    117980   44270  151920   \n",
       "\n",
       "    A19500  N04800  A04800  N07220  A07220  N11901  A11901  \n",
       "0    74541   17910   82471   27490   15002       0       0  \n",
       "1   243301   44430  292180   43580   45248       0       0  \n",
       "2   337719   37110  278272   22780   29166       0       0  \n",
       "3   362811   24780  202113   17250   22630       0       0  \n",
       "4  1065202   34030  298272   20970   29469     390     155  \n",
       "\n",
       "[5 rows x 54 columns]"
      ]
     },
     "execution_count": 8,
     "metadata": {},
     "output_type": "execute_result"
    }
   ],
   "source": [
    "df_taxes = lis_df[7]\n",
    "df_taxes.head()"
   ]
  },
  {
   "cell_type": "markdown",
   "metadata": {},
   "source": [
    "## Extract features from df_product"
   ]
  },
  {
   "cell_type": "code",
   "execution_count": 9,
   "metadata": {},
   "outputs": [
    {
     "data": {
      "text/html": [
       "<div>\n",
       "<style scoped>\n",
       "    .dataframe tbody tr th:only-of-type {\n",
       "        vertical-align: middle;\n",
       "    }\n",
       "\n",
       "    .dataframe tbody tr th {\n",
       "        vertical-align: top;\n",
       "    }\n",
       "\n",
       "    .dataframe thead th {\n",
       "        text-align: right;\n",
       "    }\n",
       "</style>\n",
       "<table border=\"1\" class=\"dataframe\">\n",
       "  <thead>\n",
       "    <tr style=\"text-align: right;\">\n",
       "      <th></th>\n",
       "      <th>product_id</th>\n",
       "      <th>weight</th>\n",
       "      <th>num_reviews</th>\n",
       "      <th>onsite_price</th>\n",
       "      <th>on_promotion</th>\n",
       "      <th>description</th>\n",
       "      <th>category_name</th>\n",
       "      <th>manufacturer_name</th>\n",
       "    </tr>\n",
       "  </thead>\n",
       "  <tbody>\n",
       "    <tr>\n",
       "      <th>0</th>\n",
       "      <td>2.790000e+18</td>\n",
       "      <td>116.0</td>\n",
       "      <td>7.0</td>\n",
       "      <td>409.99</td>\n",
       "      <td>0</td>\n",
       "      <td>The 1882 upholstered bed is sure to appeal to ...</td>\n",
       "      <td>Beds</td>\n",
       "      <td>Pulaski Furniture</td>\n",
       "    </tr>\n",
       "    <tr>\n",
       "      <th>1</th>\n",
       "      <td>8.190000e+18</td>\n",
       "      <td>30.8</td>\n",
       "      <td>0.0</td>\n",
       "      <td>89.99</td>\n",
       "      <td>1</td>\n",
       "      <td>Stack green apples on the breakfast bar or dis...</td>\n",
       "      <td>Boxes, Bins, Baskets, &amp; Buckets</td>\n",
       "      <td>Three Hands Co.</td>\n",
       "    </tr>\n",
       "    <tr>\n",
       "      <th>2</th>\n",
       "      <td>7.240000e+18</td>\n",
       "      <td>1.0</td>\n",
       "      <td>0.0</td>\n",
       "      <td>16.99</td>\n",
       "      <td>0</td>\n",
       "      <td>Start your own backyard garden or add spring s...</td>\n",
       "      <td>Planting &amp; Seeding</td>\n",
       "      <td>Van Zyverden Inc</td>\n",
       "    </tr>\n",
       "    <tr>\n",
       "      <th>3</th>\n",
       "      <td>4.110000e+18</td>\n",
       "      <td>1.0</td>\n",
       "      <td>2.0</td>\n",
       "      <td>9.99</td>\n",
       "      <td>0</td>\n",
       "      <td>Start your own backyard garden or add spring s...</td>\n",
       "      <td>Planting &amp; Seeding</td>\n",
       "      <td>Van Zyverden Inc</td>\n",
       "    </tr>\n",
       "    <tr>\n",
       "      <th>4</th>\n",
       "      <td>7.670000e+18</td>\n",
       "      <td>1.0</td>\n",
       "      <td>2.0</td>\n",
       "      <td>9.99</td>\n",
       "      <td>0</td>\n",
       "      <td>Start your own backyard garden or add spring s...</td>\n",
       "      <td>Planting &amp; Seeding</td>\n",
       "      <td>Van Zyverden Inc</td>\n",
       "    </tr>\n",
       "  </tbody>\n",
       "</table>\n",
       "</div>"
      ],
      "text/plain": [
       "     product_id  weight  num_reviews  onsite_price  on_promotion  \\\n",
       "0  2.790000e+18   116.0          7.0        409.99             0   \n",
       "1  8.190000e+18    30.8          0.0         89.99             1   \n",
       "2  7.240000e+18     1.0          0.0         16.99             0   \n",
       "3  4.110000e+18     1.0          2.0          9.99             0   \n",
       "4  7.670000e+18     1.0          2.0          9.99             0   \n",
       "\n",
       "                                         description  \\\n",
       "0  The 1882 upholstered bed is sure to appeal to ...   \n",
       "1  Stack green apples on the breakfast bar or dis...   \n",
       "2  Start your own backyard garden or add spring s...   \n",
       "3  Start your own backyard garden or add spring s...   \n",
       "4  Start your own backyard garden or add spring s...   \n",
       "\n",
       "                     category_name  manufacturer_name  \n",
       "0                             Beds  Pulaski Furniture  \n",
       "1  Boxes, Bins, Baskets, & Buckets    Three Hands Co.  \n",
       "2               Planting & Seeding   Van Zyverden Inc  \n",
       "3               Planting & Seeding   Van Zyverden Inc  \n",
       "4               Planting & Seeding   Van Zyverden Inc  "
      ]
     },
     "execution_count": 9,
     "metadata": {},
     "output_type": "execute_result"
    }
   ],
   "source": [
    "columns = ['product_id','weight','num_reviews','onsite_price','on_promotion','description','category_name','manufacturer_name']\n",
    "df_products1 = df_products.loc[:,columns]\n",
    "df_products1.head()"
   ]
  },
  {
   "cell_type": "code",
   "execution_count": 10,
   "metadata": {},
   "outputs": [
    {
     "name": "stdout",
     "output_type": "stream",
     "text": [
      "<class 'pandas.core.frame.DataFrame'>\n",
      "Int64Index: 80123 entries, 0 to 80122\n",
      "Data columns (total 13 columns):\n",
      "product_id           80123 non-null float64\n",
      "order_date           80123 non-null object\n",
      "order_time           80123 non-null object\n",
      "customer_id          80123 non-null float64\n",
      "customer_zip         80123 non-null object\n",
      "quantity_ordered     80123 non-null int64\n",
      "weight               80123 non-null float64\n",
      "num_reviews          80123 non-null float64\n",
      "onsite_price         80123 non-null float64\n",
      "on_promotion         80123 non-null int64\n",
      "description          80123 non-null object\n",
      "category_name        80123 non-null object\n",
      "manufacturer_name    80123 non-null object\n",
      "dtypes: float64(5), int64(2), object(6)\n",
      "memory usage: 8.6+ MB\n"
     ]
    }
   ],
   "source": [
    "df = pd.merge(df_orders1, df_products1, on='product_id')\n",
    "df = df.drop(columns=['order_product_id','order_id','wayfair_website_id'])\n",
    "df.info()"
   ]
  },
  {
   "cell_type": "code",
   "execution_count": 11,
   "metadata": {},
   "outputs": [
    {
     "name": "stdout",
     "output_type": "stream",
     "text": [
      "<class 'pandas.core.frame.DataFrame'>\n",
      "Int64Index: 80123 entries, 0 to 80122\n",
      "Data columns (total 14 columns):\n",
      "product_id           80123 non-null float64\n",
      "order_date           80123 non-null object\n",
      "order_time           80123 non-null object\n",
      "customer_id          80123 non-null float64\n",
      "customer_zip         80123 non-null object\n",
      "quantity_ordered     80123 non-null int64\n",
      "weight               80123 non-null float64\n",
      "num_reviews          80123 non-null float64\n",
      "onsite_price         80123 non-null float64\n",
      "on_promotion         80123 non-null int64\n",
      "description          80123 non-null object\n",
      "category_name        80123 non-null object\n",
      "manufacturer_name    80123 non-null object\n",
      "order_value          80123 non-null float64\n",
      "dtypes: float64(6), int64(2), object(6)\n",
      "memory usage: 9.2+ MB\n"
     ]
    }
   ],
   "source": [
    "df['order_value'] = df.quantity_ordered*df.onsite_price\n",
    "df.info()"
   ]
  },
  {
   "cell_type": "markdown",
   "metadata": {},
   "source": [
    "## Features int df_taxes"
   ]
  },
  {
   "cell_type": "code",
   "execution_count": 12,
   "metadata": {
    "collapsed": true
   },
   "outputs": [],
   "source": [
    "df.customer_zip=df.customer_zip.astype(int)\n",
    "df = df.rename(columns={'customer_zip':'zipcode'})\n",
    "\n"
   ]
  },
  {
   "cell_type": "code",
   "execution_count": 13,
   "metadata": {},
   "outputs": [
    {
     "name": "stdout",
     "output_type": "stream",
     "text": [
      "<class 'pandas.core.frame.DataFrame'>\n",
      "RangeIndex: 179796 entries, 0 to 179795\n",
      "Data columns (total 3 columns):\n",
      "state          179796 non-null object\n",
      "zipcode        179796 non-null int64\n",
      "num_returns    179796 non-null int64\n",
      "dtypes: int64(2), object(1)\n",
      "memory usage: 4.1+ MB\n"
     ]
    }
   ],
   "source": [
    "df_taxes1 = df_taxes.loc[:,['state','zipcode','num_returns']]\n",
    "df_taxes1.info()"
   ]
  },
  {
   "cell_type": "code",
   "execution_count": 14,
   "metadata": {},
   "outputs": [
    {
     "name": "stdout",
     "output_type": "stream",
     "text": [
      "<class 'pandas.core.frame.DataFrame'>\n",
      "Int64Index: 80123 entries, 0 to 80122\n",
      "Data columns (total 14 columns):\n",
      "product_id           80123 non-null float64\n",
      "order_date           80123 non-null object\n",
      "order_time           80123 non-null object\n",
      "customer_id          80123 non-null float64\n",
      "zipcode              80123 non-null int32\n",
      "quantity_ordered     80123 non-null int64\n",
      "weight               80123 non-null float64\n",
      "num_reviews          80123 non-null float64\n",
      "onsite_price         80123 non-null float64\n",
      "on_promotion         80123 non-null int64\n",
      "description          80123 non-null object\n",
      "category_name        80123 non-null object\n",
      "manufacturer_name    80123 non-null object\n",
      "order_value          80123 non-null float64\n",
      "dtypes: float64(6), int32(1), int64(2), object(5)\n",
      "memory usage: 8.9+ MB\n"
     ]
    }
   ],
   "source": [
    "df.info()"
   ]
  },
  {
   "cell_type": "code",
   "execution_count": 15,
   "metadata": {},
   "outputs": [
    {
     "name": "stdout",
     "output_type": "stream",
     "text": [
      "<class 'pandas.core.frame.DataFrame'>\n",
      "Int64Index: 79080 entries, 0 to 79079\n",
      "Data columns (total 15 columns):\n",
      "product_id           79080 non-null float64\n",
      "order_date           79080 non-null object\n",
      "order_time           79080 non-null object\n",
      "customer_id          79080 non-null float64\n",
      "zipcode              79080 non-null int32\n",
      "quantity_ordered     79080 non-null int64\n",
      "weight               79080 non-null float64\n",
      "num_reviews          79080 non-null float64\n",
      "onsite_price         79080 non-null float64\n",
      "on_promotion         79080 non-null int64\n",
      "description          79080 non-null object\n",
      "category_name        79080 non-null object\n",
      "manufacturer_name    79080 non-null object\n",
      "order_value          79080 non-null float64\n",
      "num_returns          79080 non-null float64\n",
      "dtypes: float64(7), int32(1), int64(2), object(5)\n",
      "memory usage: 9.4+ MB\n"
     ]
    }
   ],
   "source": [
    "df_taxes1=df_taxes1.groupby('zipcode').mean()\n",
    "df = pd.merge(df,df_taxes1,on='zipcode')\n",
    "df.info()"
   ]
  },
  {
   "cell_type": "markdown",
   "metadata": {},
   "source": [
    "## Dummies for categorical parameters"
   ]
  },
  {
   "cell_type": "code",
   "execution_count": 16,
   "metadata": {},
   "outputs": [
    {
     "name": "stdout",
     "output_type": "stream",
     "text": [
      "<class 'pandas.core.frame.DataFrame'>\n",
      "Int64Index: 79080 entries, 0 to 79079\n",
      "Data columns (total 15 columns):\n",
      "product_id           79080 non-null float64\n",
      "order_date           79080 non-null object\n",
      "order_time           79080 non-null object\n",
      "customer_id          79080 non-null float64\n",
      "zipcode              79080 non-null int32\n",
      "quantity_ordered     79080 non-null int64\n",
      "weight               79080 non-null float64\n",
      "num_reviews          79080 non-null float64\n",
      "onsite_price         79080 non-null float64\n",
      "on_promotion         79080 non-null int64\n",
      "description          79080 non-null object\n",
      "category_name        79080 non-null object\n",
      "manufacturer_name    79080 non-null object\n",
      "order_value          79080 non-null float64\n",
      "num_returns          79080 non-null float64\n",
      "dtypes: float64(7), int32(1), int64(2), object(5)\n",
      "memory usage: 9.4+ MB\n"
     ]
    }
   ],
   "source": [
    "df.order_date=df.order_date.str.replace('\\d\\/16\\/\\d+','Monday')\n",
    "df.order_date=df.order_date.str.replace('\\d\\/17\\/\\d+','Tuesday')\n",
    "df.order_date=df.order_date.str.replace('\\d\\/18\\/\\d+','Wednesday')\n",
    "df.order_date=df.order_date.str.replace('\\d\\/19\\/\\d+','Thursday')\n",
    "df.order_date=df.order_date.str.replace('\\d\\/20\\/\\d+','Friday')\n",
    "df.order_date=df.order_date.str.replace('\\d\\/21\\/\\d+','Saturday')\n",
    "df.order_date=df.order_date.str.replace('\\d\\/22\\/\\d+','Sunday')\n",
    "df.info()"
   ]
  },
  {
   "cell_type": "code",
   "execution_count": 17,
   "metadata": {},
   "outputs": [
    {
     "name": "stdout",
     "output_type": "stream",
     "text": [
      "<class 'pandas.core.frame.DataFrame'>\n",
      "Int64Index: 79080 entries, 0 to 79079\n",
      "Data columns (total 22 columns):\n",
      "product_id           79080 non-null float64\n",
      "order_date           79080 non-null object\n",
      "order_time           79080 non-null object\n",
      "customer_id          79080 non-null float64\n",
      "zipcode              79080 non-null int32\n",
      "quantity_ordered     79080 non-null int64\n",
      "weight               79080 non-null float64\n",
      "num_reviews          79080 non-null float64\n",
      "onsite_price         79080 non-null float64\n",
      "on_promotion         79080 non-null int64\n",
      "description          79080 non-null object\n",
      "category_name        79080 non-null object\n",
      "manufacturer_name    79080 non-null object\n",
      "order_value          79080 non-null float64\n",
      "num_returns          79080 non-null float64\n",
      "Friday               79080 non-null uint8\n",
      "Monday               79080 non-null uint8\n",
      "Saturday             79080 non-null uint8\n",
      "Sunday               79080 non-null uint8\n",
      "Thursday             79080 non-null uint8\n",
      "Tuesday              79080 non-null uint8\n",
      "Wednesday            79080 non-null uint8\n",
      "dtypes: float64(7), int32(1), int64(2), object(5), uint8(7)\n",
      "memory usage: 9.9+ MB\n"
     ]
    }
   ],
   "source": [
    "df2=pd.concat([df,pd.get_dummies(df.order_date)],axis=1)\n",
    "df2.info()"
   ]
  },
  {
   "cell_type": "code",
   "execution_count": 18,
   "metadata": {},
   "outputs": [
    {
     "data": {
      "text/plain": [
       "afternoon    28379\n",
       "evening      27860\n",
       "morning      22841\n",
       "Name: order_time, dtype: int64"
      ]
     },
     "execution_count": 18,
     "metadata": {},
     "output_type": "execute_result"
    }
   ],
   "source": [
    "for i in range(0,12):\n",
    "    df2.order_time=df2.order_time.str.replace('^'+str(i)+':\\S+','morning')\n",
    "for i in range(12,18):\n",
    "    df2.order_time=df2.order_time.str.replace('^'+str(i)+':\\S+','afternoon')\n",
    "for i in range(18,24):  \n",
    "    df2.order_time=df2.order_time.str.replace('^'+str(i)+':\\S+','evening')\n",
    "df2.order_time.value_counts()    "
   ]
  },
  {
   "cell_type": "code",
   "execution_count": 19,
   "metadata": {},
   "outputs": [
    {
     "name": "stdout",
     "output_type": "stream",
     "text": [
      "<class 'pandas.core.frame.DataFrame'>\n",
      "Int64Index: 79080 entries, 0 to 79079\n",
      "Data columns (total 25 columns):\n",
      "product_id           79080 non-null float64\n",
      "order_date           79080 non-null object\n",
      "order_time           79080 non-null object\n",
      "customer_id          79080 non-null float64\n",
      "zipcode              79080 non-null int32\n",
      "quantity_ordered     79080 non-null int64\n",
      "weight               79080 non-null float64\n",
      "num_reviews          79080 non-null float64\n",
      "onsite_price         79080 non-null float64\n",
      "on_promotion         79080 non-null int64\n",
      "description          79080 non-null object\n",
      "category_name        79080 non-null object\n",
      "manufacturer_name    79080 non-null object\n",
      "order_value          79080 non-null float64\n",
      "num_returns          79080 non-null float64\n",
      "Friday               79080 non-null uint8\n",
      "Monday               79080 non-null uint8\n",
      "Saturday             79080 non-null uint8\n",
      "Sunday               79080 non-null uint8\n",
      "Thursday             79080 non-null uint8\n",
      "Tuesday              79080 non-null uint8\n",
      "Wednesday            79080 non-null uint8\n",
      "afternoon            79080 non-null uint8\n",
      "evening              79080 non-null uint8\n",
      "morning              79080 non-null uint8\n",
      "dtypes: float64(7), int32(1), int64(2), object(5), uint8(10)\n",
      "memory usage: 10.1+ MB\n"
     ]
    }
   ],
   "source": [
    "df2=pd.concat([df2,pd.get_dummies(df2.order_time)],axis=1)\n",
    "df2.info()"
   ]
  },
  {
   "cell_type": "code",
   "execution_count": 20,
   "metadata": {},
   "outputs": [
    {
     "name": "stdout",
     "output_type": "stream",
     "text": [
      "<class 'pandas.core.frame.DataFrame'>\n",
      "Int64Index: 79080 entries, 0 to 79079\n",
      "Data columns (total 26 columns):\n",
      "product_id            79080 non-null float64\n",
      "order_date            79080 non-null object\n",
      "order_time            79080 non-null object\n",
      "customer_id           79080 non-null float64\n",
      "zipcode               79080 non-null int32\n",
      "quantity_ordered      79080 non-null int64\n",
      "weight                79080 non-null float64\n",
      "num_reviews           79080 non-null float64\n",
      "onsite_price          79080 non-null float64\n",
      "on_promotion          79080 non-null int64\n",
      "description           79080 non-null object\n",
      "category_name         79080 non-null object\n",
      "manufacturer_name     79080 non-null object\n",
      "order_value           79080 non-null float64\n",
      "num_returns           79080 non-null float64\n",
      "Friday                79080 non-null uint8\n",
      "Monday                79080 non-null uint8\n",
      "Saturday              79080 non-null uint8\n",
      "Sunday                79080 non-null uint8\n",
      "Thursday              79080 non-null uint8\n",
      "Tuesday               79080 non-null uint8\n",
      "Wednesday             79080 non-null uint8\n",
      "afternoon             79080 non-null uint8\n",
      "evening               79080 non-null uint8\n",
      "morning               79080 non-null uint8\n",
      "description_length    79080 non-null int64\n",
      "dtypes: float64(7), int32(1), int64(3), object(5), uint8(10)\n",
      "memory usage: 10.7+ MB\n"
     ]
    }
   ],
   "source": [
    "df2['description_length'] = df2.description.str.len()\n",
    "df2.info()"
   ]
  },
  {
   "cell_type": "code",
   "execution_count": 21,
   "metadata": {
    "collapsed": true,
    "scrolled": false
   },
   "outputs": [],
   "source": [
    "category_count = df2.groupby('category_name')['description_length'].count().reset_index(name = 'category_count')\n",
    "manu_count = df2.groupby('manufacturer_name')['description_length'].count().reset_index(name = 'manu_count')\n"
   ]
  },
  {
   "cell_type": "code",
   "execution_count": 22,
   "metadata": {},
   "outputs": [
    {
     "name": "stdout",
     "output_type": "stream",
     "text": [
      "<class 'pandas.core.frame.DataFrame'>\n",
      "Int64Index: 79080 entries, 0 to 79079\n",
      "Data columns (total 28 columns):\n",
      "product_id            79080 non-null float64\n",
      "order_date            79080 non-null object\n",
      "order_time            79080 non-null object\n",
      "customer_id           79080 non-null float64\n",
      "zipcode               79080 non-null int32\n",
      "quantity_ordered      79080 non-null int64\n",
      "weight                79080 non-null float64\n",
      "num_reviews           79080 non-null float64\n",
      "onsite_price          79080 non-null float64\n",
      "on_promotion          79080 non-null int64\n",
      "description           79080 non-null object\n",
      "category_name         79080 non-null object\n",
      "manufacturer_name     79080 non-null object\n",
      "order_value           79080 non-null float64\n",
      "num_returns           79080 non-null float64\n",
      "Friday                79080 non-null uint8\n",
      "Monday                79080 non-null uint8\n",
      "Saturday              79080 non-null uint8\n",
      "Sunday                79080 non-null uint8\n",
      "Thursday              79080 non-null uint8\n",
      "Tuesday               79080 non-null uint8\n",
      "Wednesday             79080 non-null uint8\n",
      "afternoon             79080 non-null uint8\n",
      "evening               79080 non-null uint8\n",
      "morning               79080 non-null uint8\n",
      "description_length    79080 non-null int64\n",
      "category_count        79080 non-null int64\n",
      "manu_count            79080 non-null int64\n",
      "dtypes: float64(7), int32(1), int64(5), object(5), uint8(10)\n",
      "memory usage: 11.9+ MB\n"
     ]
    }
   ],
   "source": [
    "df3 = pd.merge(df2,category_count,on='category_name')\n",
    "df3 = pd.merge(df3,manu_count,on='manufacturer_name')\n",
    "df3.info()"
   ]
  },
  {
   "cell_type": "code",
   "execution_count": 23,
   "metadata": {},
   "outputs": [
    {
     "data": {
      "text/html": [
       "<div>\n",
       "<style scoped>\n",
       "    .dataframe tbody tr th:only-of-type {\n",
       "        vertical-align: middle;\n",
       "    }\n",
       "\n",
       "    .dataframe tbody tr th {\n",
       "        vertical-align: top;\n",
       "    }\n",
       "\n",
       "    .dataframe thead th {\n",
       "        text-align: right;\n",
       "    }\n",
       "</style>\n",
       "<table border=\"1\" class=\"dataframe\">\n",
       "  <thead>\n",
       "    <tr style=\"text-align: right;\">\n",
       "      <th></th>\n",
       "      <th>product_id</th>\n",
       "      <th>order_date</th>\n",
       "      <th>order_time</th>\n",
       "      <th>customer_id</th>\n",
       "      <th>zipcode</th>\n",
       "      <th>quantity_ordered</th>\n",
       "      <th>weight</th>\n",
       "      <th>num_reviews</th>\n",
       "      <th>onsite_price</th>\n",
       "      <th>on_promotion</th>\n",
       "      <th>...</th>\n",
       "      <th>Tuesday</th>\n",
       "      <th>Wednesday</th>\n",
       "      <th>afternoon</th>\n",
       "      <th>evening</th>\n",
       "      <th>morning</th>\n",
       "      <th>description_length</th>\n",
       "      <th>category_count</th>\n",
       "      <th>manu_count</th>\n",
       "      <th>category_rate</th>\n",
       "      <th>manufacturer_rate</th>\n",
       "    </tr>\n",
       "  </thead>\n",
       "  <tbody>\n",
       "    <tr>\n",
       "      <th>0</th>\n",
       "      <td>7.842510e+15</td>\n",
       "      <td>Thursday</td>\n",
       "      <td>afternoon</td>\n",
       "      <td>6.231540e+18</td>\n",
       "      <td>61832</td>\n",
       "      <td>1</td>\n",
       "      <td>62.0</td>\n",
       "      <td>511.0</td>\n",
       "      <td>157.31</td>\n",
       "      <td>1</td>\n",
       "      <td>...</td>\n",
       "      <td>0</td>\n",
       "      <td>0</td>\n",
       "      <td>1</td>\n",
       "      <td>0</td>\n",
       "      <td>0</td>\n",
       "      <td>300</td>\n",
       "      <td>154</td>\n",
       "      <td>624</td>\n",
       "      <td>0.001947</td>\n",
       "      <td>0.007891</td>\n",
       "    </tr>\n",
       "    <tr>\n",
       "      <th>1</th>\n",
       "      <td>7.842510e+15</td>\n",
       "      <td>Wednesday</td>\n",
       "      <td>afternoon</td>\n",
       "      <td>3.839240e+18</td>\n",
       "      <td>8858</td>\n",
       "      <td>1</td>\n",
       "      <td>62.0</td>\n",
       "      <td>511.0</td>\n",
       "      <td>157.31</td>\n",
       "      <td>1</td>\n",
       "      <td>...</td>\n",
       "      <td>0</td>\n",
       "      <td>1</td>\n",
       "      <td>1</td>\n",
       "      <td>0</td>\n",
       "      <td>0</td>\n",
       "      <td>300</td>\n",
       "      <td>154</td>\n",
       "      <td>624</td>\n",
       "      <td>0.001947</td>\n",
       "      <td>0.007891</td>\n",
       "    </tr>\n",
       "    <tr>\n",
       "      <th>2</th>\n",
       "      <td>7.842510e+15</td>\n",
       "      <td>Saturday</td>\n",
       "      <td>morning</td>\n",
       "      <td>4.570650e+18</td>\n",
       "      <td>28054</td>\n",
       "      <td>1</td>\n",
       "      <td>62.0</td>\n",
       "      <td>511.0</td>\n",
       "      <td>157.31</td>\n",
       "      <td>1</td>\n",
       "      <td>...</td>\n",
       "      <td>0</td>\n",
       "      <td>0</td>\n",
       "      <td>0</td>\n",
       "      <td>0</td>\n",
       "      <td>1</td>\n",
       "      <td>300</td>\n",
       "      <td>154</td>\n",
       "      <td>624</td>\n",
       "      <td>0.001947</td>\n",
       "      <td>0.007891</td>\n",
       "    </tr>\n",
       "    <tr>\n",
       "      <th>3</th>\n",
       "      <td>7.842510e+15</td>\n",
       "      <td>Wednesday</td>\n",
       "      <td>evening</td>\n",
       "      <td>2.495660e+18</td>\n",
       "      <td>78233</td>\n",
       "      <td>1</td>\n",
       "      <td>62.0</td>\n",
       "      <td>511.0</td>\n",
       "      <td>157.31</td>\n",
       "      <td>1</td>\n",
       "      <td>...</td>\n",
       "      <td>0</td>\n",
       "      <td>1</td>\n",
       "      <td>0</td>\n",
       "      <td>1</td>\n",
       "      <td>0</td>\n",
       "      <td>300</td>\n",
       "      <td>154</td>\n",
       "      <td>624</td>\n",
       "      <td>0.001947</td>\n",
       "      <td>0.007891</td>\n",
       "    </tr>\n",
       "    <tr>\n",
       "      <th>4</th>\n",
       "      <td>7.842510e+15</td>\n",
       "      <td>Sunday</td>\n",
       "      <td>morning</td>\n",
       "      <td>7.211280e+18</td>\n",
       "      <td>7036</td>\n",
       "      <td>1</td>\n",
       "      <td>62.0</td>\n",
       "      <td>511.0</td>\n",
       "      <td>157.31</td>\n",
       "      <td>1</td>\n",
       "      <td>...</td>\n",
       "      <td>0</td>\n",
       "      <td>0</td>\n",
       "      <td>0</td>\n",
       "      <td>0</td>\n",
       "      <td>1</td>\n",
       "      <td>300</td>\n",
       "      <td>154</td>\n",
       "      <td>624</td>\n",
       "      <td>0.001947</td>\n",
       "      <td>0.007891</td>\n",
       "    </tr>\n",
       "  </tbody>\n",
       "</table>\n",
       "<p>5 rows × 30 columns</p>\n",
       "</div>"
      ],
      "text/plain": [
       "     product_id order_date order_time   customer_id  zipcode  \\\n",
       "0  7.842510e+15   Thursday  afternoon  6.231540e+18    61832   \n",
       "1  7.842510e+15  Wednesday  afternoon  3.839240e+18     8858   \n",
       "2  7.842510e+15   Saturday    morning  4.570650e+18    28054   \n",
       "3  7.842510e+15  Wednesday    evening  2.495660e+18    78233   \n",
       "4  7.842510e+15     Sunday    morning  7.211280e+18     7036   \n",
       "\n",
       "   quantity_ordered  weight  num_reviews  onsite_price  on_promotion  \\\n",
       "0                 1    62.0        511.0        157.31             1   \n",
       "1                 1    62.0        511.0        157.31             1   \n",
       "2                 1    62.0        511.0        157.31             1   \n",
       "3                 1    62.0        511.0        157.31             1   \n",
       "4                 1    62.0        511.0        157.31             1   \n",
       "\n",
       "         ...         Tuesday Wednesday afternoon  evening  morning  \\\n",
       "0        ...               0         0         1        0        0   \n",
       "1        ...               0         1         1        0        0   \n",
       "2        ...               0         0         0        0        1   \n",
       "3        ...               0         1         0        1        0   \n",
       "4        ...               0         0         0        0        1   \n",
       "\n",
       "   description_length  category_count  manu_count  category_rate  \\\n",
       "0                 300             154         624       0.001947   \n",
       "1                 300             154         624       0.001947   \n",
       "2                 300             154         624       0.001947   \n",
       "3                 300             154         624       0.001947   \n",
       "4                 300             154         624       0.001947   \n",
       "\n",
       "   manufacturer_rate  \n",
       "0           0.007891  \n",
       "1           0.007891  \n",
       "2           0.007891  \n",
       "3           0.007891  \n",
       "4           0.007891  \n",
       "\n",
       "[5 rows x 30 columns]"
      ]
     },
     "execution_count": 23,
     "metadata": {},
     "output_type": "execute_result"
    }
   ],
   "source": [
    "df3['category_rate'] = df3.category_count/(len(df3))\n",
    "df3['manufacturer_rate'] = df3.manu_count/(len(df3))\n",
    "df3.head()"
   ]
  },
  {
   "cell_type": "code",
   "execution_count": 24,
   "metadata": {},
   "outputs": [
    {
     "name": "stdout",
     "output_type": "stream",
     "text": [
      "<class 'pandas.core.frame.DataFrame'>\n",
      "Int64Index: 79080 entries, 0 to 79079\n",
      "Data columns (total 23 columns):\n",
      "product_id            79080 non-null float64\n",
      "customer_id           79080 non-null float64\n",
      "zipcode               79080 non-null int32\n",
      "quantity_ordered      79080 non-null int64\n",
      "weight                79080 non-null float64\n",
      "num_reviews           79080 non-null float64\n",
      "onsite_price          79080 non-null float64\n",
      "on_promotion          79080 non-null int64\n",
      "order_value           79080 non-null float64\n",
      "num_returns           79080 non-null float64\n",
      "Friday                79080 non-null uint8\n",
      "Monday                79080 non-null uint8\n",
      "Saturday              79080 non-null uint8\n",
      "Sunday                79080 non-null uint8\n",
      "Thursday              79080 non-null uint8\n",
      "Tuesday               79080 non-null uint8\n",
      "Wednesday             79080 non-null uint8\n",
      "afternoon             79080 non-null uint8\n",
      "evening               79080 non-null uint8\n",
      "morning               79080 non-null uint8\n",
      "description_length    79080 non-null int64\n",
      "category_rate         79080 non-null float64\n",
      "manufacturer_rate     79080 non-null float64\n",
      "dtypes: float64(9), int32(1), int64(3), uint8(10)\n",
      "memory usage: 8.9 MB\n"
     ]
    }
   ],
   "source": [
    "data = df3.drop(columns=['order_date','order_time','description','description','category_name','manufacturer_name',\n",
    "                        'category_count','manu_count'])\n",
    "data.info()"
   ]
  },
  {
   "cell_type": "code",
   "execution_count": 42,
   "metadata": {
    "collapsed": true
   },
   "outputs": [],
   "source": [
    "data.to_csv('regression_data.csv',index=False)"
   ]
  },
  {
   "cell_type": "markdown",
   "metadata": {},
   "source": [
    "linear regression, random forest, neural "
   ]
  },
  {
   "cell_type": "markdown",
   "metadata": {},
   "source": [
    "# AutoML regression"
   ]
  },
  {
   "cell_type": "markdown",
   "metadata": {},
   "source": [
    "## TPOT"
   ]
  },
  {
   "cell_type": "code",
   "execution_count": 25,
   "metadata": {},
   "outputs": [
    {
     "name": "stderr",
     "output_type": "stream",
     "text": [
      "C:\\Users\\Girijesh\\Anaconda3\\lib\\site-packages\\deap\\tools\\_hypervolume\\pyhv.py:33: ImportWarning: Falling back to the python version of hypervolume module. Expect this to be very slow.\n",
      "  \"module. Expect this to be very slow.\", ImportWarning)\n",
      "C:\\Users\\Girijesh\\Anaconda3\\lib\\importlib\\_bootstrap.py:205: ImportWarning: can't resolve package from __spec__ or __package__, falling back on __name__ and __path__\n",
      "  return f(*args, **kwds)\n"
     ]
    }
   ],
   "source": [
    "from tpot import TPOTRegressor\n",
    "from sklearn.model_selection import train_test_split"
   ]
  },
  {
   "cell_type": "code",
   "execution_count": 26,
   "metadata": {},
   "outputs": [
    {
     "data": {
      "text/html": [
       "<div>\n",
       "<style scoped>\n",
       "    .dataframe tbody tr th:only-of-type {\n",
       "        vertical-align: middle;\n",
       "    }\n",
       "\n",
       "    .dataframe tbody tr th {\n",
       "        vertical-align: top;\n",
       "    }\n",
       "\n",
       "    .dataframe thead th {\n",
       "        text-align: right;\n",
       "    }\n",
       "</style>\n",
       "<table border=\"1\" class=\"dataframe\">\n",
       "  <thead>\n",
       "    <tr style=\"text-align: right;\">\n",
       "      <th></th>\n",
       "      <th>product_id</th>\n",
       "      <th>customer_id</th>\n",
       "      <th>zipcode</th>\n",
       "      <th>quantity_ordered</th>\n",
       "      <th>weight</th>\n",
       "      <th>num_reviews</th>\n",
       "      <th>onsite_price</th>\n",
       "      <th>on_promotion</th>\n",
       "      <th>order_value</th>\n",
       "      <th>num_returns</th>\n",
       "      <th>...</th>\n",
       "      <th>Sunday</th>\n",
       "      <th>Thursday</th>\n",
       "      <th>Tuesday</th>\n",
       "      <th>Wednesday</th>\n",
       "      <th>afternoon</th>\n",
       "      <th>evening</th>\n",
       "      <th>morning</th>\n",
       "      <th>description_length</th>\n",
       "      <th>category_rate</th>\n",
       "      <th>manufacturer_rate</th>\n",
       "    </tr>\n",
       "  </thead>\n",
       "  <tbody>\n",
       "    <tr>\n",
       "      <th>0</th>\n",
       "      <td>7.842510e+15</td>\n",
       "      <td>6.231540e+18</td>\n",
       "      <td>61832</td>\n",
       "      <td>1</td>\n",
       "      <td>62.0</td>\n",
       "      <td>511.0</td>\n",
       "      <td>157.31</td>\n",
       "      <td>1</td>\n",
       "      <td>157.31</td>\n",
       "      <td>2350.000000</td>\n",
       "      <td>...</td>\n",
       "      <td>0</td>\n",
       "      <td>1</td>\n",
       "      <td>0</td>\n",
       "      <td>0</td>\n",
       "      <td>1</td>\n",
       "      <td>0</td>\n",
       "      <td>0</td>\n",
       "      <td>300</td>\n",
       "      <td>0.001947</td>\n",
       "      <td>0.007891</td>\n",
       "    </tr>\n",
       "    <tr>\n",
       "      <th>1</th>\n",
       "      <td>7.842510e+15</td>\n",
       "      <td>3.839240e+18</td>\n",
       "      <td>8858</td>\n",
       "      <td>1</td>\n",
       "      <td>62.0</td>\n",
       "      <td>511.0</td>\n",
       "      <td>157.31</td>\n",
       "      <td>1</td>\n",
       "      <td>157.31</td>\n",
       "      <td>63.333333</td>\n",
       "      <td>...</td>\n",
       "      <td>0</td>\n",
       "      <td>0</td>\n",
       "      <td>0</td>\n",
       "      <td>1</td>\n",
       "      <td>1</td>\n",
       "      <td>0</td>\n",
       "      <td>0</td>\n",
       "      <td>300</td>\n",
       "      <td>0.001947</td>\n",
       "      <td>0.007891</td>\n",
       "    </tr>\n",
       "    <tr>\n",
       "      <th>2</th>\n",
       "      <td>7.842510e+15</td>\n",
       "      <td>4.570650e+18</td>\n",
       "      <td>28054</td>\n",
       "      <td>1</td>\n",
       "      <td>62.0</td>\n",
       "      <td>511.0</td>\n",
       "      <td>157.31</td>\n",
       "      <td>1</td>\n",
       "      <td>157.31</td>\n",
       "      <td>2795.000000</td>\n",
       "      <td>...</td>\n",
       "      <td>0</td>\n",
       "      <td>0</td>\n",
       "      <td>0</td>\n",
       "      <td>0</td>\n",
       "      <td>0</td>\n",
       "      <td>0</td>\n",
       "      <td>1</td>\n",
       "      <td>300</td>\n",
       "      <td>0.001947</td>\n",
       "      <td>0.007891</td>\n",
       "    </tr>\n",
       "    <tr>\n",
       "      <th>3</th>\n",
       "      <td>7.842510e+15</td>\n",
       "      <td>2.495660e+18</td>\n",
       "      <td>78233</td>\n",
       "      <td>1</td>\n",
       "      <td>62.0</td>\n",
       "      <td>511.0</td>\n",
       "      <td>157.31</td>\n",
       "      <td>1</td>\n",
       "      <td>157.31</td>\n",
       "      <td>3675.000000</td>\n",
       "      <td>...</td>\n",
       "      <td>0</td>\n",
       "      <td>0</td>\n",
       "      <td>0</td>\n",
       "      <td>1</td>\n",
       "      <td>0</td>\n",
       "      <td>1</td>\n",
       "      <td>0</td>\n",
       "      <td>300</td>\n",
       "      <td>0.001947</td>\n",
       "      <td>0.007891</td>\n",
       "    </tr>\n",
       "    <tr>\n",
       "      <th>4</th>\n",
       "      <td>7.842510e+15</td>\n",
       "      <td>7.211280e+18</td>\n",
       "      <td>7036</td>\n",
       "      <td>1</td>\n",
       "      <td>62.0</td>\n",
       "      <td>511.0</td>\n",
       "      <td>157.31</td>\n",
       "      <td>1</td>\n",
       "      <td>157.31</td>\n",
       "      <td>3731.666667</td>\n",
       "      <td>...</td>\n",
       "      <td>1</td>\n",
       "      <td>0</td>\n",
       "      <td>0</td>\n",
       "      <td>0</td>\n",
       "      <td>0</td>\n",
       "      <td>0</td>\n",
       "      <td>1</td>\n",
       "      <td>300</td>\n",
       "      <td>0.001947</td>\n",
       "      <td>0.007891</td>\n",
       "    </tr>\n",
       "  </tbody>\n",
       "</table>\n",
       "<p>5 rows × 23 columns</p>\n",
       "</div>"
      ],
      "text/plain": [
       "     product_id   customer_id  zipcode  quantity_ordered  weight  num_reviews  \\\n",
       "0  7.842510e+15  6.231540e+18    61832                 1    62.0        511.0   \n",
       "1  7.842510e+15  3.839240e+18     8858                 1    62.0        511.0   \n",
       "2  7.842510e+15  4.570650e+18    28054                 1    62.0        511.0   \n",
       "3  7.842510e+15  2.495660e+18    78233                 1    62.0        511.0   \n",
       "4  7.842510e+15  7.211280e+18     7036                 1    62.0        511.0   \n",
       "\n",
       "   onsite_price  on_promotion  order_value  num_returns        ...          \\\n",
       "0        157.31             1       157.31  2350.000000        ...           \n",
       "1        157.31             1       157.31    63.333333        ...           \n",
       "2        157.31             1       157.31  2795.000000        ...           \n",
       "3        157.31             1       157.31  3675.000000        ...           \n",
       "4        157.31             1       157.31  3731.666667        ...           \n",
       "\n",
       "   Sunday  Thursday  Tuesday  Wednesday  afternoon  evening  morning  \\\n",
       "0       0         1        0          0          1        0        0   \n",
       "1       0         0        0          1          1        0        0   \n",
       "2       0         0        0          0          0        0        1   \n",
       "3       0         0        0          1          0        1        0   \n",
       "4       1         0        0          0          0        0        1   \n",
       "\n",
       "   description_length  category_rate  manufacturer_rate  \n",
       "0                 300       0.001947           0.007891  \n",
       "1                 300       0.001947           0.007891  \n",
       "2                 300       0.001947           0.007891  \n",
       "3                 300       0.001947           0.007891  \n",
       "4                 300       0.001947           0.007891  \n",
       "\n",
       "[5 rows x 23 columns]"
      ]
     },
     "execution_count": 26,
     "metadata": {},
     "output_type": "execute_result"
    }
   ],
   "source": [
    "df = pd.read_csv('regression_data.csv',)\n",
    "df.head()"
   ]
  },
  {
   "cell_type": "code",
   "execution_count": 27,
   "metadata": {},
   "outputs": [
    {
     "name": "stdout",
     "output_type": "stream",
     "text": [
      "<class 'pandas.core.frame.DataFrame'>\n",
      "RangeIndex: 79080 entries, 0 to 79079\n",
      "Data columns (total 23 columns):\n",
      "product_id            79080 non-null float64\n",
      "customer_id           79080 non-null float64\n",
      "zipcode               79080 non-null int64\n",
      "quantity_ordered      79080 non-null int64\n",
      "weight                79080 non-null float64\n",
      "num_reviews           79080 non-null float64\n",
      "onsite_price          79080 non-null float64\n",
      "on_promotion          79080 non-null int64\n",
      "order_value           79080 non-null float64\n",
      "num_returns           79080 non-null float64\n",
      "Friday                79080 non-null int64\n",
      "Monday                79080 non-null int64\n",
      "Saturday              79080 non-null int64\n",
      "Sunday                79080 non-null int64\n",
      "Thursday              79080 non-null int64\n",
      "Tuesday               79080 non-null int64\n",
      "Wednesday             79080 non-null int64\n",
      "afternoon             79080 non-null int64\n",
      "evening               79080 non-null int64\n",
      "morning               79080 non-null int64\n",
      "description_length    79080 non-null int64\n",
      "category_rate         79080 non-null float64\n",
      "manufacturer_rate     79080 non-null float64\n",
      "dtypes: float64(9), int64(14)\n",
      "memory usage: 13.9 MB\n"
     ]
    }
   ],
   "source": [
    "df.info()"
   ]
  },
  {
   "cell_type": "code",
   "execution_count": 56,
   "metadata": {
    "collapsed": true
   },
   "outputs": [],
   "source": [
    "features = df.drop(columns=['product_id','customer_id','order_value']).values\n",
    "target = df['order_value'].values"
   ]
  },
  {
   "cell_type": "code",
   "execution_count": 136,
   "metadata": {},
   "outputs": [
    {
     "data": {
      "application/vnd.jupyter.widget-view+json": {
       "model_id": "",
       "version_major": 2,
       "version_minor": 0
      },
      "text/plain": [
       "HBox(children=(IntProgress(value=0, description='Optimization Progress', max=120, style=ProgressStyle(descript…"
      ]
     },
     "metadata": {},
     "output_type": "display_data"
    },
    {
     "name": "stdout",
     "output_type": "stream",
     "text": [
      "Generation 1 - Current best internal CV score: -25962.50794232748\n",
      "Generation 2 - Current best internal CV score: -12765.153915385596\n",
      "Generation 3 - Current best internal CV score: -12765.153915385596\n",
      "Generation 4 - Current best internal CV score: -10906.2854825143\n",
      "Generation 5 - Current best internal CV score: -10621.154810500748\n",
      "\n",
      "Best pipeline: DecisionTreeRegressor(input_matrix, max_depth=10, min_samples_leaf=2, min_samples_split=13)\n",
      "-6087.0654196421365\n"
     ]
    }
   ],
   "source": [
    "X_train, X_test, y_train, y_test = train_test_split(features, target,\n",
    "                                                    train_size=0.75, test_size=0.25)\n",
    "tpot = TPOTRegressor(generations=5, population_size=20, verbosity=2)\n",
    "tpot.fit(X_train, y_train)\n",
    "print(tpot.score(X_test, y_test))"
   ]
  },
  {
   "cell_type": "markdown",
   "metadata": {
    "collapsed": true
   },
   "source": [
    "# Variable Selection: Forward Sequence"
   ]
  },
  {
   "cell_type": "code",
   "execution_count": 46,
   "metadata": {
    "collapsed": true
   },
   "outputs": [],
   "source": [
    "X_train, X_test, y_train, y_test = train_test_split(features, target,\n",
    "                                                    train_size=0.75, test_size=0.25)"
   ]
  },
  {
   "cell_type": "code",
   "execution_count": 49,
   "metadata": {},
   "outputs": [
    {
     "data": {
      "text/plain": [
       "12"
      ]
     },
     "execution_count": 49,
     "metadata": {},
     "output_type": "execute_result"
    }
   ],
   "source": [
    "features.shape[1]"
   ]
  },
  {
   "cell_type": "code",
   "execution_count": 51,
   "metadata": {},
   "outputs": [
    {
     "ename": "JoblibValueError",
     "evalue": "JoblibValueError\n___________________________________________________________________________\nMultiprocessing exception:\n...........................................................................\nC:\\Users\\Girijesh\\Anaconda3\\lib\\runpy.py in _run_module_as_main(mod_name='ipykernel_launcher', alter_argv=1)\n    188         sys.exit(msg)\n    189     main_globals = sys.modules[\"__main__\"].__dict__\n    190     if alter_argv:\n    191         sys.argv[0] = mod_spec.origin\n    192     return _run_code(code, main_globals, None,\n--> 193                      \"__main__\", mod_spec)\n        mod_spec = ModuleSpec(name='ipykernel_launcher', loader=<_f...nda3\\\\lib\\\\site-packages\\\\ipykernel_launcher.py')\n    194 \n    195 def run_module(mod_name, init_globals=None,\n    196                run_name=None, alter_sys=False):\n    197     \"\"\"Execute a module's code without importing it\n\n...........................................................................\nC:\\Users\\Girijesh\\Anaconda3\\lib\\runpy.py in _run_code(code=<code object <module> at 0x000000AC069F6E40, fil...lib\\site-packages\\ipykernel_launcher.py\", line 5>, run_globals={'__annotations__': {}, '__builtins__': <module 'builtins' (built-in)>, '__cached__': r'C:\\Users\\Girijesh\\Anaconda3\\lib\\site-packages\\__pycache__\\ipykernel_launcher.cpython-36.pyc', '__doc__': 'Entry point for launching an IPython kernel.\\n\\nTh...orts until\\nafter removing the cwd from sys.path.\\n', '__file__': r'C:\\Users\\Girijesh\\Anaconda3\\lib\\site-packages\\ipykernel_launcher.py', '__loader__': <_frozen_importlib_external.SourceFileLoader object>, '__name__': '__main__', '__package__': '', '__spec__': ModuleSpec(name='ipykernel_launcher', loader=<_f...nda3\\\\lib\\\\site-packages\\\\ipykernel_launcher.py'), 'app': <module 'ipykernel.kernelapp' from 'C:\\\\Users\\\\G...a3\\\\lib\\\\site-packages\\\\ipykernel\\\\kernelapp.py'>, ...}, init_globals=None, mod_name='__main__', mod_spec=ModuleSpec(name='ipykernel_launcher', loader=<_f...nda3\\\\lib\\\\site-packages\\\\ipykernel_launcher.py'), pkg_name='', script_name=None)\n     80                        __cached__ = cached,\n     81                        __doc__ = None,\n     82                        __loader__ = loader,\n     83                        __package__ = pkg_name,\n     84                        __spec__ = mod_spec)\n---> 85     exec(code, run_globals)\n        code = <code object <module> at 0x000000AC069F6E40, fil...lib\\site-packages\\ipykernel_launcher.py\", line 5>\n        run_globals = {'__annotations__': {}, '__builtins__': <module 'builtins' (built-in)>, '__cached__': r'C:\\Users\\Girijesh\\Anaconda3\\lib\\site-packages\\__pycache__\\ipykernel_launcher.cpython-36.pyc', '__doc__': 'Entry point for launching an IPython kernel.\\n\\nTh...orts until\\nafter removing the cwd from sys.path.\\n', '__file__': r'C:\\Users\\Girijesh\\Anaconda3\\lib\\site-packages\\ipykernel_launcher.py', '__loader__': <_frozen_importlib_external.SourceFileLoader object>, '__name__': '__main__', '__package__': '', '__spec__': ModuleSpec(name='ipykernel_launcher', loader=<_f...nda3\\\\lib\\\\site-packages\\\\ipykernel_launcher.py'), 'app': <module 'ipykernel.kernelapp' from 'C:\\\\Users\\\\G...a3\\\\lib\\\\site-packages\\\\ipykernel\\\\kernelapp.py'>, ...}\n     86     return run_globals\n     87 \n     88 def _run_module_code(code, init_globals=None,\n     89                     mod_name=None, mod_spec=None,\n\n...........................................................................\nC:\\Users\\Girijesh\\Anaconda3\\lib\\site-packages\\ipykernel_launcher.py in <module>()\n     11     # This is added back by InteractiveShellApp.init_path()\n     12     if sys.path[0] == '':\n     13         del sys.path[0]\n     14 \n     15     from ipykernel import kernelapp as app\n---> 16     app.launch_new_instance()\n     17 \n     18 \n     19 \n     20 \n\n...........................................................................\nC:\\Users\\Girijesh\\Anaconda3\\lib\\site-packages\\traitlets\\config\\application.py in launch_instance(cls=<class 'ipykernel.kernelapp.IPKernelApp'>, argv=None, **kwargs={})\n    653 \n    654         If a global instance already exists, this reinitializes and starts it\n    655         \"\"\"\n    656         app = cls.instance(**kwargs)\n    657         app.initialize(argv)\n--> 658         app.start()\n        app.start = <bound method IPKernelApp.start of <ipykernel.kernelapp.IPKernelApp object>>\n    659 \n    660 #-----------------------------------------------------------------------------\n    661 # utility functions, for convenience\n    662 #-----------------------------------------------------------------------------\n\n...........................................................................\nC:\\Users\\Girijesh\\Anaconda3\\lib\\site-packages\\ipykernel\\kernelapp.py in start(self=<ipykernel.kernelapp.IPKernelApp object>)\n    472             return self.subapp.start()\n    473         if self.poller is not None:\n    474             self.poller.start()\n    475         self.kernel.start()\n    476         try:\n--> 477             ioloop.IOLoop.instance().start()\n    478         except KeyboardInterrupt:\n    479             pass\n    480 \n    481 launch_new_instance = IPKernelApp.launch_instance\n\n...........................................................................\nC:\\Users\\Girijesh\\Anaconda3\\lib\\site-packages\\zmq\\eventloop\\ioloop.py in start(self=<zmq.eventloop.ioloop.ZMQIOLoop object>)\n    172             )\n    173         return loop\n    174     \n    175     def start(self):\n    176         try:\n--> 177             super(ZMQIOLoop, self).start()\n        self.start = <bound method ZMQIOLoop.start of <zmq.eventloop.ioloop.ZMQIOLoop object>>\n    178         except ZMQError as e:\n    179             if e.errno == ETERM:\n    180                 # quietly return on ETERM\n    181                 pass\n\n...........................................................................\nC:\\Users\\Girijesh\\Anaconda3\\lib\\site-packages\\tornado\\ioloop.py in start(self=<zmq.eventloop.ioloop.ZMQIOLoop object>)\n    883                 self._events.update(event_pairs)\n    884                 while self._events:\n    885                     fd, events = self._events.popitem()\n    886                     try:\n    887                         fd_obj, handler_func = self._handlers[fd]\n--> 888                         handler_func(fd_obj, events)\n        handler_func = <function wrap.<locals>.null_wrapper>\n        fd_obj = <zmq.sugar.socket.Socket object>\n        events = 1\n    889                     except (OSError, IOError) as e:\n    890                         if errno_from_exception(e) == errno.EPIPE:\n    891                             # Happens when the client closes the connection\n    892                             pass\n\n...........................................................................\nC:\\Users\\Girijesh\\Anaconda3\\lib\\site-packages\\tornado\\stack_context.py in null_wrapper(*args=(<zmq.sugar.socket.Socket object>, 1), **kwargs={})\n    272         # Fast path when there are no active contexts.\n    273         def null_wrapper(*args, **kwargs):\n    274             try:\n    275                 current_state = _state.contexts\n    276                 _state.contexts = cap_contexts[0]\n--> 277                 return fn(*args, **kwargs)\n        args = (<zmq.sugar.socket.Socket object>, 1)\n        kwargs = {}\n    278             finally:\n    279                 _state.contexts = current_state\n    280         null_wrapper._wrapped = True\n    281         return null_wrapper\n\n...........................................................................\nC:\\Users\\Girijesh\\Anaconda3\\lib\\site-packages\\zmq\\eventloop\\zmqstream.py in _handle_events(self=<zmq.eventloop.zmqstream.ZMQStream object>, fd=<zmq.sugar.socket.Socket object>, events=1)\n    435             # dispatch events:\n    436             if events & IOLoop.ERROR:\n    437                 gen_log.error(\"got POLLERR event on ZMQStream, which doesn't make sense\")\n    438                 return\n    439             if events & IOLoop.READ:\n--> 440                 self._handle_recv()\n        self._handle_recv = <bound method ZMQStream._handle_recv of <zmq.eventloop.zmqstream.ZMQStream object>>\n    441                 if not self.socket:\n    442                     return\n    443             if events & IOLoop.WRITE:\n    444                 self._handle_send()\n\n...........................................................................\nC:\\Users\\Girijesh\\Anaconda3\\lib\\site-packages\\zmq\\eventloop\\zmqstream.py in _handle_recv(self=<zmq.eventloop.zmqstream.ZMQStream object>)\n    467                 gen_log.error(\"RECV Error: %s\"%zmq.strerror(e.errno))\n    468         else:\n    469             if self._recv_callback:\n    470                 callback = self._recv_callback\n    471                 # self._recv_callback = None\n--> 472                 self._run_callback(callback, msg)\n        self._run_callback = <bound method ZMQStream._run_callback of <zmq.eventloop.zmqstream.ZMQStream object>>\n        callback = <function wrap.<locals>.null_wrapper>\n        msg = [<zmq.sugar.frame.Frame object>, <zmq.sugar.frame.Frame object>, <zmq.sugar.frame.Frame object>, <zmq.sugar.frame.Frame object>, <zmq.sugar.frame.Frame object>, <zmq.sugar.frame.Frame object>, <zmq.sugar.frame.Frame object>]\n    473                 \n    474         # self.update_state()\n    475         \n    476 \n\n...........................................................................\nC:\\Users\\Girijesh\\Anaconda3\\lib\\site-packages\\zmq\\eventloop\\zmqstream.py in _run_callback(self=<zmq.eventloop.zmqstream.ZMQStream object>, callback=<function wrap.<locals>.null_wrapper>, *args=([<zmq.sugar.frame.Frame object>, <zmq.sugar.frame.Frame object>, <zmq.sugar.frame.Frame object>, <zmq.sugar.frame.Frame object>, <zmq.sugar.frame.Frame object>, <zmq.sugar.frame.Frame object>, <zmq.sugar.frame.Frame object>],), **kwargs={})\n    409         close our socket.\"\"\"\n    410         try:\n    411             # Use a NullContext to ensure that all StackContexts are run\n    412             # inside our blanket exception handler rather than outside.\n    413             with stack_context.NullContext():\n--> 414                 callback(*args, **kwargs)\n        callback = <function wrap.<locals>.null_wrapper>\n        args = ([<zmq.sugar.frame.Frame object>, <zmq.sugar.frame.Frame object>, <zmq.sugar.frame.Frame object>, <zmq.sugar.frame.Frame object>, <zmq.sugar.frame.Frame object>, <zmq.sugar.frame.Frame object>, <zmq.sugar.frame.Frame object>],)\n        kwargs = {}\n    415         except:\n    416             gen_log.error(\"Uncaught exception, closing connection.\",\n    417                           exc_info=True)\n    418             # Close the socket on an uncaught exception from a user callback\n\n...........................................................................\nC:\\Users\\Girijesh\\Anaconda3\\lib\\site-packages\\tornado\\stack_context.py in null_wrapper(*args=([<zmq.sugar.frame.Frame object>, <zmq.sugar.frame.Frame object>, <zmq.sugar.frame.Frame object>, <zmq.sugar.frame.Frame object>, <zmq.sugar.frame.Frame object>, <zmq.sugar.frame.Frame object>, <zmq.sugar.frame.Frame object>],), **kwargs={})\n    272         # Fast path when there are no active contexts.\n    273         def null_wrapper(*args, **kwargs):\n    274             try:\n    275                 current_state = _state.contexts\n    276                 _state.contexts = cap_contexts[0]\n--> 277                 return fn(*args, **kwargs)\n        args = ([<zmq.sugar.frame.Frame object>, <zmq.sugar.frame.Frame object>, <zmq.sugar.frame.Frame object>, <zmq.sugar.frame.Frame object>, <zmq.sugar.frame.Frame object>, <zmq.sugar.frame.Frame object>, <zmq.sugar.frame.Frame object>],)\n        kwargs = {}\n    278             finally:\n    279                 _state.contexts = current_state\n    280         null_wrapper._wrapped = True\n    281         return null_wrapper\n\n...........................................................................\nC:\\Users\\Girijesh\\Anaconda3\\lib\\site-packages\\ipykernel\\kernelbase.py in dispatcher(msg=[<zmq.sugar.frame.Frame object>, <zmq.sugar.frame.Frame object>, <zmq.sugar.frame.Frame object>, <zmq.sugar.frame.Frame object>, <zmq.sugar.frame.Frame object>, <zmq.sugar.frame.Frame object>, <zmq.sugar.frame.Frame object>])\n    278         if self.control_stream:\n    279             self.control_stream.on_recv(self.dispatch_control, copy=False)\n    280 \n    281         def make_dispatcher(stream):\n    282             def dispatcher(msg):\n--> 283                 return self.dispatch_shell(stream, msg)\n        msg = [<zmq.sugar.frame.Frame object>, <zmq.sugar.frame.Frame object>, <zmq.sugar.frame.Frame object>, <zmq.sugar.frame.Frame object>, <zmq.sugar.frame.Frame object>, <zmq.sugar.frame.Frame object>, <zmq.sugar.frame.Frame object>]\n    284             return dispatcher\n    285 \n    286         for s in self.shell_streams:\n    287             s.on_recv(make_dispatcher(s), copy=False)\n\n...........................................................................\nC:\\Users\\Girijesh\\Anaconda3\\lib\\site-packages\\ipykernel\\kernelbase.py in dispatch_shell(self=<ipykernel.ipkernel.IPythonKernel object>, stream=<zmq.eventloop.zmqstream.ZMQStream object>, msg={'buffers': [], 'content': {'allow_stdin': True, 'code': \"#Forward Feature Selection\\nlr = LinearRegression...ror',\\n        cv=10)\\nsfs=sfs.fit(features,target)\", 'silent': False, 'stop_on_error': True, 'store_history': True, 'user_expressions': {}}, 'header': {'date': datetime.datetime(2018, 12, 14, 7, 28, 19, 282426, tzinfo=datetime.timezone.utc), 'msg_id': '0A20340AF5674BB09DC7F5EF2C18B260', 'msg_type': 'execute_request', 'session': 'F0A8FCB1EE9A464A88367977B7FDF1F2', 'username': 'username', 'version': '5.0'}, 'metadata': {}, 'msg_id': '0A20340AF5674BB09DC7F5EF2C18B260', 'msg_type': 'execute_request', 'parent_header': {}})\n    230             self.log.warn(\"Unknown message type: %r\", msg_type)\n    231         else:\n    232             self.log.debug(\"%s: %s\", msg_type, msg)\n    233             self.pre_handler_hook()\n    234             try:\n--> 235                 handler(stream, idents, msg)\n        handler = <bound method Kernel.execute_request of <ipykernel.ipkernel.IPythonKernel object>>\n        stream = <zmq.eventloop.zmqstream.ZMQStream object>\n        idents = [b'F0A8FCB1EE9A464A88367977B7FDF1F2']\n        msg = {'buffers': [], 'content': {'allow_stdin': True, 'code': \"#Forward Feature Selection\\nlr = LinearRegression...ror',\\n        cv=10)\\nsfs=sfs.fit(features,target)\", 'silent': False, 'stop_on_error': True, 'store_history': True, 'user_expressions': {}}, 'header': {'date': datetime.datetime(2018, 12, 14, 7, 28, 19, 282426, tzinfo=datetime.timezone.utc), 'msg_id': '0A20340AF5674BB09DC7F5EF2C18B260', 'msg_type': 'execute_request', 'session': 'F0A8FCB1EE9A464A88367977B7FDF1F2', 'username': 'username', 'version': '5.0'}, 'metadata': {}, 'msg_id': '0A20340AF5674BB09DC7F5EF2C18B260', 'msg_type': 'execute_request', 'parent_header': {}}\n    236             except Exception:\n    237                 self.log.error(\"Exception in message handler:\", exc_info=True)\n    238             finally:\n    239                 self.post_handler_hook()\n\n...........................................................................\nC:\\Users\\Girijesh\\Anaconda3\\lib\\site-packages\\ipykernel\\kernelbase.py in execute_request(self=<ipykernel.ipkernel.IPythonKernel object>, stream=<zmq.eventloop.zmqstream.ZMQStream object>, ident=[b'F0A8FCB1EE9A464A88367977B7FDF1F2'], parent={'buffers': [], 'content': {'allow_stdin': True, 'code': \"#Forward Feature Selection\\nlr = LinearRegression...ror',\\n        cv=10)\\nsfs=sfs.fit(features,target)\", 'silent': False, 'stop_on_error': True, 'store_history': True, 'user_expressions': {}}, 'header': {'date': datetime.datetime(2018, 12, 14, 7, 28, 19, 282426, tzinfo=datetime.timezone.utc), 'msg_id': '0A20340AF5674BB09DC7F5EF2C18B260', 'msg_type': 'execute_request', 'session': 'F0A8FCB1EE9A464A88367977B7FDF1F2', 'username': 'username', 'version': '5.0'}, 'metadata': {}, 'msg_id': '0A20340AF5674BB09DC7F5EF2C18B260', 'msg_type': 'execute_request', 'parent_header': {}})\n    394         if not silent:\n    395             self.execution_count += 1\n    396             self._publish_execute_input(code, parent, self.execution_count)\n    397 \n    398         reply_content = self.do_execute(code, silent, store_history,\n--> 399                                         user_expressions, allow_stdin)\n        user_expressions = {}\n        allow_stdin = True\n    400 \n    401         # Flush output before sending the reply.\n    402         sys.stdout.flush()\n    403         sys.stderr.flush()\n\n...........................................................................\nC:\\Users\\Girijesh\\Anaconda3\\lib\\site-packages\\ipykernel\\ipkernel.py in do_execute(self=<ipykernel.ipkernel.IPythonKernel object>, code=\"#Forward Feature Selection\\nlr = LinearRegression...ror',\\n        cv=10)\\nsfs=sfs.fit(features,target)\", silent=False, store_history=True, user_expressions={}, allow_stdin=True)\n    191 \n    192         self._forward_input(allow_stdin)\n    193 \n    194         reply_content = {}\n    195         try:\n--> 196             res = shell.run_cell(code, store_history=store_history, silent=silent)\n        res = undefined\n        shell.run_cell = <bound method ZMQInteractiveShell.run_cell of <ipykernel.zmqshell.ZMQInteractiveShell object>>\n        code = \"#Forward Feature Selection\\nlr = LinearRegression...ror',\\n        cv=10)\\nsfs=sfs.fit(features,target)\"\n        store_history = True\n        silent = False\n    197         finally:\n    198             self._restore_input()\n    199 \n    200         if res.error_before_exec is not None:\n\n...........................................................................\nC:\\Users\\Girijesh\\Anaconda3\\lib\\site-packages\\ipykernel\\zmqshell.py in run_cell(self=<ipykernel.zmqshell.ZMQInteractiveShell object>, *args=(\"#Forward Feature Selection\\nlr = LinearRegression...ror',\\n        cv=10)\\nsfs=sfs.fit(features,target)\",), **kwargs={'silent': False, 'store_history': True})\n    528             )\n    529         self.payload_manager.write_payload(payload)\n    530 \n    531     def run_cell(self, *args, **kwargs):\n    532         self._last_traceback = None\n--> 533         return super(ZMQInteractiveShell, self).run_cell(*args, **kwargs)\n        self.run_cell = <bound method ZMQInteractiveShell.run_cell of <ipykernel.zmqshell.ZMQInteractiveShell object>>\n        args = (\"#Forward Feature Selection\\nlr = LinearRegression...ror',\\n        cv=10)\\nsfs=sfs.fit(features,target)\",)\n        kwargs = {'silent': False, 'store_history': True}\n    534 \n    535     def _showtraceback(self, etype, evalue, stb):\n    536         # try to preserve ordering of tracebacks and print statements\n    537         sys.stdout.flush()\n\n...........................................................................\nC:\\Users\\Girijesh\\Anaconda3\\lib\\site-packages\\IPython\\core\\interactiveshell.py in run_cell(self=<ipykernel.zmqshell.ZMQInteractiveShell object>, raw_cell=\"#Forward Feature Selection\\nlr = LinearRegression...ror',\\n        cv=10)\\nsfs=sfs.fit(features,target)\", store_history=True, silent=False, shell_futures=True)\n   2712                 self.displayhook.exec_result = result\n   2713 \n   2714                 # Execute the user code\n   2715                 interactivity = \"none\" if silent else self.ast_node_interactivity\n   2716                 has_raised = self.run_ast_nodes(code_ast.body, cell_name,\n-> 2717                    interactivity=interactivity, compiler=compiler, result=result)\n        interactivity = 'last_expr'\n        compiler = <IPython.core.compilerop.CachingCompiler object>\n   2718                 \n   2719                 self.last_execution_succeeded = not has_raised\n   2720 \n   2721                 # Reset this so later displayed values do not modify the\n\n...........................................................................\nC:\\Users\\Girijesh\\Anaconda3\\lib\\site-packages\\IPython\\core\\interactiveshell.py in run_ast_nodes(self=<ipykernel.zmqshell.ZMQInteractiveShell object>, nodelist=[<_ast.Assign object>, <_ast.Assign object>, <_ast.Assign object>], cell_name='<ipython-input-51-fbb09c21409d>', interactivity='none', compiler=<IPython.core.compilerop.CachingCompiler object>, result=<ExecutionResult object at ac997b5358, execution..._before_exec=None error_in_exec=None result=None>)\n   2816 \n   2817         try:\n   2818             for i, node in enumerate(to_run_exec):\n   2819                 mod = ast.Module([node])\n   2820                 code = compiler(mod, cell_name, \"exec\")\n-> 2821                 if self.run_code(code, result):\n        self.run_code = <bound method InteractiveShell.run_code of <ipykernel.zmqshell.ZMQInteractiveShell object>>\n        code = <code object <module> at 0x000000AC997BDC00, file \"<ipython-input-51-fbb09c21409d>\", line 11>\n        result = <ExecutionResult object at ac997b5358, execution..._before_exec=None error_in_exec=None result=None>\n   2822                     return True\n   2823 \n   2824             for i, node in enumerate(to_run_interactive):\n   2825                 mod = ast.Interactive([node])\n\n...........................................................................\nC:\\Users\\Girijesh\\Anaconda3\\lib\\site-packages\\IPython\\core\\interactiveshell.py in run_code(self=<ipykernel.zmqshell.ZMQInteractiveShell object>, code_obj=<code object <module> at 0x000000AC997BDC00, file \"<ipython-input-51-fbb09c21409d>\", line 11>, result=<ExecutionResult object at ac997b5358, execution..._before_exec=None error_in_exec=None result=None>)\n   2876         outflag = 1  # happens in more places, so it's easier as default\n   2877         try:\n   2878             try:\n   2879                 self.hooks.pre_run_code_hook()\n   2880                 #rprint('Running code', repr(code_obj)) # dbg\n-> 2881                 exec(code_obj, self.user_global_ns, self.user_ns)\n        code_obj = <code object <module> at 0x000000AC997BDC00, file \"<ipython-input-51-fbb09c21409d>\", line 11>\n        self.user_global_ns = {'BytesIO': <class '_io.BytesIO'>, 'EFS': <class 'mlxtend.feature_selection.exhaustive_feature_selector.ExhaustiveFeatureSelector'>, 'In': ['', \"import pandas as pd\\nimport numpy as np\\nimport mi...import warnings\\nwarnings.filterwarnings('ignore')\", \"import pandas as pd\\nimport numpy as np\\n\\n\\nimport warnings\\nwarnings.filterwarnings('ignore')\", \"filepath = 'E:\\\\datathon'\\nlist_files = glob.glob(...ms_with_purchase.csv')\\n# df_click_purchase.head()\", \"import pandas as pd\\nimport numpy as np\\nimport gl...import warnings\\nwarnings.filterwarnings('ignore')\", \"filepath = 'E:\\\\datathon'\\nlist_files = glob.glob(...ms_with_purchase.csv')\\n# df_click_purchase.head()\", 'lis_df[0].head(2)', 'lis_df[1].head(2)', 'lis_df[2].head(2)', 'lis_df[3].head(2)', 'lis_df[2].head(2)', 'lis_df[3].head(2)', 'df_orders = lis_df[3]\\nprint(df_orders.shape)\\ndf_orders.head()', \"df_orders1 = df_orders.rename(columns={'wayfair_product_id':'product_id'})\\ndf_orders1.head()\", 'df_click_purchase = lis_df[3]', 'df_click_purchase = lis_df[1]', 'lis_df[3].head(3)', 'lis_df[4].head(3)', 'df_products = lis_df[4]\\nprint(df_products.shape)\\ndf_products.head()', 'lis_df[3].head(3)', ...], 'LinearRegression': <class 'sklearn.linear_model.base.LinearRegression'>, 'Out': {6:            customer_id        date      time    ...-07-16  16:49:18   DAILYSALESMAINPAGE           0, 7:            customer_id        date      time    ...    0      0.0  \n1  205401096165894320      0.0  , 8:   comp_website_name      comp_product_id  \\\n0   ...vides more coverage and a soft, ...       21.00  , 9:    order_product_id      order_id  wayfair_produ...23  7.606760e+18        10928                 1  , 10:   comp_website_name      comp_product_id  \\\n0   ...vides more coverage and a soft, ...       21.00  , 11:    order_product_id      order_id  wayfair_produ...23  7.606760e+18        10928                 1  , 12:    order_product_id      order_id  wayfair_produ...20  1.390570e+18         2468                 1  , 13:    order_product_id      order_id    product_id ...20  1.390570e+18         2468                 1  , 16:    order_product_id      order_id  wayfair_produ...23  7.606760e+18        10928                 1  , 17:   website_name    product_id                    ...          0  \n1             1  \n2             0  , ...}, 'RandomForestRegressor': <class 'sklearn.ensemble.forest.RandomForestRegressor'>, 'SCORERS': {'accuracy': make_scorer(accuracy_score), 'adjusted_rand_score': make_scorer(adjusted_rand_score), 'average_precision': make_scorer(average_precision_score, needs_threshold=True), 'balanced_accuracy': make_scorer(balanced_accuracy), 'f1': make_scorer(f1_score), 'f1_macro': make_scorer(f1_score, pos_label=None, average=macro), 'f1_micro': make_scorer(f1_score, pos_label=None, average=micro), 'f1_samples': make_scorer(f1_score, pos_label=None, average=samples), 'f1_weighted': make_scorer(f1_score, pos_label=None, average=weighted), 'log_loss': make_scorer(log_loss, greater_is_better=False, needs_proba=True), ...}, 'SFS': <class 'mlxtend.feature_selection.sequential_feature_selector.SequentialFeatureSelector'>, 'TPOTRegressor': <class 'tpot.tpot.TPOTRegressor'>, 'X_test': array([['Saturday', '20:45:35', 85044, ..., 'Sho...ildon Home ®', 4393.333333333333]], dtype=object), ...}\n        self.user_ns = {'BytesIO': <class '_io.BytesIO'>, 'EFS': <class 'mlxtend.feature_selection.exhaustive_feature_selector.ExhaustiveFeatureSelector'>, 'In': ['', \"import pandas as pd\\nimport numpy as np\\nimport mi...import warnings\\nwarnings.filterwarnings('ignore')\", \"import pandas as pd\\nimport numpy as np\\n\\n\\nimport warnings\\nwarnings.filterwarnings('ignore')\", \"filepath = 'E:\\\\datathon'\\nlist_files = glob.glob(...ms_with_purchase.csv')\\n# df_click_purchase.head()\", \"import pandas as pd\\nimport numpy as np\\nimport gl...import warnings\\nwarnings.filterwarnings('ignore')\", \"filepath = 'E:\\\\datathon'\\nlist_files = glob.glob(...ms_with_purchase.csv')\\n# df_click_purchase.head()\", 'lis_df[0].head(2)', 'lis_df[1].head(2)', 'lis_df[2].head(2)', 'lis_df[3].head(2)', 'lis_df[2].head(2)', 'lis_df[3].head(2)', 'df_orders = lis_df[3]\\nprint(df_orders.shape)\\ndf_orders.head()', \"df_orders1 = df_orders.rename(columns={'wayfair_product_id':'product_id'})\\ndf_orders1.head()\", 'df_click_purchase = lis_df[3]', 'df_click_purchase = lis_df[1]', 'lis_df[3].head(3)', 'lis_df[4].head(3)', 'df_products = lis_df[4]\\nprint(df_products.shape)\\ndf_products.head()', 'lis_df[3].head(3)', ...], 'LinearRegression': <class 'sklearn.linear_model.base.LinearRegression'>, 'Out': {6:            customer_id        date      time    ...-07-16  16:49:18   DAILYSALESMAINPAGE           0, 7:            customer_id        date      time    ...    0      0.0  \n1  205401096165894320      0.0  , 8:   comp_website_name      comp_product_id  \\\n0   ...vides more coverage and a soft, ...       21.00  , 9:    order_product_id      order_id  wayfair_produ...23  7.606760e+18        10928                 1  , 10:   comp_website_name      comp_product_id  \\\n0   ...vides more coverage and a soft, ...       21.00  , 11:    order_product_id      order_id  wayfair_produ...23  7.606760e+18        10928                 1  , 12:    order_product_id      order_id  wayfair_produ...20  1.390570e+18         2468                 1  , 13:    order_product_id      order_id    product_id ...20  1.390570e+18         2468                 1  , 16:    order_product_id      order_id  wayfair_produ...23  7.606760e+18        10928                 1  , 17:   website_name    product_id                    ...          0  \n1             1  \n2             0  , ...}, 'RandomForestRegressor': <class 'sklearn.ensemble.forest.RandomForestRegressor'>, 'SCORERS': {'accuracy': make_scorer(accuracy_score), 'adjusted_rand_score': make_scorer(adjusted_rand_score), 'average_precision': make_scorer(average_precision_score, needs_threshold=True), 'balanced_accuracy': make_scorer(balanced_accuracy), 'f1': make_scorer(f1_score), 'f1_macro': make_scorer(f1_score, pos_label=None, average=macro), 'f1_micro': make_scorer(f1_score, pos_label=None, average=micro), 'f1_samples': make_scorer(f1_score, pos_label=None, average=samples), 'f1_weighted': make_scorer(f1_score, pos_label=None, average=weighted), 'log_loss': make_scorer(log_loss, greater_is_better=False, needs_proba=True), ...}, 'SFS': <class 'mlxtend.feature_selection.sequential_feature_selector.SequentialFeatureSelector'>, 'TPOTRegressor': <class 'tpot.tpot.TPOTRegressor'>, 'X_test': array([['Saturday', '20:45:35', 85044, ..., 'Sho...ildon Home ®', 4393.333333333333]], dtype=object), ...}\n   2882             finally:\n   2883                 # Reset our crash handler in place\n   2884                 sys.excepthook = old_excepthook\n   2885         except SystemExit as e:\n\n...........................................................................\nC:\\Users\\Girijesh\\<ipython-input-51-fbb09c21409d> in <module>()\n      6         floating=False,\n      7         n_jobs=-1,\n      8         verbose=2,\n      9         scoring='neg_mean_squared_error',\n     10         cv=10)\n---> 11 sfs=sfs.fit(features,target)\n     12 \n     13 \n     14 \n     15 \n\n...........................................................................\nC:\\Users\\Girijesh\\Anaconda3\\lib\\site-packages\\mlxtend\\feature_selection\\sequential_feature_selector.py in fit(self=SequentialFeatureSelector(clone_estimator=True, ...'neg_mean_squared_error',\n             verbose=2), X=array([['Thursday', '13:00:39', 61832, ..., 'Din...ensils', 'Cuisinox', 895.0]],\n      dtype=object), y=array([157.31, 157.31, 157.31, ...,  31.99,  31.99,  19.9 ]), custom_feature_names=None, **fit_params={})\n    344                     k_idx, k_score, cv_scores = self._inclusion(\n    345                         orig_set=orig_set,\n    346                         subset=prev_subset,\n    347                         X=X_,\n    348                         y=y,\n--> 349                         **fit_params\n        fit_params = {}\n    350                     )\n    351                 else:\n    352 \n    353                     k_idx, k_score, cv_scores = self._exclusion(\n\n...........................................................................\nC:\\Users\\Girijesh\\Anaconda3\\lib\\site-packages\\mlxtend\\feature_selection\\sequential_feature_selector.py in _inclusion(self=SequentialFeatureSelector(clone_estimator=True, ...'neg_mean_squared_error',\n             verbose=2), orig_set={0, 1, 2, 3, 4, 5, ...}, subset=set(), X=array([['Thursday', '13:00:39', 61832, ..., 'Din...ensils', 'Cuisinox', 895.0]],\n      dtype=object), y=array([157.31, 157.31, 157.31, ...,  31.99,  31.99,  19.9 ]), ignore_feature=None, **fit_params={})\n    501                                 pre_dispatch=self.pre_dispatch)\n    502             work = parallel(delayed(_calc_score)\n    503                             (self, X, y,\n    504                              tuple(subset | {feature}),\n    505                              **fit_params)\n--> 506                             for feature in remaining\n        remaining = {0, 1, 2, 3, 4, 5, ...}\n    507                             if feature != ignore_feature)\n    508 \n    509             for new_subset, cv_scores in work:\n    510                 all_avg_scores.append(np.nanmean(cv_scores))\n\n...........................................................................\nC:\\Users\\Girijesh\\Anaconda3\\lib\\site-packages\\sklearn\\externals\\joblib\\parallel.py in __call__(self=Parallel(n_jobs=-1), iterable=<generator object SequentialFeatureSelector._inclusion.<locals>.<genexpr>>)\n    763             if pre_dispatch == \"all\" or n_jobs == 1:\n    764                 # The iterable was consumed all at once by the above for loop.\n    765                 # No need to wait for async callbacks to trigger to\n    766                 # consumption.\n    767                 self._iterating = False\n--> 768             self.retrieve()\n        self.retrieve = <bound method Parallel.retrieve of Parallel(n_jobs=-1)>\n    769             # Make sure that we get a last message telling us we are done\n    770             elapsed_time = time.time() - self._start_time\n    771             self._print('Done %3i out of %3i | elapsed: %s finished',\n    772                         (len(self._output), len(self._output),\n\n---------------------------------------------------------------------------\nSub-process traceback:\n---------------------------------------------------------------------------\nValueError                                         Fri Dec 14 02:28:23 2018\nPID: 22180             Python 3.6.1: C:\\Users\\Girijesh\\Anaconda3\\python.exe\n...........................................................................\nC:\\Users\\Girijesh\\Anaconda3\\lib\\site-packages\\sklearn\\externals\\joblib\\parallel.py in __call__(self=<sklearn.externals.joblib.parallel.BatchedCalls object>)\n    126     def __init__(self, iterator_slice):\n    127         self.items = list(iterator_slice)\n    128         self._size = len(self.items)\n    129 \n    130     def __call__(self):\n--> 131         return [func(*args, **kwargs) for func, args, kwargs in self.items]\n        self.items = [(<function _calc_score>, (SequentialFeatureSelector(clone_estimator=True, ...'neg_mean_squared_error',\n             verbose=2), array([['Thursday', '13:00:39', 61832, ..., 'Din...ensils', 'Cuisinox', 895.0]],\n      dtype=object), array([157.31, 157.31, 157.31, ...,  31.99,  31.99,  19.9 ]), (0,)), {})]\n    132 \n    133     def __len__(self):\n    134         return self._size\n    135 \n\n...........................................................................\nC:\\Users\\Girijesh\\Anaconda3\\lib\\site-packages\\sklearn\\externals\\joblib\\parallel.py in <listcomp>(.0=<list_iterator object>)\n    126     def __init__(self, iterator_slice):\n    127         self.items = list(iterator_slice)\n    128         self._size = len(self.items)\n    129 \n    130     def __call__(self):\n--> 131         return [func(*args, **kwargs) for func, args, kwargs in self.items]\n        func = <function _calc_score>\n        args = (SequentialFeatureSelector(clone_estimator=True, ...'neg_mean_squared_error',\n             verbose=2), array([['Thursday', '13:00:39', 61832, ..., 'Din...ensils', 'Cuisinox', 895.0]],\n      dtype=object), array([157.31, 157.31, 157.31, ...,  31.99,  31.99,  19.9 ]), (0,))\n        kwargs = {}\n    132 \n    133     def __len__(self):\n    134         return self._size\n    135 \n\n...........................................................................\nC:\\Users\\Girijesh\\Anaconda3\\lib\\site-packages\\mlxtend\\feature_selection\\sequential_feature_selector.py in _calc_score(selector=SequentialFeatureSelector(clone_estimator=True, ...'neg_mean_squared_error',\n             verbose=2), X=array([['Thursday', '13:00:39', 61832, ..., 'Din...ensils', 'Cuisinox', 895.0]],\n      dtype=object), y=array([157.31, 157.31, 157.31, ...,  31.99,  31.99,  19.9 ]), indices=(0,), **fit_params={})\n     29                                  X[:, indices], y,\n     30                                  cv=selector.cv,\n     31                                  scoring=selector.scorer,\n     32                                  n_jobs=1,\n     33                                  pre_dispatch=selector.pre_dispatch,\n---> 34                                  fit_params=fit_params)\n        fit_params = {}\n     35     else:\n     36         selector.est_.fit(X[:, indices], y, **fit_params)\n     37         scores = np.array([selector.scorer(selector.est_, X[:, indices], y)])\n     38     return indices, scores\n\n...........................................................................\nC:\\Users\\Girijesh\\Anaconda3\\lib\\site-packages\\sklearn\\model_selection\\_validation.py in cross_val_score(estimator=LinearRegression(copy_X=True, fit_intercept=True, n_jobs=1, normalize=False), X=array([['Thursday'],\n       ['Wednesday'],\n     ...    ['Sunday'],\n       ['Monday']], dtype=object), y=array([157.31, 157.31, 157.31, ...,  31.99,  31.99,  19.9 ]), groups=None, scoring=make_scorer(mean_squared_error, greater_is_better=False), cv=KFold(n_splits=10, random_state=None, shuffle=False), n_jobs=1, verbose=0, fit_params={}, pre_dispatch='2*n_jobs')\n    135     parallel = Parallel(n_jobs=n_jobs, verbose=verbose,\n    136                         pre_dispatch=pre_dispatch)\n    137     scores = parallel(delayed(_fit_and_score)(clone(estimator), X, y, scorer,\n    138                                               train, test, verbose, None,\n    139                                               fit_params)\n--> 140                       for train, test in cv_iter)\n        cv_iter = [(array([ 7908,  7909,  7910, ..., 79077, 79078, 79079]), array([   0,    1,    2, ..., 7905, 7906, 7907])), (array([    0,     1,     2, ..., 79077, 79078, 79079]), array([ 7908,  7909,  7910, ..., 15813, 15814, 15815])), (array([    0,     1,     2, ..., 79077, 79078, 79079]), array([15816, 15817, 15818, ..., 23721, 23722, 23723])), (array([    0,     1,     2, ..., 79077, 79078, 79079]), array([23724, 23725, 23726, ..., 31629, 31630, 31631])), (array([    0,     1,     2, ..., 79077, 79078, 79079]), array([31632, 31633, 31634, ..., 39537, 39538, 39539])), (array([    0,     1,     2, ..., 79077, 79078, 79079]), array([39540, 39541, 39542, ..., 47445, 47446, 47447])), (array([    0,     1,     2, ..., 79077, 79078, 79079]), array([47448, 47449, 47450, ..., 55353, 55354, 55355])), (array([    0,     1,     2, ..., 79077, 79078, 79079]), array([55356, 55357, 55358, ..., 63261, 63262, 63263])), (array([    0,     1,     2, ..., 79077, 79078, 79079]), array([63264, 63265, 63266, ..., 71169, 71170, 71171])), (array([    0,     1,     2, ..., 71169, 71170, 71171]), array([71172, 71173, 71174, ..., 79077, 79078, 79079]))]\n    141     return np.array(scores)[:, 0]\n    142 \n    143 \n    144 def _fit_and_score(estimator, X, y, scorer, train, test, verbose,\n\n...........................................................................\nC:\\Users\\Girijesh\\Anaconda3\\lib\\site-packages\\sklearn\\externals\\joblib\\parallel.py in __call__(self=Parallel(n_jobs=1), iterable=<generator object cross_val_score.<locals>.<genexpr>>)\n    753         self.n_completed_tasks = 0\n    754         try:\n    755             # Only set self._iterating to True if at least a batch\n    756             # was dispatched. In particular this covers the edge\n    757             # case of Parallel used with an exhausted iterator.\n--> 758             while self.dispatch_one_batch(iterator):\n        self.dispatch_one_batch = <bound method Parallel.dispatch_one_batch of Parallel(n_jobs=1)>\n        iterator = <generator object cross_val_score.<locals>.<genexpr>>\n    759                 self._iterating = True\n    760             else:\n    761                 self._iterating = False\n    762 \n\n...........................................................................\nC:\\Users\\Girijesh\\Anaconda3\\lib\\site-packages\\sklearn\\externals\\joblib\\parallel.py in dispatch_one_batch(self=Parallel(n_jobs=1), iterator=<generator object cross_val_score.<locals>.<genexpr>>)\n    603             tasks = BatchedCalls(itertools.islice(iterator, batch_size))\n    604             if len(tasks) == 0:\n    605                 # No more tasks available in the iterator: tell caller to stop.\n    606                 return False\n    607             else:\n--> 608                 self._dispatch(tasks)\n        self._dispatch = <bound method Parallel._dispatch of Parallel(n_jobs=1)>\n        tasks = <sklearn.externals.joblib.parallel.BatchedCalls object>\n    609                 return True\n    610 \n    611     def _print(self, msg, msg_args):\n    612         \"\"\"Display the message on stout or stderr depending on verbosity\"\"\"\n\n...........................................................................\nC:\\Users\\Girijesh\\Anaconda3\\lib\\site-packages\\sklearn\\externals\\joblib\\parallel.py in _dispatch(self=Parallel(n_jobs=1), batch=<sklearn.externals.joblib.parallel.BatchedCalls object>)\n    566         self.n_dispatched_tasks += len(batch)\n    567         self.n_dispatched_batches += 1\n    568 \n    569         dispatch_timestamp = time.time()\n    570         cb = BatchCompletionCallBack(dispatch_timestamp, len(batch), self)\n--> 571         job = self._backend.apply_async(batch, callback=cb)\n        job = undefined\n        self._backend.apply_async = <bound method SequentialBackend.apply_async of <...lib._parallel_backends.SequentialBackend object>>\n        batch = <sklearn.externals.joblib.parallel.BatchedCalls object>\n        cb = <sklearn.externals.joblib.parallel.BatchCompletionCallBack object>\n    572         self._jobs.append(job)\n    573 \n    574     def dispatch_next(self):\n    575         \"\"\"Dispatch more data for parallel processing\n\n...........................................................................\nC:\\Users\\Girijesh\\Anaconda3\\lib\\site-packages\\sklearn\\externals\\joblib\\_parallel_backends.py in apply_async(self=<sklearn.externals.joblib._parallel_backends.SequentialBackend object>, func=<sklearn.externals.joblib.parallel.BatchedCalls object>, callback=<sklearn.externals.joblib.parallel.BatchCompletionCallBack object>)\n    104             raise ValueError('n_jobs == 0 in Parallel has no meaning')\n    105         return 1\n    106 \n    107     def apply_async(self, func, callback=None):\n    108         \"\"\"Schedule a func to be run\"\"\"\n--> 109         result = ImmediateResult(func)\n        result = undefined\n        func = <sklearn.externals.joblib.parallel.BatchedCalls object>\n    110         if callback:\n    111             callback(result)\n    112         return result\n    113 \n\n...........................................................................\nC:\\Users\\Girijesh\\Anaconda3\\lib\\site-packages\\sklearn\\externals\\joblib\\_parallel_backends.py in __init__(self=<sklearn.externals.joblib._parallel_backends.ImmediateResult object>, batch=<sklearn.externals.joblib.parallel.BatchedCalls object>)\n    321 \n    322 class ImmediateResult(object):\n    323     def __init__(self, batch):\n    324         # Don't delay the application, to avoid keeping the input\n    325         # arguments in memory\n--> 326         self.results = batch()\n        self.results = undefined\n        batch = <sklearn.externals.joblib.parallel.BatchedCalls object>\n    327 \n    328     def get(self):\n    329         return self.results\n    330 \n\n...........................................................................\nC:\\Users\\Girijesh\\Anaconda3\\lib\\site-packages\\sklearn\\externals\\joblib\\parallel.py in __call__(self=<sklearn.externals.joblib.parallel.BatchedCalls object>)\n    126     def __init__(self, iterator_slice):\n    127         self.items = list(iterator_slice)\n    128         self._size = len(self.items)\n    129 \n    130     def __call__(self):\n--> 131         return [func(*args, **kwargs) for func, args, kwargs in self.items]\n        self.items = [(<function _fit_and_score>, (LinearRegression(copy_X=True, fit_intercept=True, n_jobs=1, normalize=False), array([['Thursday'],\n       ['Wednesday'],\n     ...    ['Sunday'],\n       ['Monday']], dtype=object), array([157.31, 157.31, 157.31, ...,  31.99,  31.99,  19.9 ]), make_scorer(mean_squared_error, greater_is_better=False), array([ 7908,  7909,  7910, ..., 79077, 79078, 79079]), array([   0,    1,    2, ..., 7905, 7906, 7907]), 0, None, {}), {})]\n    132 \n    133     def __len__(self):\n    134         return self._size\n    135 \n\n...........................................................................\nC:\\Users\\Girijesh\\Anaconda3\\lib\\site-packages\\sklearn\\externals\\joblib\\parallel.py in <listcomp>(.0=<list_iterator object>)\n    126     def __init__(self, iterator_slice):\n    127         self.items = list(iterator_slice)\n    128         self._size = len(self.items)\n    129 \n    130     def __call__(self):\n--> 131         return [func(*args, **kwargs) for func, args, kwargs in self.items]\n        func = <function _fit_and_score>\n        args = (LinearRegression(copy_X=True, fit_intercept=True, n_jobs=1, normalize=False), array([['Thursday'],\n       ['Wednesday'],\n     ...    ['Sunday'],\n       ['Monday']], dtype=object), array([157.31, 157.31, 157.31, ...,  31.99,  31.99,  19.9 ]), make_scorer(mean_squared_error, greater_is_better=False), array([ 7908,  7909,  7910, ..., 79077, 79078, 79079]), array([   0,    1,    2, ..., 7905, 7906, 7907]), 0, None, {})\n        kwargs = {}\n    132 \n    133     def __len__(self):\n    134         return self._size\n    135 \n\n...........................................................................\nC:\\Users\\Girijesh\\Anaconda3\\lib\\site-packages\\sklearn\\model_selection\\_validation.py in _fit_and_score(estimator=LinearRegression(copy_X=True, fit_intercept=True, n_jobs=1, normalize=False), X=array([['Thursday'],\n       ['Wednesday'],\n     ...    ['Sunday'],\n       ['Monday']], dtype=object), y=array([157.31, 157.31, 157.31, ...,  31.99,  31.99,  19.9 ]), scorer=make_scorer(mean_squared_error, greater_is_better=False), train=array([ 7908,  7909,  7910, ..., 79077, 79078, 79079]), test=array([   0,    1,    2, ..., 7905, 7906, 7907]), verbose=0, parameters=None, fit_params={}, return_train_score=False, return_parameters=False, return_n_test_samples=False, return_times=False, error_score='raise')\n    233 \n    234     try:\n    235         if y_train is None:\n    236             estimator.fit(X_train, **fit_params)\n    237         else:\n--> 238             estimator.fit(X_train, y_train, **fit_params)\n        estimator.fit = <bound method LinearRegression.fit of LinearRegr..., fit_intercept=True, n_jobs=1, normalize=False)>\n        X_train = array([['Sunday'],\n       ['Sunday'],\n       ['S...    ['Sunday'],\n       ['Monday']], dtype=object)\n        y_train = array([28.99, 22.99, 23.99, ..., 31.99, 31.99, 19.9 ])\n        fit_params = {}\n    239 \n    240     except Exception as e:\n    241         # Note fit time as time until error\n    242         fit_time = time.time() - start_time\n\n...........................................................................\nC:\\Users\\Girijesh\\Anaconda3\\lib\\site-packages\\sklearn\\linear_model\\base.py in fit(self=LinearRegression(copy_X=True, fit_intercept=True, n_jobs=1, normalize=False), X=array([['Sunday'],\n       ['Sunday'],\n       ['S...    ['Sunday'],\n       ['Monday']], dtype=object), y=array([28.99, 22.99, 23.99, ..., 31.99, 31.99, 19.9 ]), sample_weight=None)\n    507         self : returns an instance of self.\n    508         \"\"\"\n    509 \n    510         n_jobs_ = self.n_jobs\n    511         X, y = check_X_y(X, y, accept_sparse=['csr', 'csc', 'coo'],\n--> 512                          y_numeric=True, multi_output=True)\n    513 \n    514         if sample_weight is not None and np.atleast_1d(sample_weight).ndim > 1:\n    515             raise ValueError(\"Sample weights must be 1D array or scalar\")\n    516 \n\n...........................................................................\nC:\\Users\\Girijesh\\Anaconda3\\lib\\site-packages\\sklearn\\utils\\validation.py in check_X_y(X=array([['Sunday'],\n       ['Sunday'],\n       ['S...    ['Sunday'],\n       ['Monday']], dtype=object), y=array([28.99, 22.99, 23.99, ..., 31.99, 31.99, 19.9 ]), accept_sparse=['csr', 'csc', 'coo'], dtype='numeric', order=None, copy=False, force_all_finite=True, ensure_2d=True, allow_nd=False, multi_output=True, ensure_min_samples=1, ensure_min_features=1, y_numeric=True, warn_on_dtype=False, estimator=None)\n    516     y_converted : object\n    517         The converted and validated y.\n    518     \"\"\"\n    519     X = check_array(X, accept_sparse, dtype, order, copy, force_all_finite,\n    520                     ensure_2d, allow_nd, ensure_min_samples,\n--> 521                     ensure_min_features, warn_on_dtype, estimator)\n        ensure_min_features = 1\n        warn_on_dtype = False\n        estimator = None\n    522     if multi_output:\n    523         y = check_array(y, 'csr', force_all_finite=True, ensure_2d=False,\n    524                         dtype=None)\n    525     else:\n\n...........................................................................\nC:\\Users\\Girijesh\\Anaconda3\\lib\\site-packages\\sklearn\\utils\\validation.py in check_array(array=array([['Sunday'],\n       ['Sunday'],\n       ['S...    ['Sunday'],\n       ['Monday']], dtype=object), accept_sparse=['csr', 'csc', 'coo'], dtype=<class 'numpy.float64'>, order=None, copy=False, force_all_finite=True, ensure_2d=True, allow_nd=False, ensure_min_samples=1, ensure_min_features=1, warn_on_dtype=False, estimator=None)\n    377 \n    378     if sp.issparse(array):\n    379         array = _ensure_sparse_format(array, accept_sparse, dtype, copy,\n    380                                       force_all_finite)\n    381     else:\n--> 382         array = np.array(array, dtype=dtype, order=order, copy=copy)\n        array = array([['Sunday'],\n       ['Sunday'],\n       ['S...    ['Sunday'],\n       ['Monday']], dtype=object)\n        dtype = <class 'numpy.float64'>\n        order = None\n        copy = False\n    383 \n    384         if ensure_2d:\n    385             if array.ndim == 1:\n    386                 if ensure_min_samples >= 2:\n\nValueError: could not convert string to float: 'Sunday'\n___________________________________________________________________________",
     "output_type": "error",
     "traceback": [
      "\u001b[1;31m---------------------------------------------------------------------------\u001b[0m",
      "\u001b[1;31mRemoteTraceback\u001b[0m                           Traceback (most recent call last)",
      "\u001b[1;31mRemoteTraceback\u001b[0m: \n\"\"\"\nTraceback (most recent call last):\n  File \"C:\\Users\\Girijesh\\Anaconda3\\lib\\site-packages\\sklearn\\externals\\joblib\\_parallel_backends.py\", line 344, in __call__\n    return self.func(*args, **kwargs)\n  File \"C:\\Users\\Girijesh\\Anaconda3\\lib\\site-packages\\sklearn\\externals\\joblib\\parallel.py\", line 131, in __call__\n    return [func(*args, **kwargs) for func, args, kwargs in self.items]\n  File \"C:\\Users\\Girijesh\\Anaconda3\\lib\\site-packages\\sklearn\\externals\\joblib\\parallel.py\", line 131, in <listcomp>\n    return [func(*args, **kwargs) for func, args, kwargs in self.items]\n  File \"C:\\Users\\Girijesh\\Anaconda3\\lib\\site-packages\\mlxtend\\feature_selection\\sequential_feature_selector.py\", line 34, in _calc_score\n    fit_params=fit_params)\n  File \"C:\\Users\\Girijesh\\Anaconda3\\lib\\site-packages\\sklearn\\model_selection\\_validation.py\", line 140, in cross_val_score\n    for train, test in cv_iter)\n  File \"C:\\Users\\Girijesh\\Anaconda3\\lib\\site-packages\\sklearn\\externals\\joblib\\parallel.py\", line 758, in __call__\n    while self.dispatch_one_batch(iterator):\n  File \"C:\\Users\\Girijesh\\Anaconda3\\lib\\site-packages\\sklearn\\externals\\joblib\\parallel.py\", line 608, in dispatch_one_batch\n    self._dispatch(tasks)\n  File \"C:\\Users\\Girijesh\\Anaconda3\\lib\\site-packages\\sklearn\\externals\\joblib\\parallel.py\", line 571, in _dispatch\n    job = self._backend.apply_async(batch, callback=cb)\n  File \"C:\\Users\\Girijesh\\Anaconda3\\lib\\site-packages\\sklearn\\externals\\joblib\\_parallel_backends.py\", line 109, in apply_async\n    result = ImmediateResult(func)\n  File \"C:\\Users\\Girijesh\\Anaconda3\\lib\\site-packages\\sklearn\\externals\\joblib\\_parallel_backends.py\", line 326, in __init__\n    self.results = batch()\n  File \"C:\\Users\\Girijesh\\Anaconda3\\lib\\site-packages\\sklearn\\externals\\joblib\\parallel.py\", line 131, in __call__\n    return [func(*args, **kwargs) for func, args, kwargs in self.items]\n  File \"C:\\Users\\Girijesh\\Anaconda3\\lib\\site-packages\\sklearn\\externals\\joblib\\parallel.py\", line 131, in <listcomp>\n    return [func(*args, **kwargs) for func, args, kwargs in self.items]\n  File \"C:\\Users\\Girijesh\\Anaconda3\\lib\\site-packages\\sklearn\\model_selection\\_validation.py\", line 238, in _fit_and_score\n    estimator.fit(X_train, y_train, **fit_params)\n  File \"C:\\Users\\Girijesh\\Anaconda3\\lib\\site-packages\\sklearn\\linear_model\\base.py\", line 512, in fit\n    y_numeric=True, multi_output=True)\n  File \"C:\\Users\\Girijesh\\Anaconda3\\lib\\site-packages\\sklearn\\utils\\validation.py\", line 521, in check_X_y\n    ensure_min_features, warn_on_dtype, estimator)\n  File \"C:\\Users\\Girijesh\\Anaconda3\\lib\\site-packages\\sklearn\\utils\\validation.py\", line 382, in check_array\n    array = np.array(array, dtype=dtype, order=order, copy=copy)\nValueError: could not convert string to float: 'Sunday'\n\nDuring handling of the above exception, another exception occurred:\n\nTraceback (most recent call last):\n  File \"C:\\Users\\Girijesh\\Anaconda3\\lib\\multiprocessing\\pool.py\", line 119, in worker\n    result = (True, func(*args, **kwds))\n  File \"C:\\Users\\Girijesh\\Anaconda3\\lib\\site-packages\\sklearn\\externals\\joblib\\_parallel_backends.py\", line 353, in __call__\n    raise TransportableException(text, e_type)\nsklearn.externals.joblib.my_exceptions.TransportableException: TransportableException\n___________________________________________________________________________\nValueError                                         Fri Dec 14 02:28:23 2018\nPID: 22180             Python 3.6.1: C:\\Users\\Girijesh\\Anaconda3\\python.exe\n...........................................................................\nC:\\Users\\Girijesh\\Anaconda3\\lib\\site-packages\\sklearn\\externals\\joblib\\parallel.py in __call__(self=<sklearn.externals.joblib.parallel.BatchedCalls object>)\n    126     def __init__(self, iterator_slice):\n    127         self.items = list(iterator_slice)\n    128         self._size = len(self.items)\n    129 \n    130     def __call__(self):\n--> 131         return [func(*args, **kwargs) for func, args, kwargs in self.items]\n        self.items = [(<function _calc_score>, (SequentialFeatureSelector(clone_estimator=True, ...'neg_mean_squared_error',\n             verbose=2), array([['Thursday', '13:00:39', 61832, ..., 'Din...ensils', 'Cuisinox', 895.0]],\n      dtype=object), array([157.31, 157.31, 157.31, ...,  31.99,  31.99,  19.9 ]), (0,)), {})]\n    132 \n    133     def __len__(self):\n    134         return self._size\n    135 \n\n...........................................................................\nC:\\Users\\Girijesh\\Anaconda3\\lib\\site-packages\\sklearn\\externals\\joblib\\parallel.py in <listcomp>(.0=<list_iterator object>)\n    126     def __init__(self, iterator_slice):\n    127         self.items = list(iterator_slice)\n    128         self._size = len(self.items)\n    129 \n    130     def __call__(self):\n--> 131         return [func(*args, **kwargs) for func, args, kwargs in self.items]\n        func = <function _calc_score>\n        args = (SequentialFeatureSelector(clone_estimator=True, ...'neg_mean_squared_error',\n             verbose=2), array([['Thursday', '13:00:39', 61832, ..., 'Din...ensils', 'Cuisinox', 895.0]],\n      dtype=object), array([157.31, 157.31, 157.31, ...,  31.99,  31.99,  19.9 ]), (0,))\n        kwargs = {}\n    132 \n    133     def __len__(self):\n    134         return self._size\n    135 \n\n...........................................................................\nC:\\Users\\Girijesh\\Anaconda3\\lib\\site-packages\\mlxtend\\feature_selection\\sequential_feature_selector.py in _calc_score(selector=SequentialFeatureSelector(clone_estimator=True, ...'neg_mean_squared_error',\n             verbose=2), X=array([['Thursday', '13:00:39', 61832, ..., 'Din...ensils', 'Cuisinox', 895.0]],\n      dtype=object), y=array([157.31, 157.31, 157.31, ...,  31.99,  31.99,  19.9 ]), indices=(0,), **fit_params={})\n     29                                  X[:, indices], y,\n     30                                  cv=selector.cv,\n     31                                  scoring=selector.scorer,\n     32                                  n_jobs=1,\n     33                                  pre_dispatch=selector.pre_dispatch,\n---> 34                                  fit_params=fit_params)\n        fit_params = {}\n     35     else:\n     36         selector.est_.fit(X[:, indices], y, **fit_params)\n     37         scores = np.array([selector.scorer(selector.est_, X[:, indices], y)])\n     38     return indices, scores\n\n...........................................................................\nC:\\Users\\Girijesh\\Anaconda3\\lib\\site-packages\\sklearn\\model_selection\\_validation.py in cross_val_score(estimator=LinearRegression(copy_X=True, fit_intercept=True, n_jobs=1, normalize=False), X=array([['Thursday'],\n       ['Wednesday'],\n     ...    ['Sunday'],\n       ['Monday']], dtype=object), y=array([157.31, 157.31, 157.31, ...,  31.99,  31.99,  19.9 ]), groups=None, scoring=make_scorer(mean_squared_error, greater_is_better=False), cv=KFold(n_splits=10, random_state=None, shuffle=False), n_jobs=1, verbose=0, fit_params={}, pre_dispatch='2*n_jobs')\n    135     parallel = Parallel(n_jobs=n_jobs, verbose=verbose,\n    136                         pre_dispatch=pre_dispatch)\n    137     scores = parallel(delayed(_fit_and_score)(clone(estimator), X, y, scorer,\n    138                                               train, test, verbose, None,\n    139                                               fit_params)\n--> 140                       for train, test in cv_iter)\n        cv_iter = [(array([ 7908,  7909,  7910, ..., 79077, 79078, 79079]), array([   0,    1,    2, ..., 7905, 7906, 7907])), (array([    0,     1,     2, ..., 79077, 79078, 79079]), array([ 7908,  7909,  7910, ..., 15813, 15814, 15815])), (array([    0,     1,     2, ..., 79077, 79078, 79079]), array([15816, 15817, 15818, ..., 23721, 23722, 23723])), (array([    0,     1,     2, ..., 79077, 79078, 79079]), array([23724, 23725, 23726, ..., 31629, 31630, 31631])), (array([    0,     1,     2, ..., 79077, 79078, 79079]), array([31632, 31633, 31634, ..., 39537, 39538, 39539])), (array([    0,     1,     2, ..., 79077, 79078, 79079]), array([39540, 39541, 39542, ..., 47445, 47446, 47447])), (array([    0,     1,     2, ..., 79077, 79078, 79079]), array([47448, 47449, 47450, ..., 55353, 55354, 55355])), (array([    0,     1,     2, ..., 79077, 79078, 79079]), array([55356, 55357, 55358, ..., 63261, 63262, 63263])), (array([    0,     1,     2, ..., 79077, 79078, 79079]), array([63264, 63265, 63266, ..., 71169, 71170, 71171])), (array([    0,     1,     2, ..., 71169, 71170, 71171]), array([71172, 71173, 71174, ..., 79077, 79078, 79079]))]\n    141     return np.array(scores)[:, 0]\n    142 \n    143 \n    144 def _fit_and_score(estimator, X, y, scorer, train, test, verbose,\n\n...........................................................................\nC:\\Users\\Girijesh\\Anaconda3\\lib\\site-packages\\sklearn\\externals\\joblib\\parallel.py in __call__(self=Parallel(n_jobs=1), iterable=<generator object cross_val_score.<locals>.<genexpr>>)\n    753         self.n_completed_tasks = 0\n    754         try:\n    755             # Only set self._iterating to True if at least a batch\n    756             # was dispatched. In particular this covers the edge\n    757             # case of Parallel used with an exhausted iterator.\n--> 758             while self.dispatch_one_batch(iterator):\n        self.dispatch_one_batch = <bound method Parallel.dispatch_one_batch of Parallel(n_jobs=1)>\n        iterator = <generator object cross_val_score.<locals>.<genexpr>>\n    759                 self._iterating = True\n    760             else:\n    761                 self._iterating = False\n    762 \n\n...........................................................................\nC:\\Users\\Girijesh\\Anaconda3\\lib\\site-packages\\sklearn\\externals\\joblib\\parallel.py in dispatch_one_batch(self=Parallel(n_jobs=1), iterator=<generator object cross_val_score.<locals>.<genexpr>>)\n    603             tasks = BatchedCalls(itertools.islice(iterator, batch_size))\n    604             if len(tasks) == 0:\n    605                 # No more tasks available in the iterator: tell caller to stop.\n    606                 return False\n    607             else:\n--> 608                 self._dispatch(tasks)\n        self._dispatch = <bound method Parallel._dispatch of Parallel(n_jobs=1)>\n        tasks = <sklearn.externals.joblib.parallel.BatchedCalls object>\n    609                 return True\n    610 \n    611     def _print(self, msg, msg_args):\n    612         \"\"\"Display the message on stout or stderr depending on verbosity\"\"\"\n\n...........................................................................\nC:\\Users\\Girijesh\\Anaconda3\\lib\\site-packages\\sklearn\\externals\\joblib\\parallel.py in _dispatch(self=Parallel(n_jobs=1), batch=<sklearn.externals.joblib.parallel.BatchedCalls object>)\n    566         self.n_dispatched_tasks += len(batch)\n    567         self.n_dispatched_batches += 1\n    568 \n    569         dispatch_timestamp = time.time()\n    570         cb = BatchCompletionCallBack(dispatch_timestamp, len(batch), self)\n--> 571         job = self._backend.apply_async(batch, callback=cb)\n        job = undefined\n        self._backend.apply_async = <bound method SequentialBackend.apply_async of <...lib._parallel_backends.SequentialBackend object>>\n        batch = <sklearn.externals.joblib.parallel.BatchedCalls object>\n        cb = <sklearn.externals.joblib.parallel.BatchCompletionCallBack object>\n    572         self._jobs.append(job)\n    573 \n    574     def dispatch_next(self):\n    575         \"\"\"Dispatch more data for parallel processing\n\n...........................................................................\nC:\\Users\\Girijesh\\Anaconda3\\lib\\site-packages\\sklearn\\externals\\joblib\\_parallel_backends.py in apply_async(self=<sklearn.externals.joblib._parallel_backends.SequentialBackend object>, func=<sklearn.externals.joblib.parallel.BatchedCalls object>, callback=<sklearn.externals.joblib.parallel.BatchCompletionCallBack object>)\n    104             raise ValueError('n_jobs == 0 in Parallel has no meaning')\n    105         return 1\n    106 \n    107     def apply_async(self, func, callback=None):\n    108         \"\"\"Schedule a func to be run\"\"\"\n--> 109         result = ImmediateResult(func)\n        result = undefined\n        func = <sklearn.externals.joblib.parallel.BatchedCalls object>\n    110         if callback:\n    111             callback(result)\n    112         return result\n    113 \n\n...........................................................................\nC:\\Users\\Girijesh\\Anaconda3\\lib\\site-packages\\sklearn\\externals\\joblib\\_parallel_backends.py in __init__(self=<sklearn.externals.joblib._parallel_backends.ImmediateResult object>, batch=<sklearn.externals.joblib.parallel.BatchedCalls object>)\n    321 \n    322 class ImmediateResult(object):\n    323     def __init__(self, batch):\n    324         # Don't delay the application, to avoid keeping the input\n    325         # arguments in memory\n--> 326         self.results = batch()\n        self.results = undefined\n        batch = <sklearn.externals.joblib.parallel.BatchedCalls object>\n    327 \n    328     def get(self):\n    329         return self.results\n    330 \n\n...........................................................................\nC:\\Users\\Girijesh\\Anaconda3\\lib\\site-packages\\sklearn\\externals\\joblib\\parallel.py in __call__(self=<sklearn.externals.joblib.parallel.BatchedCalls object>)\n    126     def __init__(self, iterator_slice):\n    127         self.items = list(iterator_slice)\n    128         self._size = len(self.items)\n    129 \n    130     def __call__(self):\n--> 131         return [func(*args, **kwargs) for func, args, kwargs in self.items]\n        self.items = [(<function _fit_and_score>, (LinearRegression(copy_X=True, fit_intercept=True, n_jobs=1, normalize=False), array([['Thursday'],\n       ['Wednesday'],\n     ...    ['Sunday'],\n       ['Monday']], dtype=object), array([157.31, 157.31, 157.31, ...,  31.99,  31.99,  19.9 ]), make_scorer(mean_squared_error, greater_is_better=False), array([ 7908,  7909,  7910, ..., 79077, 79078, 79079]), array([   0,    1,    2, ..., 7905, 7906, 7907]), 0, None, {}), {})]\n    132 \n    133     def __len__(self):\n    134         return self._size\n    135 \n\n...........................................................................\nC:\\Users\\Girijesh\\Anaconda3\\lib\\site-packages\\sklearn\\externals\\joblib\\parallel.py in <listcomp>(.0=<list_iterator object>)\n    126     def __init__(self, iterator_slice):\n    127         self.items = list(iterator_slice)\n    128         self._size = len(self.items)\n    129 \n    130     def __call__(self):\n--> 131         return [func(*args, **kwargs) for func, args, kwargs in self.items]\n        func = <function _fit_and_score>\n        args = (LinearRegression(copy_X=True, fit_intercept=True, n_jobs=1, normalize=False), array([['Thursday'],\n       ['Wednesday'],\n     ...    ['Sunday'],\n       ['Monday']], dtype=object), array([157.31, 157.31, 157.31, ...,  31.99,  31.99,  19.9 ]), make_scorer(mean_squared_error, greater_is_better=False), array([ 7908,  7909,  7910, ..., 79077, 79078, 79079]), array([   0,    1,    2, ..., 7905, 7906, 7907]), 0, None, {})\n        kwargs = {}\n    132 \n    133     def __len__(self):\n    134         return self._size\n    135 \n\n...........................................................................\nC:\\Users\\Girijesh\\Anaconda3\\lib\\site-packages\\sklearn\\model_selection\\_validation.py in _fit_and_score(estimator=LinearRegression(copy_X=True, fit_intercept=True, n_jobs=1, normalize=False), X=array([['Thursday'],\n       ['Wednesday'],\n     ...    ['Sunday'],\n       ['Monday']], dtype=object), y=array([157.31, 157.31, 157.31, ...,  31.99,  31.99,  19.9 ]), scorer=make_scorer(mean_squared_error, greater_is_better=False), train=array([ 7908,  7909,  7910, ..., 79077, 79078, 79079]), test=array([   0,    1,    2, ..., 7905, 7906, 7907]), verbose=0, parameters=None, fit_params={}, return_train_score=False, return_parameters=False, return_n_test_samples=False, return_times=False, error_score='raise')\n    233 \n    234     try:\n    235         if y_train is None:\n    236             estimator.fit(X_train, **fit_params)\n    237         else:\n--> 238             estimator.fit(X_train, y_train, **fit_params)\n        estimator.fit = <bound method LinearRegression.fit of LinearRegr..., fit_intercept=True, n_jobs=1, normalize=False)>\n        X_train = array([['Sunday'],\n       ['Sunday'],\n       ['S...    ['Sunday'],\n       ['Monday']], dtype=object)\n        y_train = array([28.99, 22.99, 23.99, ..., 31.99, 31.99, 19.9 ])\n        fit_params = {}\n    239 \n    240     except Exception as e:\n    241         # Note fit time as time until error\n    242         fit_time = time.time() - start_time\n\n...........................................................................\nC:\\Users\\Girijesh\\Anaconda3\\lib\\site-packages\\sklearn\\linear_model\\base.py in fit(self=LinearRegression(copy_X=True, fit_intercept=True, n_jobs=1, normalize=False), X=array([['Sunday'],\n       ['Sunday'],\n       ['S...    ['Sunday'],\n       ['Monday']], dtype=object), y=array([28.99, 22.99, 23.99, ..., 31.99, 31.99, 19.9 ]), sample_weight=None)\n    507         self : returns an instance of self.\n    508         \"\"\"\n    509 \n    510         n_jobs_ = self.n_jobs\n    511         X, y = check_X_y(X, y, accept_sparse=['csr', 'csc', 'coo'],\n--> 512                          y_numeric=True, multi_output=True)\n    513 \n    514         if sample_weight is not None and np.atleast_1d(sample_weight).ndim > 1:\n    515             raise ValueError(\"Sample weights must be 1D array or scalar\")\n    516 \n\n...........................................................................\nC:\\Users\\Girijesh\\Anaconda3\\lib\\site-packages\\sklearn\\utils\\validation.py in check_X_y(X=array([['Sunday'],\n       ['Sunday'],\n       ['S...    ['Sunday'],\n       ['Monday']], dtype=object), y=array([28.99, 22.99, 23.99, ..., 31.99, 31.99, 19.9 ]), accept_sparse=['csr', 'csc', 'coo'], dtype='numeric', order=None, copy=False, force_all_finite=True, ensure_2d=True, allow_nd=False, multi_output=True, ensure_min_samples=1, ensure_min_features=1, y_numeric=True, warn_on_dtype=False, estimator=None)\n    516     y_converted : object\n    517         The converted and validated y.\n    518     \"\"\"\n    519     X = check_array(X, accept_sparse, dtype, order, copy, force_all_finite,\n    520                     ensure_2d, allow_nd, ensure_min_samples,\n--> 521                     ensure_min_features, warn_on_dtype, estimator)\n        ensure_min_features = 1\n        warn_on_dtype = False\n        estimator = None\n    522     if multi_output:\n    523         y = check_array(y, 'csr', force_all_finite=True, ensure_2d=False,\n    524                         dtype=None)\n    525     else:\n\n...........................................................................\nC:\\Users\\Girijesh\\Anaconda3\\lib\\site-packages\\sklearn\\utils\\validation.py in check_array(array=array([['Sunday'],\n       ['Sunday'],\n       ['S...    ['Sunday'],\n       ['Monday']], dtype=object), accept_sparse=['csr', 'csc', 'coo'], dtype=<class 'numpy.float64'>, order=None, copy=False, force_all_finite=True, ensure_2d=True, allow_nd=False, ensure_min_samples=1, ensure_min_features=1, warn_on_dtype=False, estimator=None)\n    377 \n    378     if sp.issparse(array):\n    379         array = _ensure_sparse_format(array, accept_sparse, dtype, copy,\n    380                                       force_all_finite)\n    381     else:\n--> 382         array = np.array(array, dtype=dtype, order=order, copy=copy)\n        array = array([['Sunday'],\n       ['Sunday'],\n       ['S...    ['Sunday'],\n       ['Monday']], dtype=object)\n        dtype = <class 'numpy.float64'>\n        order = None\n        copy = False\n    383 \n    384         if ensure_2d:\n    385             if array.ndim == 1:\n    386                 if ensure_min_samples >= 2:\n\nValueError: could not convert string to float: 'Sunday'\n___________________________________________________________________________\n\"\"\"",
      "\nThe above exception was the direct cause of the following exception:\n",
      "\u001b[1;31mTransportableException\u001b[0m                    Traceback (most recent call last)",
      "\u001b[1;32mC:\\Users\\Girijesh\\Anaconda3\\lib\\site-packages\\sklearn\\externals\\joblib\\parallel.py\u001b[0m in \u001b[0;36mretrieve\u001b[1;34m(self)\u001b[0m\n\u001b[0;32m    681\u001b[0m                 \u001b[1;32mif\u001b[0m \u001b[1;34m'timeout'\u001b[0m \u001b[1;32min\u001b[0m \u001b[0mgetfullargspec\u001b[0m\u001b[1;33m(\u001b[0m\u001b[0mjob\u001b[0m\u001b[1;33m.\u001b[0m\u001b[0mget\u001b[0m\u001b[1;33m)\u001b[0m\u001b[1;33m.\u001b[0m\u001b[0margs\u001b[0m\u001b[1;33m:\u001b[0m\u001b[1;33m\u001b[0m\u001b[0m\n\u001b[1;32m--> 682\u001b[1;33m                     \u001b[0mself\u001b[0m\u001b[1;33m.\u001b[0m\u001b[0m_output\u001b[0m\u001b[1;33m.\u001b[0m\u001b[0mextend\u001b[0m\u001b[1;33m(\u001b[0m\u001b[0mjob\u001b[0m\u001b[1;33m.\u001b[0m\u001b[0mget\u001b[0m\u001b[1;33m(\u001b[0m\u001b[0mtimeout\u001b[0m\u001b[1;33m=\u001b[0m\u001b[0mself\u001b[0m\u001b[1;33m.\u001b[0m\u001b[0mtimeout\u001b[0m\u001b[1;33m)\u001b[0m\u001b[1;33m)\u001b[0m\u001b[1;33m\u001b[0m\u001b[0m\n\u001b[0m\u001b[0;32m    683\u001b[0m                 \u001b[1;32melse\u001b[0m\u001b[1;33m:\u001b[0m\u001b[1;33m\u001b[0m\u001b[0m\n",
      "\u001b[1;32mC:\\Users\\Girijesh\\Anaconda3\\lib\\multiprocessing\\pool.py\u001b[0m in \u001b[0;36mget\u001b[1;34m(self, timeout)\u001b[0m\n\u001b[0;32m    607\u001b[0m         \u001b[1;32melse\u001b[0m\u001b[1;33m:\u001b[0m\u001b[1;33m\u001b[0m\u001b[0m\n\u001b[1;32m--> 608\u001b[1;33m             \u001b[1;32mraise\u001b[0m \u001b[0mself\u001b[0m\u001b[1;33m.\u001b[0m\u001b[0m_value\u001b[0m\u001b[1;33m\u001b[0m\u001b[0m\n\u001b[0m\u001b[0;32m    609\u001b[0m \u001b[1;33m\u001b[0m\u001b[0m\n",
      "\u001b[1;31mTransportableException\u001b[0m: TransportableException\n___________________________________________________________________________\nValueError                                         Fri Dec 14 02:28:23 2018\nPID: 22180             Python 3.6.1: C:\\Users\\Girijesh\\Anaconda3\\python.exe\n...........................................................................\nC:\\Users\\Girijesh\\Anaconda3\\lib\\site-packages\\sklearn\\externals\\joblib\\parallel.py in __call__(self=<sklearn.externals.joblib.parallel.BatchedCalls object>)\n    126     def __init__(self, iterator_slice):\n    127         self.items = list(iterator_slice)\n    128         self._size = len(self.items)\n    129 \n    130     def __call__(self):\n--> 131         return [func(*args, **kwargs) for func, args, kwargs in self.items]\n        self.items = [(<function _calc_score>, (SequentialFeatureSelector(clone_estimator=True, ...'neg_mean_squared_error',\n             verbose=2), array([['Thursday', '13:00:39', 61832, ..., 'Din...ensils', 'Cuisinox', 895.0]],\n      dtype=object), array([157.31, 157.31, 157.31, ...,  31.99,  31.99,  19.9 ]), (0,)), {})]\n    132 \n    133     def __len__(self):\n    134         return self._size\n    135 \n\n...........................................................................\nC:\\Users\\Girijesh\\Anaconda3\\lib\\site-packages\\sklearn\\externals\\joblib\\parallel.py in <listcomp>(.0=<list_iterator object>)\n    126     def __init__(self, iterator_slice):\n    127         self.items = list(iterator_slice)\n    128         self._size = len(self.items)\n    129 \n    130     def __call__(self):\n--> 131         return [func(*args, **kwargs) for func, args, kwargs in self.items]\n        func = <function _calc_score>\n        args = (SequentialFeatureSelector(clone_estimator=True, ...'neg_mean_squared_error',\n             verbose=2), array([['Thursday', '13:00:39', 61832, ..., 'Din...ensils', 'Cuisinox', 895.0]],\n      dtype=object), array([157.31, 157.31, 157.31, ...,  31.99,  31.99,  19.9 ]), (0,))\n        kwargs = {}\n    132 \n    133     def __len__(self):\n    134         return self._size\n    135 \n\n...........................................................................\nC:\\Users\\Girijesh\\Anaconda3\\lib\\site-packages\\mlxtend\\feature_selection\\sequential_feature_selector.py in _calc_score(selector=SequentialFeatureSelector(clone_estimator=True, ...'neg_mean_squared_error',\n             verbose=2), X=array([['Thursday', '13:00:39', 61832, ..., 'Din...ensils', 'Cuisinox', 895.0]],\n      dtype=object), y=array([157.31, 157.31, 157.31, ...,  31.99,  31.99,  19.9 ]), indices=(0,), **fit_params={})\n     29                                  X[:, indices], y,\n     30                                  cv=selector.cv,\n     31                                  scoring=selector.scorer,\n     32                                  n_jobs=1,\n     33                                  pre_dispatch=selector.pre_dispatch,\n---> 34                                  fit_params=fit_params)\n        fit_params = {}\n     35     else:\n     36         selector.est_.fit(X[:, indices], y, **fit_params)\n     37         scores = np.array([selector.scorer(selector.est_, X[:, indices], y)])\n     38     return indices, scores\n\n...........................................................................\nC:\\Users\\Girijesh\\Anaconda3\\lib\\site-packages\\sklearn\\model_selection\\_validation.py in cross_val_score(estimator=LinearRegression(copy_X=True, fit_intercept=True, n_jobs=1, normalize=False), X=array([['Thursday'],\n       ['Wednesday'],\n     ...    ['Sunday'],\n       ['Monday']], dtype=object), y=array([157.31, 157.31, 157.31, ...,  31.99,  31.99,  19.9 ]), groups=None, scoring=make_scorer(mean_squared_error, greater_is_better=False), cv=KFold(n_splits=10, random_state=None, shuffle=False), n_jobs=1, verbose=0, fit_params={}, pre_dispatch='2*n_jobs')\n    135     parallel = Parallel(n_jobs=n_jobs, verbose=verbose,\n    136                         pre_dispatch=pre_dispatch)\n    137     scores = parallel(delayed(_fit_and_score)(clone(estimator), X, y, scorer,\n    138                                               train, test, verbose, None,\n    139                                               fit_params)\n--> 140                       for train, test in cv_iter)\n        cv_iter = [(array([ 7908,  7909,  7910, ..., 79077, 79078, 79079]), array([   0,    1,    2, ..., 7905, 7906, 7907])), (array([    0,     1,     2, ..., 79077, 79078, 79079]), array([ 7908,  7909,  7910, ..., 15813, 15814, 15815])), (array([    0,     1,     2, ..., 79077, 79078, 79079]), array([15816, 15817, 15818, ..., 23721, 23722, 23723])), (array([    0,     1,     2, ..., 79077, 79078, 79079]), array([23724, 23725, 23726, ..., 31629, 31630, 31631])), (array([    0,     1,     2, ..., 79077, 79078, 79079]), array([31632, 31633, 31634, ..., 39537, 39538, 39539])), (array([    0,     1,     2, ..., 79077, 79078, 79079]), array([39540, 39541, 39542, ..., 47445, 47446, 47447])), (array([    0,     1,     2, ..., 79077, 79078, 79079]), array([47448, 47449, 47450, ..., 55353, 55354, 55355])), (array([    0,     1,     2, ..., 79077, 79078, 79079]), array([55356, 55357, 55358, ..., 63261, 63262, 63263])), (array([    0,     1,     2, ..., 79077, 79078, 79079]), array([63264, 63265, 63266, ..., 71169, 71170, 71171])), (array([    0,     1,     2, ..., 71169, 71170, 71171]), array([71172, 71173, 71174, ..., 79077, 79078, 79079]))]\n    141     return np.array(scores)[:, 0]\n    142 \n    143 \n    144 def _fit_and_score(estimator, X, y, scorer, train, test, verbose,\n\n...........................................................................\nC:\\Users\\Girijesh\\Anaconda3\\lib\\site-packages\\sklearn\\externals\\joblib\\parallel.py in __call__(self=Parallel(n_jobs=1), iterable=<generator object cross_val_score.<locals>.<genexpr>>)\n    753         self.n_completed_tasks = 0\n    754         try:\n    755             # Only set self._iterating to True if at least a batch\n    756             # was dispatched. In particular this covers the edge\n    757             # case of Parallel used with an exhausted iterator.\n--> 758             while self.dispatch_one_batch(iterator):\n        self.dispatch_one_batch = <bound method Parallel.dispatch_one_batch of Parallel(n_jobs=1)>\n        iterator = <generator object cross_val_score.<locals>.<genexpr>>\n    759                 self._iterating = True\n    760             else:\n    761                 self._iterating = False\n    762 \n\n...........................................................................\nC:\\Users\\Girijesh\\Anaconda3\\lib\\site-packages\\sklearn\\externals\\joblib\\parallel.py in dispatch_one_batch(self=Parallel(n_jobs=1), iterator=<generator object cross_val_score.<locals>.<genexpr>>)\n    603             tasks = BatchedCalls(itertools.islice(iterator, batch_size))\n    604             if len(tasks) == 0:\n    605                 # No more tasks available in the iterator: tell caller to stop.\n    606                 return False\n    607             else:\n--> 608                 self._dispatch(tasks)\n        self._dispatch = <bound method Parallel._dispatch of Parallel(n_jobs=1)>\n        tasks = <sklearn.externals.joblib.parallel.BatchedCalls object>\n    609                 return True\n    610 \n    611     def _print(self, msg, msg_args):\n    612         \"\"\"Display the message on stout or stderr depending on verbosity\"\"\"\n\n...........................................................................\nC:\\Users\\Girijesh\\Anaconda3\\lib\\site-packages\\sklearn\\externals\\joblib\\parallel.py in _dispatch(self=Parallel(n_jobs=1), batch=<sklearn.externals.joblib.parallel.BatchedCalls object>)\n    566         self.n_dispatched_tasks += len(batch)\n    567         self.n_dispatched_batches += 1\n    568 \n    569         dispatch_timestamp = time.time()\n    570         cb = BatchCompletionCallBack(dispatch_timestamp, len(batch), self)\n--> 571         job = self._backend.apply_async(batch, callback=cb)\n        job = undefined\n        self._backend.apply_async = <bound method SequentialBackend.apply_async of <...lib._parallel_backends.SequentialBackend object>>\n        batch = <sklearn.externals.joblib.parallel.BatchedCalls object>\n        cb = <sklearn.externals.joblib.parallel.BatchCompletionCallBack object>\n    572         self._jobs.append(job)\n    573 \n    574     def dispatch_next(self):\n    575         \"\"\"Dispatch more data for parallel processing\n\n...........................................................................\nC:\\Users\\Girijesh\\Anaconda3\\lib\\site-packages\\sklearn\\externals\\joblib\\_parallel_backends.py in apply_async(self=<sklearn.externals.joblib._parallel_backends.SequentialBackend object>, func=<sklearn.externals.joblib.parallel.BatchedCalls object>, callback=<sklearn.externals.joblib.parallel.BatchCompletionCallBack object>)\n    104             raise ValueError('n_jobs == 0 in Parallel has no meaning')\n    105         return 1\n    106 \n    107     def apply_async(self, func, callback=None):\n    108         \"\"\"Schedule a func to be run\"\"\"\n--> 109         result = ImmediateResult(func)\n        result = undefined\n        func = <sklearn.externals.joblib.parallel.BatchedCalls object>\n    110         if callback:\n    111             callback(result)\n    112         return result\n    113 \n\n...........................................................................\nC:\\Users\\Girijesh\\Anaconda3\\lib\\site-packages\\sklearn\\externals\\joblib\\_parallel_backends.py in __init__(self=<sklearn.externals.joblib._parallel_backends.ImmediateResult object>, batch=<sklearn.externals.joblib.parallel.BatchedCalls object>)\n    321 \n    322 class ImmediateResult(object):\n    323     def __init__(self, batch):\n    324         # Don't delay the application, to avoid keeping the input\n    325         # arguments in memory\n--> 326         self.results = batch()\n        self.results = undefined\n        batch = <sklearn.externals.joblib.parallel.BatchedCalls object>\n    327 \n    328     def get(self):\n    329         return self.results\n    330 \n\n...........................................................................\nC:\\Users\\Girijesh\\Anaconda3\\lib\\site-packages\\sklearn\\externals\\joblib\\parallel.py in __call__(self=<sklearn.externals.joblib.parallel.BatchedCalls object>)\n    126     def __init__(self, iterator_slice):\n    127         self.items = list(iterator_slice)\n    128         self._size = len(self.items)\n    129 \n    130     def __call__(self):\n--> 131         return [func(*args, **kwargs) for func, args, kwargs in self.items]\n        self.items = [(<function _fit_and_score>, (LinearRegression(copy_X=True, fit_intercept=True, n_jobs=1, normalize=False), array([['Thursday'],\n       ['Wednesday'],\n     ...    ['Sunday'],\n       ['Monday']], dtype=object), array([157.31, 157.31, 157.31, ...,  31.99,  31.99,  19.9 ]), make_scorer(mean_squared_error, greater_is_better=False), array([ 7908,  7909,  7910, ..., 79077, 79078, 79079]), array([   0,    1,    2, ..., 7905, 7906, 7907]), 0, None, {}), {})]\n    132 \n    133     def __len__(self):\n    134         return self._size\n    135 \n\n...........................................................................\nC:\\Users\\Girijesh\\Anaconda3\\lib\\site-packages\\sklearn\\externals\\joblib\\parallel.py in <listcomp>(.0=<list_iterator object>)\n    126     def __init__(self, iterator_slice):\n    127         self.items = list(iterator_slice)\n    128         self._size = len(self.items)\n    129 \n    130     def __call__(self):\n--> 131         return [func(*args, **kwargs) for func, args, kwargs in self.items]\n        func = <function _fit_and_score>\n        args = (LinearRegression(copy_X=True, fit_intercept=True, n_jobs=1, normalize=False), array([['Thursday'],\n       ['Wednesday'],\n     ...    ['Sunday'],\n       ['Monday']], dtype=object), array([157.31, 157.31, 157.31, ...,  31.99,  31.99,  19.9 ]), make_scorer(mean_squared_error, greater_is_better=False), array([ 7908,  7909,  7910, ..., 79077, 79078, 79079]), array([   0,    1,    2, ..., 7905, 7906, 7907]), 0, None, {})\n        kwargs = {}\n    132 \n    133     def __len__(self):\n    134         return self._size\n    135 \n\n...........................................................................\nC:\\Users\\Girijesh\\Anaconda3\\lib\\site-packages\\sklearn\\model_selection\\_validation.py in _fit_and_score(estimator=LinearRegression(copy_X=True, fit_intercept=True, n_jobs=1, normalize=False), X=array([['Thursday'],\n       ['Wednesday'],\n     ...    ['Sunday'],\n       ['Monday']], dtype=object), y=array([157.31, 157.31, 157.31, ...,  31.99,  31.99,  19.9 ]), scorer=make_scorer(mean_squared_error, greater_is_better=False), train=array([ 7908,  7909,  7910, ..., 79077, 79078, 79079]), test=array([   0,    1,    2, ..., 7905, 7906, 7907]), verbose=0, parameters=None, fit_params={}, return_train_score=False, return_parameters=False, return_n_test_samples=False, return_times=False, error_score='raise')\n    233 \n    234     try:\n    235         if y_train is None:\n    236             estimator.fit(X_train, **fit_params)\n    237         else:\n--> 238             estimator.fit(X_train, y_train, **fit_params)\n        estimator.fit = <bound method LinearRegression.fit of LinearRegr..., fit_intercept=True, n_jobs=1, normalize=False)>\n        X_train = array([['Sunday'],\n       ['Sunday'],\n       ['S...    ['Sunday'],\n       ['Monday']], dtype=object)\n        y_train = array([28.99, 22.99, 23.99, ..., 31.99, 31.99, 19.9 ])\n        fit_params = {}\n    239 \n    240     except Exception as e:\n    241         # Note fit time as time until error\n    242         fit_time = time.time() - start_time\n\n...........................................................................\nC:\\Users\\Girijesh\\Anaconda3\\lib\\site-packages\\sklearn\\linear_model\\base.py in fit(self=LinearRegression(copy_X=True, fit_intercept=True, n_jobs=1, normalize=False), X=array([['Sunday'],\n       ['Sunday'],\n       ['S...    ['Sunday'],\n       ['Monday']], dtype=object), y=array([28.99, 22.99, 23.99, ..., 31.99, 31.99, 19.9 ]), sample_weight=None)\n    507         self : returns an instance of self.\n    508         \"\"\"\n    509 \n    510         n_jobs_ = self.n_jobs\n    511         X, y = check_X_y(X, y, accept_sparse=['csr', 'csc', 'coo'],\n--> 512                          y_numeric=True, multi_output=True)\n    513 \n    514         if sample_weight is not None and np.atleast_1d(sample_weight).ndim > 1:\n    515             raise ValueError(\"Sample weights must be 1D array or scalar\")\n    516 \n\n...........................................................................\nC:\\Users\\Girijesh\\Anaconda3\\lib\\site-packages\\sklearn\\utils\\validation.py in check_X_y(X=array([['Sunday'],\n       ['Sunday'],\n       ['S...    ['Sunday'],\n       ['Monday']], dtype=object), y=array([28.99, 22.99, 23.99, ..., 31.99, 31.99, 19.9 ]), accept_sparse=['csr', 'csc', 'coo'], dtype='numeric', order=None, copy=False, force_all_finite=True, ensure_2d=True, allow_nd=False, multi_output=True, ensure_min_samples=1, ensure_min_features=1, y_numeric=True, warn_on_dtype=False, estimator=None)\n    516     y_converted : object\n    517         The converted and validated y.\n    518     \"\"\"\n    519     X = check_array(X, accept_sparse, dtype, order, copy, force_all_finite,\n    520                     ensure_2d, allow_nd, ensure_min_samples,\n--> 521                     ensure_min_features, warn_on_dtype, estimator)\n        ensure_min_features = 1\n        warn_on_dtype = False\n        estimator = None\n    522     if multi_output:\n    523         y = check_array(y, 'csr', force_all_finite=True, ensure_2d=False,\n    524                         dtype=None)\n    525     else:\n\n...........................................................................\nC:\\Users\\Girijesh\\Anaconda3\\lib\\site-packages\\sklearn\\utils\\validation.py in check_array(array=array([['Sunday'],\n       ['Sunday'],\n       ['S...    ['Sunday'],\n       ['Monday']], dtype=object), accept_sparse=['csr', 'csc', 'coo'], dtype=<class 'numpy.float64'>, order=None, copy=False, force_all_finite=True, ensure_2d=True, allow_nd=False, ensure_min_samples=1, ensure_min_features=1, warn_on_dtype=False, estimator=None)\n    377 \n    378     if sp.issparse(array):\n    379         array = _ensure_sparse_format(array, accept_sparse, dtype, copy,\n    380                                       force_all_finite)\n    381     else:\n--> 382         array = np.array(array, dtype=dtype, order=order, copy=copy)\n        array = array([['Sunday'],\n       ['Sunday'],\n       ['S...    ['Sunday'],\n       ['Monday']], dtype=object)\n        dtype = <class 'numpy.float64'>\n        order = None\n        copy = False\n    383 \n    384         if ensure_2d:\n    385             if array.ndim == 1:\n    386                 if ensure_min_samples >= 2:\n\nValueError: could not convert string to float: 'Sunday'\n___________________________________________________________________________",
      "\nDuring handling of the above exception, another exception occurred:\n",
      "\u001b[1;31mJoblibValueError\u001b[0m                          Traceback (most recent call last)",
      "\u001b[1;32m<ipython-input-51-fbb09c21409d>\u001b[0m in \u001b[0;36m<module>\u001b[1;34m()\u001b[0m\n\u001b[0;32m      9\u001b[0m         \u001b[0mscoring\u001b[0m\u001b[1;33m=\u001b[0m\u001b[1;34m'neg_mean_squared_error'\u001b[0m\u001b[1;33m,\u001b[0m\u001b[1;33m\u001b[0m\u001b[0m\n\u001b[0;32m     10\u001b[0m         cv=10)\n\u001b[1;32m---> 11\u001b[1;33m \u001b[0msfs\u001b[0m\u001b[1;33m=\u001b[0m\u001b[0msfs\u001b[0m\u001b[1;33m.\u001b[0m\u001b[0mfit\u001b[0m\u001b[1;33m(\u001b[0m\u001b[0mfeatures\u001b[0m\u001b[1;33m,\u001b[0m\u001b[0mtarget\u001b[0m\u001b[1;33m)\u001b[0m\u001b[1;33m\u001b[0m\u001b[0m\n\u001b[0m",
      "\u001b[1;32mC:\\Users\\Girijesh\\Anaconda3\\lib\\site-packages\\mlxtend\\feature_selection\\sequential_feature_selector.py\u001b[0m in \u001b[0;36mfit\u001b[1;34m(self, X, y, custom_feature_names, **fit_params)\u001b[0m\n\u001b[0;32m    347\u001b[0m                         \u001b[0mX\u001b[0m\u001b[1;33m=\u001b[0m\u001b[0mX_\u001b[0m\u001b[1;33m,\u001b[0m\u001b[1;33m\u001b[0m\u001b[0m\n\u001b[0;32m    348\u001b[0m                         \u001b[0my\u001b[0m\u001b[1;33m=\u001b[0m\u001b[0my\u001b[0m\u001b[1;33m,\u001b[0m\u001b[1;33m\u001b[0m\u001b[0m\n\u001b[1;32m--> 349\u001b[1;33m                         \u001b[1;33m**\u001b[0m\u001b[0mfit_params\u001b[0m\u001b[1;33m\u001b[0m\u001b[0m\n\u001b[0m\u001b[0;32m    350\u001b[0m                     )\n\u001b[0;32m    351\u001b[0m                 \u001b[1;32melse\u001b[0m\u001b[1;33m:\u001b[0m\u001b[1;33m\u001b[0m\u001b[0m\n",
      "\u001b[1;32mC:\\Users\\Girijesh\\Anaconda3\\lib\\site-packages\\mlxtend\\feature_selection\\sequential_feature_selector.py\u001b[0m in \u001b[0;36m_inclusion\u001b[1;34m(self, orig_set, subset, X, y, ignore_feature, **fit_params)\u001b[0m\n\u001b[0;32m    504\u001b[0m                              \u001b[0mtuple\u001b[0m\u001b[1;33m(\u001b[0m\u001b[0msubset\u001b[0m \u001b[1;33m|\u001b[0m \u001b[1;33m{\u001b[0m\u001b[0mfeature\u001b[0m\u001b[1;33m}\u001b[0m\u001b[1;33m)\u001b[0m\u001b[1;33m,\u001b[0m\u001b[1;33m\u001b[0m\u001b[0m\n\u001b[0;32m    505\u001b[0m                              **fit_params)\n\u001b[1;32m--> 506\u001b[1;33m                             \u001b[1;32mfor\u001b[0m \u001b[0mfeature\u001b[0m \u001b[1;32min\u001b[0m \u001b[0mremaining\u001b[0m\u001b[1;33m\u001b[0m\u001b[0m\n\u001b[0m\u001b[0;32m    507\u001b[0m                             if feature != ignore_feature)\n\u001b[0;32m    508\u001b[0m \u001b[1;33m\u001b[0m\u001b[0m\n",
      "\u001b[1;32mC:\\Users\\Girijesh\\Anaconda3\\lib\\site-packages\\sklearn\\externals\\joblib\\parallel.py\u001b[0m in \u001b[0;36m__call__\u001b[1;34m(self, iterable)\u001b[0m\n\u001b[0;32m    766\u001b[0m                 \u001b[1;31m# consumption.\u001b[0m\u001b[1;33m\u001b[0m\u001b[1;33m\u001b[0m\u001b[0m\n\u001b[0;32m    767\u001b[0m                 \u001b[0mself\u001b[0m\u001b[1;33m.\u001b[0m\u001b[0m_iterating\u001b[0m \u001b[1;33m=\u001b[0m \u001b[1;32mFalse\u001b[0m\u001b[1;33m\u001b[0m\u001b[0m\n\u001b[1;32m--> 768\u001b[1;33m             \u001b[0mself\u001b[0m\u001b[1;33m.\u001b[0m\u001b[0mretrieve\u001b[0m\u001b[1;33m(\u001b[0m\u001b[1;33m)\u001b[0m\u001b[1;33m\u001b[0m\u001b[0m\n\u001b[0m\u001b[0;32m    769\u001b[0m             \u001b[1;31m# Make sure that we get a last message telling us we are done\u001b[0m\u001b[1;33m\u001b[0m\u001b[1;33m\u001b[0m\u001b[0m\n\u001b[0;32m    770\u001b[0m             \u001b[0melapsed_time\u001b[0m \u001b[1;33m=\u001b[0m \u001b[0mtime\u001b[0m\u001b[1;33m.\u001b[0m\u001b[0mtime\u001b[0m\u001b[1;33m(\u001b[0m\u001b[1;33m)\u001b[0m \u001b[1;33m-\u001b[0m \u001b[0mself\u001b[0m\u001b[1;33m.\u001b[0m\u001b[0m_start_time\u001b[0m\u001b[1;33m\u001b[0m\u001b[0m\n",
      "\u001b[1;32mC:\\Users\\Girijesh\\Anaconda3\\lib\\site-packages\\sklearn\\externals\\joblib\\parallel.py\u001b[0m in \u001b[0;36mretrieve\u001b[1;34m(self)\u001b[0m\n\u001b[0;32m    717\u001b[0m                     \u001b[0mensure_ready\u001b[0m \u001b[1;33m=\u001b[0m \u001b[0mself\u001b[0m\u001b[1;33m.\u001b[0m\u001b[0m_managed_backend\u001b[0m\u001b[1;33m\u001b[0m\u001b[0m\n\u001b[0;32m    718\u001b[0m                     \u001b[0mbackend\u001b[0m\u001b[1;33m.\u001b[0m\u001b[0mabort_everything\u001b[0m\u001b[1;33m(\u001b[0m\u001b[0mensure_ready\u001b[0m\u001b[1;33m=\u001b[0m\u001b[0mensure_ready\u001b[0m\u001b[1;33m)\u001b[0m\u001b[1;33m\u001b[0m\u001b[0m\n\u001b[1;32m--> 719\u001b[1;33m                 \u001b[1;32mraise\u001b[0m \u001b[0mexception\u001b[0m\u001b[1;33m\u001b[0m\u001b[0m\n\u001b[0m\u001b[0;32m    720\u001b[0m \u001b[1;33m\u001b[0m\u001b[0m\n\u001b[0;32m    721\u001b[0m     \u001b[1;32mdef\u001b[0m \u001b[0m__call__\u001b[0m\u001b[1;33m(\u001b[0m\u001b[0mself\u001b[0m\u001b[1;33m,\u001b[0m \u001b[0miterable\u001b[0m\u001b[1;33m)\u001b[0m\u001b[1;33m:\u001b[0m\u001b[1;33m\u001b[0m\u001b[0m\n",
      "\u001b[1;31mJoblibValueError\u001b[0m: JoblibValueError\n___________________________________________________________________________\nMultiprocessing exception:\n...........................................................................\nC:\\Users\\Girijesh\\Anaconda3\\lib\\runpy.py in _run_module_as_main(mod_name='ipykernel_launcher', alter_argv=1)\n    188         sys.exit(msg)\n    189     main_globals = sys.modules[\"__main__\"].__dict__\n    190     if alter_argv:\n    191         sys.argv[0] = mod_spec.origin\n    192     return _run_code(code, main_globals, None,\n--> 193                      \"__main__\", mod_spec)\n        mod_spec = ModuleSpec(name='ipykernel_launcher', loader=<_f...nda3\\\\lib\\\\site-packages\\\\ipykernel_launcher.py')\n    194 \n    195 def run_module(mod_name, init_globals=None,\n    196                run_name=None, alter_sys=False):\n    197     \"\"\"Execute a module's code without importing it\n\n...........................................................................\nC:\\Users\\Girijesh\\Anaconda3\\lib\\runpy.py in _run_code(code=<code object <module> at 0x000000AC069F6E40, fil...lib\\site-packages\\ipykernel_launcher.py\", line 5>, run_globals={'__annotations__': {}, '__builtins__': <module 'builtins' (built-in)>, '__cached__': r'C:\\Users\\Girijesh\\Anaconda3\\lib\\site-packages\\__pycache__\\ipykernel_launcher.cpython-36.pyc', '__doc__': 'Entry point for launching an IPython kernel.\\n\\nTh...orts until\\nafter removing the cwd from sys.path.\\n', '__file__': r'C:\\Users\\Girijesh\\Anaconda3\\lib\\site-packages\\ipykernel_launcher.py', '__loader__': <_frozen_importlib_external.SourceFileLoader object>, '__name__': '__main__', '__package__': '', '__spec__': ModuleSpec(name='ipykernel_launcher', loader=<_f...nda3\\\\lib\\\\site-packages\\\\ipykernel_launcher.py'), 'app': <module 'ipykernel.kernelapp' from 'C:\\\\Users\\\\G...a3\\\\lib\\\\site-packages\\\\ipykernel\\\\kernelapp.py'>, ...}, init_globals=None, mod_name='__main__', mod_spec=ModuleSpec(name='ipykernel_launcher', loader=<_f...nda3\\\\lib\\\\site-packages\\\\ipykernel_launcher.py'), pkg_name='', script_name=None)\n     80                        __cached__ = cached,\n     81                        __doc__ = None,\n     82                        __loader__ = loader,\n     83                        __package__ = pkg_name,\n     84                        __spec__ = mod_spec)\n---> 85     exec(code, run_globals)\n        code = <code object <module> at 0x000000AC069F6E40, fil...lib\\site-packages\\ipykernel_launcher.py\", line 5>\n        run_globals = {'__annotations__': {}, '__builtins__': <module 'builtins' (built-in)>, '__cached__': r'C:\\Users\\Girijesh\\Anaconda3\\lib\\site-packages\\__pycache__\\ipykernel_launcher.cpython-36.pyc', '__doc__': 'Entry point for launching an IPython kernel.\\n\\nTh...orts until\\nafter removing the cwd from sys.path.\\n', '__file__': r'C:\\Users\\Girijesh\\Anaconda3\\lib\\site-packages\\ipykernel_launcher.py', '__loader__': <_frozen_importlib_external.SourceFileLoader object>, '__name__': '__main__', '__package__': '', '__spec__': ModuleSpec(name='ipykernel_launcher', loader=<_f...nda3\\\\lib\\\\site-packages\\\\ipykernel_launcher.py'), 'app': <module 'ipykernel.kernelapp' from 'C:\\\\Users\\\\G...a3\\\\lib\\\\site-packages\\\\ipykernel\\\\kernelapp.py'>, ...}\n     86     return run_globals\n     87 \n     88 def _run_module_code(code, init_globals=None,\n     89                     mod_name=None, mod_spec=None,\n\n...........................................................................\nC:\\Users\\Girijesh\\Anaconda3\\lib\\site-packages\\ipykernel_launcher.py in <module>()\n     11     # This is added back by InteractiveShellApp.init_path()\n     12     if sys.path[0] == '':\n     13         del sys.path[0]\n     14 \n     15     from ipykernel import kernelapp as app\n---> 16     app.launch_new_instance()\n     17 \n     18 \n     19 \n     20 \n\n...........................................................................\nC:\\Users\\Girijesh\\Anaconda3\\lib\\site-packages\\traitlets\\config\\application.py in launch_instance(cls=<class 'ipykernel.kernelapp.IPKernelApp'>, argv=None, **kwargs={})\n    653 \n    654         If a global instance already exists, this reinitializes and starts it\n    655         \"\"\"\n    656         app = cls.instance(**kwargs)\n    657         app.initialize(argv)\n--> 658         app.start()\n        app.start = <bound method IPKernelApp.start of <ipykernel.kernelapp.IPKernelApp object>>\n    659 \n    660 #-----------------------------------------------------------------------------\n    661 # utility functions, for convenience\n    662 #-----------------------------------------------------------------------------\n\n...........................................................................\nC:\\Users\\Girijesh\\Anaconda3\\lib\\site-packages\\ipykernel\\kernelapp.py in start(self=<ipykernel.kernelapp.IPKernelApp object>)\n    472             return self.subapp.start()\n    473         if self.poller is not None:\n    474             self.poller.start()\n    475         self.kernel.start()\n    476         try:\n--> 477             ioloop.IOLoop.instance().start()\n    478         except KeyboardInterrupt:\n    479             pass\n    480 \n    481 launch_new_instance = IPKernelApp.launch_instance\n\n...........................................................................\nC:\\Users\\Girijesh\\Anaconda3\\lib\\site-packages\\zmq\\eventloop\\ioloop.py in start(self=<zmq.eventloop.ioloop.ZMQIOLoop object>)\n    172             )\n    173         return loop\n    174     \n    175     def start(self):\n    176         try:\n--> 177             super(ZMQIOLoop, self).start()\n        self.start = <bound method ZMQIOLoop.start of <zmq.eventloop.ioloop.ZMQIOLoop object>>\n    178         except ZMQError as e:\n    179             if e.errno == ETERM:\n    180                 # quietly return on ETERM\n    181                 pass\n\n...........................................................................\nC:\\Users\\Girijesh\\Anaconda3\\lib\\site-packages\\tornado\\ioloop.py in start(self=<zmq.eventloop.ioloop.ZMQIOLoop object>)\n    883                 self._events.update(event_pairs)\n    884                 while self._events:\n    885                     fd, events = self._events.popitem()\n    886                     try:\n    887                         fd_obj, handler_func = self._handlers[fd]\n--> 888                         handler_func(fd_obj, events)\n        handler_func = <function wrap.<locals>.null_wrapper>\n        fd_obj = <zmq.sugar.socket.Socket object>\n        events = 1\n    889                     except (OSError, IOError) as e:\n    890                         if errno_from_exception(e) == errno.EPIPE:\n    891                             # Happens when the client closes the connection\n    892                             pass\n\n...........................................................................\nC:\\Users\\Girijesh\\Anaconda3\\lib\\site-packages\\tornado\\stack_context.py in null_wrapper(*args=(<zmq.sugar.socket.Socket object>, 1), **kwargs={})\n    272         # Fast path when there are no active contexts.\n    273         def null_wrapper(*args, **kwargs):\n    274             try:\n    275                 current_state = _state.contexts\n    276                 _state.contexts = cap_contexts[0]\n--> 277                 return fn(*args, **kwargs)\n        args = (<zmq.sugar.socket.Socket object>, 1)\n        kwargs = {}\n    278             finally:\n    279                 _state.contexts = current_state\n    280         null_wrapper._wrapped = True\n    281         return null_wrapper\n\n...........................................................................\nC:\\Users\\Girijesh\\Anaconda3\\lib\\site-packages\\zmq\\eventloop\\zmqstream.py in _handle_events(self=<zmq.eventloop.zmqstream.ZMQStream object>, fd=<zmq.sugar.socket.Socket object>, events=1)\n    435             # dispatch events:\n    436             if events & IOLoop.ERROR:\n    437                 gen_log.error(\"got POLLERR event on ZMQStream, which doesn't make sense\")\n    438                 return\n    439             if events & IOLoop.READ:\n--> 440                 self._handle_recv()\n        self._handle_recv = <bound method ZMQStream._handle_recv of <zmq.eventloop.zmqstream.ZMQStream object>>\n    441                 if not self.socket:\n    442                     return\n    443             if events & IOLoop.WRITE:\n    444                 self._handle_send()\n\n...........................................................................\nC:\\Users\\Girijesh\\Anaconda3\\lib\\site-packages\\zmq\\eventloop\\zmqstream.py in _handle_recv(self=<zmq.eventloop.zmqstream.ZMQStream object>)\n    467                 gen_log.error(\"RECV Error: %s\"%zmq.strerror(e.errno))\n    468         else:\n    469             if self._recv_callback:\n    470                 callback = self._recv_callback\n    471                 # self._recv_callback = None\n--> 472                 self._run_callback(callback, msg)\n        self._run_callback = <bound method ZMQStream._run_callback of <zmq.eventloop.zmqstream.ZMQStream object>>\n        callback = <function wrap.<locals>.null_wrapper>\n        msg = [<zmq.sugar.frame.Frame object>, <zmq.sugar.frame.Frame object>, <zmq.sugar.frame.Frame object>, <zmq.sugar.frame.Frame object>, <zmq.sugar.frame.Frame object>, <zmq.sugar.frame.Frame object>, <zmq.sugar.frame.Frame object>]\n    473                 \n    474         # self.update_state()\n    475         \n    476 \n\n...........................................................................\nC:\\Users\\Girijesh\\Anaconda3\\lib\\site-packages\\zmq\\eventloop\\zmqstream.py in _run_callback(self=<zmq.eventloop.zmqstream.ZMQStream object>, callback=<function wrap.<locals>.null_wrapper>, *args=([<zmq.sugar.frame.Frame object>, <zmq.sugar.frame.Frame object>, <zmq.sugar.frame.Frame object>, <zmq.sugar.frame.Frame object>, <zmq.sugar.frame.Frame object>, <zmq.sugar.frame.Frame object>, <zmq.sugar.frame.Frame object>],), **kwargs={})\n    409         close our socket.\"\"\"\n    410         try:\n    411             # Use a NullContext to ensure that all StackContexts are run\n    412             # inside our blanket exception handler rather than outside.\n    413             with stack_context.NullContext():\n--> 414                 callback(*args, **kwargs)\n        callback = <function wrap.<locals>.null_wrapper>\n        args = ([<zmq.sugar.frame.Frame object>, <zmq.sugar.frame.Frame object>, <zmq.sugar.frame.Frame object>, <zmq.sugar.frame.Frame object>, <zmq.sugar.frame.Frame object>, <zmq.sugar.frame.Frame object>, <zmq.sugar.frame.Frame object>],)\n        kwargs = {}\n    415         except:\n    416             gen_log.error(\"Uncaught exception, closing connection.\",\n    417                           exc_info=True)\n    418             # Close the socket on an uncaught exception from a user callback\n\n...........................................................................\nC:\\Users\\Girijesh\\Anaconda3\\lib\\site-packages\\tornado\\stack_context.py in null_wrapper(*args=([<zmq.sugar.frame.Frame object>, <zmq.sugar.frame.Frame object>, <zmq.sugar.frame.Frame object>, <zmq.sugar.frame.Frame object>, <zmq.sugar.frame.Frame object>, <zmq.sugar.frame.Frame object>, <zmq.sugar.frame.Frame object>],), **kwargs={})\n    272         # Fast path when there are no active contexts.\n    273         def null_wrapper(*args, **kwargs):\n    274             try:\n    275                 current_state = _state.contexts\n    276                 _state.contexts = cap_contexts[0]\n--> 277                 return fn(*args, **kwargs)\n        args = ([<zmq.sugar.frame.Frame object>, <zmq.sugar.frame.Frame object>, <zmq.sugar.frame.Frame object>, <zmq.sugar.frame.Frame object>, <zmq.sugar.frame.Frame object>, <zmq.sugar.frame.Frame object>, <zmq.sugar.frame.Frame object>],)\n        kwargs = {}\n    278             finally:\n    279                 _state.contexts = current_state\n    280         null_wrapper._wrapped = True\n    281         return null_wrapper\n\n...........................................................................\nC:\\Users\\Girijesh\\Anaconda3\\lib\\site-packages\\ipykernel\\kernelbase.py in dispatcher(msg=[<zmq.sugar.frame.Frame object>, <zmq.sugar.frame.Frame object>, <zmq.sugar.frame.Frame object>, <zmq.sugar.frame.Frame object>, <zmq.sugar.frame.Frame object>, <zmq.sugar.frame.Frame object>, <zmq.sugar.frame.Frame object>])\n    278         if self.control_stream:\n    279             self.control_stream.on_recv(self.dispatch_control, copy=False)\n    280 \n    281         def make_dispatcher(stream):\n    282             def dispatcher(msg):\n--> 283                 return self.dispatch_shell(stream, msg)\n        msg = [<zmq.sugar.frame.Frame object>, <zmq.sugar.frame.Frame object>, <zmq.sugar.frame.Frame object>, <zmq.sugar.frame.Frame object>, <zmq.sugar.frame.Frame object>, <zmq.sugar.frame.Frame object>, <zmq.sugar.frame.Frame object>]\n    284             return dispatcher\n    285 \n    286         for s in self.shell_streams:\n    287             s.on_recv(make_dispatcher(s), copy=False)\n\n...........................................................................\nC:\\Users\\Girijesh\\Anaconda3\\lib\\site-packages\\ipykernel\\kernelbase.py in dispatch_shell(self=<ipykernel.ipkernel.IPythonKernel object>, stream=<zmq.eventloop.zmqstream.ZMQStream object>, msg={'buffers': [], 'content': {'allow_stdin': True, 'code': \"#Forward Feature Selection\\nlr = LinearRegression...ror',\\n        cv=10)\\nsfs=sfs.fit(features,target)\", 'silent': False, 'stop_on_error': True, 'store_history': True, 'user_expressions': {}}, 'header': {'date': datetime.datetime(2018, 12, 14, 7, 28, 19, 282426, tzinfo=datetime.timezone.utc), 'msg_id': '0A20340AF5674BB09DC7F5EF2C18B260', 'msg_type': 'execute_request', 'session': 'F0A8FCB1EE9A464A88367977B7FDF1F2', 'username': 'username', 'version': '5.0'}, 'metadata': {}, 'msg_id': '0A20340AF5674BB09DC7F5EF2C18B260', 'msg_type': 'execute_request', 'parent_header': {}})\n    230             self.log.warn(\"Unknown message type: %r\", msg_type)\n    231         else:\n    232             self.log.debug(\"%s: %s\", msg_type, msg)\n    233             self.pre_handler_hook()\n    234             try:\n--> 235                 handler(stream, idents, msg)\n        handler = <bound method Kernel.execute_request of <ipykernel.ipkernel.IPythonKernel object>>\n        stream = <zmq.eventloop.zmqstream.ZMQStream object>\n        idents = [b'F0A8FCB1EE9A464A88367977B7FDF1F2']\n        msg = {'buffers': [], 'content': {'allow_stdin': True, 'code': \"#Forward Feature Selection\\nlr = LinearRegression...ror',\\n        cv=10)\\nsfs=sfs.fit(features,target)\", 'silent': False, 'stop_on_error': True, 'store_history': True, 'user_expressions': {}}, 'header': {'date': datetime.datetime(2018, 12, 14, 7, 28, 19, 282426, tzinfo=datetime.timezone.utc), 'msg_id': '0A20340AF5674BB09DC7F5EF2C18B260', 'msg_type': 'execute_request', 'session': 'F0A8FCB1EE9A464A88367977B7FDF1F2', 'username': 'username', 'version': '5.0'}, 'metadata': {}, 'msg_id': '0A20340AF5674BB09DC7F5EF2C18B260', 'msg_type': 'execute_request', 'parent_header': {}}\n    236             except Exception:\n    237                 self.log.error(\"Exception in message handler:\", exc_info=True)\n    238             finally:\n    239                 self.post_handler_hook()\n\n...........................................................................\nC:\\Users\\Girijesh\\Anaconda3\\lib\\site-packages\\ipykernel\\kernelbase.py in execute_request(self=<ipykernel.ipkernel.IPythonKernel object>, stream=<zmq.eventloop.zmqstream.ZMQStream object>, ident=[b'F0A8FCB1EE9A464A88367977B7FDF1F2'], parent={'buffers': [], 'content': {'allow_stdin': True, 'code': \"#Forward Feature Selection\\nlr = LinearRegression...ror',\\n        cv=10)\\nsfs=sfs.fit(features,target)\", 'silent': False, 'stop_on_error': True, 'store_history': True, 'user_expressions': {}}, 'header': {'date': datetime.datetime(2018, 12, 14, 7, 28, 19, 282426, tzinfo=datetime.timezone.utc), 'msg_id': '0A20340AF5674BB09DC7F5EF2C18B260', 'msg_type': 'execute_request', 'session': 'F0A8FCB1EE9A464A88367977B7FDF1F2', 'username': 'username', 'version': '5.0'}, 'metadata': {}, 'msg_id': '0A20340AF5674BB09DC7F5EF2C18B260', 'msg_type': 'execute_request', 'parent_header': {}})\n    394         if not silent:\n    395             self.execution_count += 1\n    396             self._publish_execute_input(code, parent, self.execution_count)\n    397 \n    398         reply_content = self.do_execute(code, silent, store_history,\n--> 399                                         user_expressions, allow_stdin)\n        user_expressions = {}\n        allow_stdin = True\n    400 \n    401         # Flush output before sending the reply.\n    402         sys.stdout.flush()\n    403         sys.stderr.flush()\n\n...........................................................................\nC:\\Users\\Girijesh\\Anaconda3\\lib\\site-packages\\ipykernel\\ipkernel.py in do_execute(self=<ipykernel.ipkernel.IPythonKernel object>, code=\"#Forward Feature Selection\\nlr = LinearRegression...ror',\\n        cv=10)\\nsfs=sfs.fit(features,target)\", silent=False, store_history=True, user_expressions={}, allow_stdin=True)\n    191 \n    192         self._forward_input(allow_stdin)\n    193 \n    194         reply_content = {}\n    195         try:\n--> 196             res = shell.run_cell(code, store_history=store_history, silent=silent)\n        res = undefined\n        shell.run_cell = <bound method ZMQInteractiveShell.run_cell of <ipykernel.zmqshell.ZMQInteractiveShell object>>\n        code = \"#Forward Feature Selection\\nlr = LinearRegression...ror',\\n        cv=10)\\nsfs=sfs.fit(features,target)\"\n        store_history = True\n        silent = False\n    197         finally:\n    198             self._restore_input()\n    199 \n    200         if res.error_before_exec is not None:\n\n...........................................................................\nC:\\Users\\Girijesh\\Anaconda3\\lib\\site-packages\\ipykernel\\zmqshell.py in run_cell(self=<ipykernel.zmqshell.ZMQInteractiveShell object>, *args=(\"#Forward Feature Selection\\nlr = LinearRegression...ror',\\n        cv=10)\\nsfs=sfs.fit(features,target)\",), **kwargs={'silent': False, 'store_history': True})\n    528             )\n    529         self.payload_manager.write_payload(payload)\n    530 \n    531     def run_cell(self, *args, **kwargs):\n    532         self._last_traceback = None\n--> 533         return super(ZMQInteractiveShell, self).run_cell(*args, **kwargs)\n        self.run_cell = <bound method ZMQInteractiveShell.run_cell of <ipykernel.zmqshell.ZMQInteractiveShell object>>\n        args = (\"#Forward Feature Selection\\nlr = LinearRegression...ror',\\n        cv=10)\\nsfs=sfs.fit(features,target)\",)\n        kwargs = {'silent': False, 'store_history': True}\n    534 \n    535     def _showtraceback(self, etype, evalue, stb):\n    536         # try to preserve ordering of tracebacks and print statements\n    537         sys.stdout.flush()\n\n...........................................................................\nC:\\Users\\Girijesh\\Anaconda3\\lib\\site-packages\\IPython\\core\\interactiveshell.py in run_cell(self=<ipykernel.zmqshell.ZMQInteractiveShell object>, raw_cell=\"#Forward Feature Selection\\nlr = LinearRegression...ror',\\n        cv=10)\\nsfs=sfs.fit(features,target)\", store_history=True, silent=False, shell_futures=True)\n   2712                 self.displayhook.exec_result = result\n   2713 \n   2714                 # Execute the user code\n   2715                 interactivity = \"none\" if silent else self.ast_node_interactivity\n   2716                 has_raised = self.run_ast_nodes(code_ast.body, cell_name,\n-> 2717                    interactivity=interactivity, compiler=compiler, result=result)\n        interactivity = 'last_expr'\n        compiler = <IPython.core.compilerop.CachingCompiler object>\n   2718                 \n   2719                 self.last_execution_succeeded = not has_raised\n   2720 \n   2721                 # Reset this so later displayed values do not modify the\n\n...........................................................................\nC:\\Users\\Girijesh\\Anaconda3\\lib\\site-packages\\IPython\\core\\interactiveshell.py in run_ast_nodes(self=<ipykernel.zmqshell.ZMQInteractiveShell object>, nodelist=[<_ast.Assign object>, <_ast.Assign object>, <_ast.Assign object>], cell_name='<ipython-input-51-fbb09c21409d>', interactivity='none', compiler=<IPython.core.compilerop.CachingCompiler object>, result=<ExecutionResult object at ac997b5358, execution..._before_exec=None error_in_exec=None result=None>)\n   2816 \n   2817         try:\n   2818             for i, node in enumerate(to_run_exec):\n   2819                 mod = ast.Module([node])\n   2820                 code = compiler(mod, cell_name, \"exec\")\n-> 2821                 if self.run_code(code, result):\n        self.run_code = <bound method InteractiveShell.run_code of <ipykernel.zmqshell.ZMQInteractiveShell object>>\n        code = <code object <module> at 0x000000AC997BDC00, file \"<ipython-input-51-fbb09c21409d>\", line 11>\n        result = <ExecutionResult object at ac997b5358, execution..._before_exec=None error_in_exec=None result=None>\n   2822                     return True\n   2823 \n   2824             for i, node in enumerate(to_run_interactive):\n   2825                 mod = ast.Interactive([node])\n\n...........................................................................\nC:\\Users\\Girijesh\\Anaconda3\\lib\\site-packages\\IPython\\core\\interactiveshell.py in run_code(self=<ipykernel.zmqshell.ZMQInteractiveShell object>, code_obj=<code object <module> at 0x000000AC997BDC00, file \"<ipython-input-51-fbb09c21409d>\", line 11>, result=<ExecutionResult object at ac997b5358, execution..._before_exec=None error_in_exec=None result=None>)\n   2876         outflag = 1  # happens in more places, so it's easier as default\n   2877         try:\n   2878             try:\n   2879                 self.hooks.pre_run_code_hook()\n   2880                 #rprint('Running code', repr(code_obj)) # dbg\n-> 2881                 exec(code_obj, self.user_global_ns, self.user_ns)\n        code_obj = <code object <module> at 0x000000AC997BDC00, file \"<ipython-input-51-fbb09c21409d>\", line 11>\n        self.user_global_ns = {'BytesIO': <class '_io.BytesIO'>, 'EFS': <class 'mlxtend.feature_selection.exhaustive_feature_selector.ExhaustiveFeatureSelector'>, 'In': ['', \"import pandas as pd\\nimport numpy as np\\nimport mi...import warnings\\nwarnings.filterwarnings('ignore')\", \"import pandas as pd\\nimport numpy as np\\n\\n\\nimport warnings\\nwarnings.filterwarnings('ignore')\", \"filepath = 'E:\\\\datathon'\\nlist_files = glob.glob(...ms_with_purchase.csv')\\n# df_click_purchase.head()\", \"import pandas as pd\\nimport numpy as np\\nimport gl...import warnings\\nwarnings.filterwarnings('ignore')\", \"filepath = 'E:\\\\datathon'\\nlist_files = glob.glob(...ms_with_purchase.csv')\\n# df_click_purchase.head()\", 'lis_df[0].head(2)', 'lis_df[1].head(2)', 'lis_df[2].head(2)', 'lis_df[3].head(2)', 'lis_df[2].head(2)', 'lis_df[3].head(2)', 'df_orders = lis_df[3]\\nprint(df_orders.shape)\\ndf_orders.head()', \"df_orders1 = df_orders.rename(columns={'wayfair_product_id':'product_id'})\\ndf_orders1.head()\", 'df_click_purchase = lis_df[3]', 'df_click_purchase = lis_df[1]', 'lis_df[3].head(3)', 'lis_df[4].head(3)', 'df_products = lis_df[4]\\nprint(df_products.shape)\\ndf_products.head()', 'lis_df[3].head(3)', ...], 'LinearRegression': <class 'sklearn.linear_model.base.LinearRegression'>, 'Out': {6:            customer_id        date      time    ...-07-16  16:49:18   DAILYSALESMAINPAGE           0, 7:            customer_id        date      time    ...    0      0.0  \n1  205401096165894320      0.0  , 8:   comp_website_name      comp_product_id  \\\n0   ...vides more coverage and a soft, ...       21.00  , 9:    order_product_id      order_id  wayfair_produ...23  7.606760e+18        10928                 1  , 10:   comp_website_name      comp_product_id  \\\n0   ...vides more coverage and a soft, ...       21.00  , 11:    order_product_id      order_id  wayfair_produ...23  7.606760e+18        10928                 1  , 12:    order_product_id      order_id  wayfair_produ...20  1.390570e+18         2468                 1  , 13:    order_product_id      order_id    product_id ...20  1.390570e+18         2468                 1  , 16:    order_product_id      order_id  wayfair_produ...23  7.606760e+18        10928                 1  , 17:   website_name    product_id                    ...          0  \n1             1  \n2             0  , ...}, 'RandomForestRegressor': <class 'sklearn.ensemble.forest.RandomForestRegressor'>, 'SCORERS': {'accuracy': make_scorer(accuracy_score), 'adjusted_rand_score': make_scorer(adjusted_rand_score), 'average_precision': make_scorer(average_precision_score, needs_threshold=True), 'balanced_accuracy': make_scorer(balanced_accuracy), 'f1': make_scorer(f1_score), 'f1_macro': make_scorer(f1_score, pos_label=None, average=macro), 'f1_micro': make_scorer(f1_score, pos_label=None, average=micro), 'f1_samples': make_scorer(f1_score, pos_label=None, average=samples), 'f1_weighted': make_scorer(f1_score, pos_label=None, average=weighted), 'log_loss': make_scorer(log_loss, greater_is_better=False, needs_proba=True), ...}, 'SFS': <class 'mlxtend.feature_selection.sequential_feature_selector.SequentialFeatureSelector'>, 'TPOTRegressor': <class 'tpot.tpot.TPOTRegressor'>, 'X_test': array([['Saturday', '20:45:35', 85044, ..., 'Sho...ildon Home ®', 4393.333333333333]], dtype=object), ...}\n        self.user_ns = {'BytesIO': <class '_io.BytesIO'>, 'EFS': <class 'mlxtend.feature_selection.exhaustive_feature_selector.ExhaustiveFeatureSelector'>, 'In': ['', \"import pandas as pd\\nimport numpy as np\\nimport mi...import warnings\\nwarnings.filterwarnings('ignore')\", \"import pandas as pd\\nimport numpy as np\\n\\n\\nimport warnings\\nwarnings.filterwarnings('ignore')\", \"filepath = 'E:\\\\datathon'\\nlist_files = glob.glob(...ms_with_purchase.csv')\\n# df_click_purchase.head()\", \"import pandas as pd\\nimport numpy as np\\nimport gl...import warnings\\nwarnings.filterwarnings('ignore')\", \"filepath = 'E:\\\\datathon'\\nlist_files = glob.glob(...ms_with_purchase.csv')\\n# df_click_purchase.head()\", 'lis_df[0].head(2)', 'lis_df[1].head(2)', 'lis_df[2].head(2)', 'lis_df[3].head(2)', 'lis_df[2].head(2)', 'lis_df[3].head(2)', 'df_orders = lis_df[3]\\nprint(df_orders.shape)\\ndf_orders.head()', \"df_orders1 = df_orders.rename(columns={'wayfair_product_id':'product_id'})\\ndf_orders1.head()\", 'df_click_purchase = lis_df[3]', 'df_click_purchase = lis_df[1]', 'lis_df[3].head(3)', 'lis_df[4].head(3)', 'df_products = lis_df[4]\\nprint(df_products.shape)\\ndf_products.head()', 'lis_df[3].head(3)', ...], 'LinearRegression': <class 'sklearn.linear_model.base.LinearRegression'>, 'Out': {6:            customer_id        date      time    ...-07-16  16:49:18   DAILYSALESMAINPAGE           0, 7:            customer_id        date      time    ...    0      0.0  \n1  205401096165894320      0.0  , 8:   comp_website_name      comp_product_id  \\\n0   ...vides more coverage and a soft, ...       21.00  , 9:    order_product_id      order_id  wayfair_produ...23  7.606760e+18        10928                 1  , 10:   comp_website_name      comp_product_id  \\\n0   ...vides more coverage and a soft, ...       21.00  , 11:    order_product_id      order_id  wayfair_produ...23  7.606760e+18        10928                 1  , 12:    order_product_id      order_id  wayfair_produ...20  1.390570e+18         2468                 1  , 13:    order_product_id      order_id    product_id ...20  1.390570e+18         2468                 1  , 16:    order_product_id      order_id  wayfair_produ...23  7.606760e+18        10928                 1  , 17:   website_name    product_id                    ...          0  \n1             1  \n2             0  , ...}, 'RandomForestRegressor': <class 'sklearn.ensemble.forest.RandomForestRegressor'>, 'SCORERS': {'accuracy': make_scorer(accuracy_score), 'adjusted_rand_score': make_scorer(adjusted_rand_score), 'average_precision': make_scorer(average_precision_score, needs_threshold=True), 'balanced_accuracy': make_scorer(balanced_accuracy), 'f1': make_scorer(f1_score), 'f1_macro': make_scorer(f1_score, pos_label=None, average=macro), 'f1_micro': make_scorer(f1_score, pos_label=None, average=micro), 'f1_samples': make_scorer(f1_score, pos_label=None, average=samples), 'f1_weighted': make_scorer(f1_score, pos_label=None, average=weighted), 'log_loss': make_scorer(log_loss, greater_is_better=False, needs_proba=True), ...}, 'SFS': <class 'mlxtend.feature_selection.sequential_feature_selector.SequentialFeatureSelector'>, 'TPOTRegressor': <class 'tpot.tpot.TPOTRegressor'>, 'X_test': array([['Saturday', '20:45:35', 85044, ..., 'Sho...ildon Home ®', 4393.333333333333]], dtype=object), ...}\n   2882             finally:\n   2883                 # Reset our crash handler in place\n   2884                 sys.excepthook = old_excepthook\n   2885         except SystemExit as e:\n\n...........................................................................\nC:\\Users\\Girijesh\\<ipython-input-51-fbb09c21409d> in <module>()\n      6         floating=False,\n      7         n_jobs=-1,\n      8         verbose=2,\n      9         scoring='neg_mean_squared_error',\n     10         cv=10)\n---> 11 sfs=sfs.fit(features,target)\n     12 \n     13 \n     14 \n     15 \n\n...........................................................................\nC:\\Users\\Girijesh\\Anaconda3\\lib\\site-packages\\mlxtend\\feature_selection\\sequential_feature_selector.py in fit(self=SequentialFeatureSelector(clone_estimator=True, ...'neg_mean_squared_error',\n             verbose=2), X=array([['Thursday', '13:00:39', 61832, ..., 'Din...ensils', 'Cuisinox', 895.0]],\n      dtype=object), y=array([157.31, 157.31, 157.31, ...,  31.99,  31.99,  19.9 ]), custom_feature_names=None, **fit_params={})\n    344                     k_idx, k_score, cv_scores = self._inclusion(\n    345                         orig_set=orig_set,\n    346                         subset=prev_subset,\n    347                         X=X_,\n    348                         y=y,\n--> 349                         **fit_params\n        fit_params = {}\n    350                     )\n    351                 else:\n    352 \n    353                     k_idx, k_score, cv_scores = self._exclusion(\n\n...........................................................................\nC:\\Users\\Girijesh\\Anaconda3\\lib\\site-packages\\mlxtend\\feature_selection\\sequential_feature_selector.py in _inclusion(self=SequentialFeatureSelector(clone_estimator=True, ...'neg_mean_squared_error',\n             verbose=2), orig_set={0, 1, 2, 3, 4, 5, ...}, subset=set(), X=array([['Thursday', '13:00:39', 61832, ..., 'Din...ensils', 'Cuisinox', 895.0]],\n      dtype=object), y=array([157.31, 157.31, 157.31, ...,  31.99,  31.99,  19.9 ]), ignore_feature=None, **fit_params={})\n    501                                 pre_dispatch=self.pre_dispatch)\n    502             work = parallel(delayed(_calc_score)\n    503                             (self, X, y,\n    504                              tuple(subset | {feature}),\n    505                              **fit_params)\n--> 506                             for feature in remaining\n        remaining = {0, 1, 2, 3, 4, 5, ...}\n    507                             if feature != ignore_feature)\n    508 \n    509             for new_subset, cv_scores in work:\n    510                 all_avg_scores.append(np.nanmean(cv_scores))\n\n...........................................................................\nC:\\Users\\Girijesh\\Anaconda3\\lib\\site-packages\\sklearn\\externals\\joblib\\parallel.py in __call__(self=Parallel(n_jobs=-1), iterable=<generator object SequentialFeatureSelector._inclusion.<locals>.<genexpr>>)\n    763             if pre_dispatch == \"all\" or n_jobs == 1:\n    764                 # The iterable was consumed all at once by the above for loop.\n    765                 # No need to wait for async callbacks to trigger to\n    766                 # consumption.\n    767                 self._iterating = False\n--> 768             self.retrieve()\n        self.retrieve = <bound method Parallel.retrieve of Parallel(n_jobs=-1)>\n    769             # Make sure that we get a last message telling us we are done\n    770             elapsed_time = time.time() - self._start_time\n    771             self._print('Done %3i out of %3i | elapsed: %s finished',\n    772                         (len(self._output), len(self._output),\n\n---------------------------------------------------------------------------\nSub-process traceback:\n---------------------------------------------------------------------------\nValueError                                         Fri Dec 14 02:28:23 2018\nPID: 22180             Python 3.6.1: C:\\Users\\Girijesh\\Anaconda3\\python.exe\n...........................................................................\nC:\\Users\\Girijesh\\Anaconda3\\lib\\site-packages\\sklearn\\externals\\joblib\\parallel.py in __call__(self=<sklearn.externals.joblib.parallel.BatchedCalls object>)\n    126     def __init__(self, iterator_slice):\n    127         self.items = list(iterator_slice)\n    128         self._size = len(self.items)\n    129 \n    130     def __call__(self):\n--> 131         return [func(*args, **kwargs) for func, args, kwargs in self.items]\n        self.items = [(<function _calc_score>, (SequentialFeatureSelector(clone_estimator=True, ...'neg_mean_squared_error',\n             verbose=2), array([['Thursday', '13:00:39', 61832, ..., 'Din...ensils', 'Cuisinox', 895.0]],\n      dtype=object), array([157.31, 157.31, 157.31, ...,  31.99,  31.99,  19.9 ]), (0,)), {})]\n    132 \n    133     def __len__(self):\n    134         return self._size\n    135 \n\n...........................................................................\nC:\\Users\\Girijesh\\Anaconda3\\lib\\site-packages\\sklearn\\externals\\joblib\\parallel.py in <listcomp>(.0=<list_iterator object>)\n    126     def __init__(self, iterator_slice):\n    127         self.items = list(iterator_slice)\n    128         self._size = len(self.items)\n    129 \n    130     def __call__(self):\n--> 131         return [func(*args, **kwargs) for func, args, kwargs in self.items]\n        func = <function _calc_score>\n        args = (SequentialFeatureSelector(clone_estimator=True, ...'neg_mean_squared_error',\n             verbose=2), array([['Thursday', '13:00:39', 61832, ..., 'Din...ensils', 'Cuisinox', 895.0]],\n      dtype=object), array([157.31, 157.31, 157.31, ...,  31.99,  31.99,  19.9 ]), (0,))\n        kwargs = {}\n    132 \n    133     def __len__(self):\n    134         return self._size\n    135 \n\n...........................................................................\nC:\\Users\\Girijesh\\Anaconda3\\lib\\site-packages\\mlxtend\\feature_selection\\sequential_feature_selector.py in _calc_score(selector=SequentialFeatureSelector(clone_estimator=True, ...'neg_mean_squared_error',\n             verbose=2), X=array([['Thursday', '13:00:39', 61832, ..., 'Din...ensils', 'Cuisinox', 895.0]],\n      dtype=object), y=array([157.31, 157.31, 157.31, ...,  31.99,  31.99,  19.9 ]), indices=(0,), **fit_params={})\n     29                                  X[:, indices], y,\n     30                                  cv=selector.cv,\n     31                                  scoring=selector.scorer,\n     32                                  n_jobs=1,\n     33                                  pre_dispatch=selector.pre_dispatch,\n---> 34                                  fit_params=fit_params)\n        fit_params = {}\n     35     else:\n     36         selector.est_.fit(X[:, indices], y, **fit_params)\n     37         scores = np.array([selector.scorer(selector.est_, X[:, indices], y)])\n     38     return indices, scores\n\n...........................................................................\nC:\\Users\\Girijesh\\Anaconda3\\lib\\site-packages\\sklearn\\model_selection\\_validation.py in cross_val_score(estimator=LinearRegression(copy_X=True, fit_intercept=True, n_jobs=1, normalize=False), X=array([['Thursday'],\n       ['Wednesday'],\n     ...    ['Sunday'],\n       ['Monday']], dtype=object), y=array([157.31, 157.31, 157.31, ...,  31.99,  31.99,  19.9 ]), groups=None, scoring=make_scorer(mean_squared_error, greater_is_better=False), cv=KFold(n_splits=10, random_state=None, shuffle=False), n_jobs=1, verbose=0, fit_params={}, pre_dispatch='2*n_jobs')\n    135     parallel = Parallel(n_jobs=n_jobs, verbose=verbose,\n    136                         pre_dispatch=pre_dispatch)\n    137     scores = parallel(delayed(_fit_and_score)(clone(estimator), X, y, scorer,\n    138                                               train, test, verbose, None,\n    139                                               fit_params)\n--> 140                       for train, test in cv_iter)\n        cv_iter = [(array([ 7908,  7909,  7910, ..., 79077, 79078, 79079]), array([   0,    1,    2, ..., 7905, 7906, 7907])), (array([    0,     1,     2, ..., 79077, 79078, 79079]), array([ 7908,  7909,  7910, ..., 15813, 15814, 15815])), (array([    0,     1,     2, ..., 79077, 79078, 79079]), array([15816, 15817, 15818, ..., 23721, 23722, 23723])), (array([    0,     1,     2, ..., 79077, 79078, 79079]), array([23724, 23725, 23726, ..., 31629, 31630, 31631])), (array([    0,     1,     2, ..., 79077, 79078, 79079]), array([31632, 31633, 31634, ..., 39537, 39538, 39539])), (array([    0,     1,     2, ..., 79077, 79078, 79079]), array([39540, 39541, 39542, ..., 47445, 47446, 47447])), (array([    0,     1,     2, ..., 79077, 79078, 79079]), array([47448, 47449, 47450, ..., 55353, 55354, 55355])), (array([    0,     1,     2, ..., 79077, 79078, 79079]), array([55356, 55357, 55358, ..., 63261, 63262, 63263])), (array([    0,     1,     2, ..., 79077, 79078, 79079]), array([63264, 63265, 63266, ..., 71169, 71170, 71171])), (array([    0,     1,     2, ..., 71169, 71170, 71171]), array([71172, 71173, 71174, ..., 79077, 79078, 79079]))]\n    141     return np.array(scores)[:, 0]\n    142 \n    143 \n    144 def _fit_and_score(estimator, X, y, scorer, train, test, verbose,\n\n...........................................................................\nC:\\Users\\Girijesh\\Anaconda3\\lib\\site-packages\\sklearn\\externals\\joblib\\parallel.py in __call__(self=Parallel(n_jobs=1), iterable=<generator object cross_val_score.<locals>.<genexpr>>)\n    753         self.n_completed_tasks = 0\n    754         try:\n    755             # Only set self._iterating to True if at least a batch\n    756             # was dispatched. In particular this covers the edge\n    757             # case of Parallel used with an exhausted iterator.\n--> 758             while self.dispatch_one_batch(iterator):\n        self.dispatch_one_batch = <bound method Parallel.dispatch_one_batch of Parallel(n_jobs=1)>\n        iterator = <generator object cross_val_score.<locals>.<genexpr>>\n    759                 self._iterating = True\n    760             else:\n    761                 self._iterating = False\n    762 \n\n...........................................................................\nC:\\Users\\Girijesh\\Anaconda3\\lib\\site-packages\\sklearn\\externals\\joblib\\parallel.py in dispatch_one_batch(self=Parallel(n_jobs=1), iterator=<generator object cross_val_score.<locals>.<genexpr>>)\n    603             tasks = BatchedCalls(itertools.islice(iterator, batch_size))\n    604             if len(tasks) == 0:\n    605                 # No more tasks available in the iterator: tell caller to stop.\n    606                 return False\n    607             else:\n--> 608                 self._dispatch(tasks)\n        self._dispatch = <bound method Parallel._dispatch of Parallel(n_jobs=1)>\n        tasks = <sklearn.externals.joblib.parallel.BatchedCalls object>\n    609                 return True\n    610 \n    611     def _print(self, msg, msg_args):\n    612         \"\"\"Display the message on stout or stderr depending on verbosity\"\"\"\n\n...........................................................................\nC:\\Users\\Girijesh\\Anaconda3\\lib\\site-packages\\sklearn\\externals\\joblib\\parallel.py in _dispatch(self=Parallel(n_jobs=1), batch=<sklearn.externals.joblib.parallel.BatchedCalls object>)\n    566         self.n_dispatched_tasks += len(batch)\n    567         self.n_dispatched_batches += 1\n    568 \n    569         dispatch_timestamp = time.time()\n    570         cb = BatchCompletionCallBack(dispatch_timestamp, len(batch), self)\n--> 571         job = self._backend.apply_async(batch, callback=cb)\n        job = undefined\n        self._backend.apply_async = <bound method SequentialBackend.apply_async of <...lib._parallel_backends.SequentialBackend object>>\n        batch = <sklearn.externals.joblib.parallel.BatchedCalls object>\n        cb = <sklearn.externals.joblib.parallel.BatchCompletionCallBack object>\n    572         self._jobs.append(job)\n    573 \n    574     def dispatch_next(self):\n    575         \"\"\"Dispatch more data for parallel processing\n\n...........................................................................\nC:\\Users\\Girijesh\\Anaconda3\\lib\\site-packages\\sklearn\\externals\\joblib\\_parallel_backends.py in apply_async(self=<sklearn.externals.joblib._parallel_backends.SequentialBackend object>, func=<sklearn.externals.joblib.parallel.BatchedCalls object>, callback=<sklearn.externals.joblib.parallel.BatchCompletionCallBack object>)\n    104             raise ValueError('n_jobs == 0 in Parallel has no meaning')\n    105         return 1\n    106 \n    107     def apply_async(self, func, callback=None):\n    108         \"\"\"Schedule a func to be run\"\"\"\n--> 109         result = ImmediateResult(func)\n        result = undefined\n        func = <sklearn.externals.joblib.parallel.BatchedCalls object>\n    110         if callback:\n    111             callback(result)\n    112         return result\n    113 \n\n...........................................................................\nC:\\Users\\Girijesh\\Anaconda3\\lib\\site-packages\\sklearn\\externals\\joblib\\_parallel_backends.py in __init__(self=<sklearn.externals.joblib._parallel_backends.ImmediateResult object>, batch=<sklearn.externals.joblib.parallel.BatchedCalls object>)\n    321 \n    322 class ImmediateResult(object):\n    323     def __init__(self, batch):\n    324         # Don't delay the application, to avoid keeping the input\n    325         # arguments in memory\n--> 326         self.results = batch()\n        self.results = undefined\n        batch = <sklearn.externals.joblib.parallel.BatchedCalls object>\n    327 \n    328     def get(self):\n    329         return self.results\n    330 \n\n...........................................................................\nC:\\Users\\Girijesh\\Anaconda3\\lib\\site-packages\\sklearn\\externals\\joblib\\parallel.py in __call__(self=<sklearn.externals.joblib.parallel.BatchedCalls object>)\n    126     def __init__(self, iterator_slice):\n    127         self.items = list(iterator_slice)\n    128         self._size = len(self.items)\n    129 \n    130     def __call__(self):\n--> 131         return [func(*args, **kwargs) for func, args, kwargs in self.items]\n        self.items = [(<function _fit_and_score>, (LinearRegression(copy_X=True, fit_intercept=True, n_jobs=1, normalize=False), array([['Thursday'],\n       ['Wednesday'],\n     ...    ['Sunday'],\n       ['Monday']], dtype=object), array([157.31, 157.31, 157.31, ...,  31.99,  31.99,  19.9 ]), make_scorer(mean_squared_error, greater_is_better=False), array([ 7908,  7909,  7910, ..., 79077, 79078, 79079]), array([   0,    1,    2, ..., 7905, 7906, 7907]), 0, None, {}), {})]\n    132 \n    133     def __len__(self):\n    134         return self._size\n    135 \n\n...........................................................................\nC:\\Users\\Girijesh\\Anaconda3\\lib\\site-packages\\sklearn\\externals\\joblib\\parallel.py in <listcomp>(.0=<list_iterator object>)\n    126     def __init__(self, iterator_slice):\n    127         self.items = list(iterator_slice)\n    128         self._size = len(self.items)\n    129 \n    130     def __call__(self):\n--> 131         return [func(*args, **kwargs) for func, args, kwargs in self.items]\n        func = <function _fit_and_score>\n        args = (LinearRegression(copy_X=True, fit_intercept=True, n_jobs=1, normalize=False), array([['Thursday'],\n       ['Wednesday'],\n     ...    ['Sunday'],\n       ['Monday']], dtype=object), array([157.31, 157.31, 157.31, ...,  31.99,  31.99,  19.9 ]), make_scorer(mean_squared_error, greater_is_better=False), array([ 7908,  7909,  7910, ..., 79077, 79078, 79079]), array([   0,    1,    2, ..., 7905, 7906, 7907]), 0, None, {})\n        kwargs = {}\n    132 \n    133     def __len__(self):\n    134         return self._size\n    135 \n\n...........................................................................\nC:\\Users\\Girijesh\\Anaconda3\\lib\\site-packages\\sklearn\\model_selection\\_validation.py in _fit_and_score(estimator=LinearRegression(copy_X=True, fit_intercept=True, n_jobs=1, normalize=False), X=array([['Thursday'],\n       ['Wednesday'],\n     ...    ['Sunday'],\n       ['Monday']], dtype=object), y=array([157.31, 157.31, 157.31, ...,  31.99,  31.99,  19.9 ]), scorer=make_scorer(mean_squared_error, greater_is_better=False), train=array([ 7908,  7909,  7910, ..., 79077, 79078, 79079]), test=array([   0,    1,    2, ..., 7905, 7906, 7907]), verbose=0, parameters=None, fit_params={}, return_train_score=False, return_parameters=False, return_n_test_samples=False, return_times=False, error_score='raise')\n    233 \n    234     try:\n    235         if y_train is None:\n    236             estimator.fit(X_train, **fit_params)\n    237         else:\n--> 238             estimator.fit(X_train, y_train, **fit_params)\n        estimator.fit = <bound method LinearRegression.fit of LinearRegr..., fit_intercept=True, n_jobs=1, normalize=False)>\n        X_train = array([['Sunday'],\n       ['Sunday'],\n       ['S...    ['Sunday'],\n       ['Monday']], dtype=object)\n        y_train = array([28.99, 22.99, 23.99, ..., 31.99, 31.99, 19.9 ])\n        fit_params = {}\n    239 \n    240     except Exception as e:\n    241         # Note fit time as time until error\n    242         fit_time = time.time() - start_time\n\n...........................................................................\nC:\\Users\\Girijesh\\Anaconda3\\lib\\site-packages\\sklearn\\linear_model\\base.py in fit(self=LinearRegression(copy_X=True, fit_intercept=True, n_jobs=1, normalize=False), X=array([['Sunday'],\n       ['Sunday'],\n       ['S...    ['Sunday'],\n       ['Monday']], dtype=object), y=array([28.99, 22.99, 23.99, ..., 31.99, 31.99, 19.9 ]), sample_weight=None)\n    507         self : returns an instance of self.\n    508         \"\"\"\n    509 \n    510         n_jobs_ = self.n_jobs\n    511         X, y = check_X_y(X, y, accept_sparse=['csr', 'csc', 'coo'],\n--> 512                          y_numeric=True, multi_output=True)\n    513 \n    514         if sample_weight is not None and np.atleast_1d(sample_weight).ndim > 1:\n    515             raise ValueError(\"Sample weights must be 1D array or scalar\")\n    516 \n\n...........................................................................\nC:\\Users\\Girijesh\\Anaconda3\\lib\\site-packages\\sklearn\\utils\\validation.py in check_X_y(X=array([['Sunday'],\n       ['Sunday'],\n       ['S...    ['Sunday'],\n       ['Monday']], dtype=object), y=array([28.99, 22.99, 23.99, ..., 31.99, 31.99, 19.9 ]), accept_sparse=['csr', 'csc', 'coo'], dtype='numeric', order=None, copy=False, force_all_finite=True, ensure_2d=True, allow_nd=False, multi_output=True, ensure_min_samples=1, ensure_min_features=1, y_numeric=True, warn_on_dtype=False, estimator=None)\n    516     y_converted : object\n    517         The converted and validated y.\n    518     \"\"\"\n    519     X = check_array(X, accept_sparse, dtype, order, copy, force_all_finite,\n    520                     ensure_2d, allow_nd, ensure_min_samples,\n--> 521                     ensure_min_features, warn_on_dtype, estimator)\n        ensure_min_features = 1\n        warn_on_dtype = False\n        estimator = None\n    522     if multi_output:\n    523         y = check_array(y, 'csr', force_all_finite=True, ensure_2d=False,\n    524                         dtype=None)\n    525     else:\n\n...........................................................................\nC:\\Users\\Girijesh\\Anaconda3\\lib\\site-packages\\sklearn\\utils\\validation.py in check_array(array=array([['Sunday'],\n       ['Sunday'],\n       ['S...    ['Sunday'],\n       ['Monday']], dtype=object), accept_sparse=['csr', 'csc', 'coo'], dtype=<class 'numpy.float64'>, order=None, copy=False, force_all_finite=True, ensure_2d=True, allow_nd=False, ensure_min_samples=1, ensure_min_features=1, warn_on_dtype=False, estimator=None)\n    377 \n    378     if sp.issparse(array):\n    379         array = _ensure_sparse_format(array, accept_sparse, dtype, copy,\n    380                                       force_all_finite)\n    381     else:\n--> 382         array = np.array(array, dtype=dtype, order=order, copy=copy)\n        array = array([['Sunday'],\n       ['Sunday'],\n       ['S...    ['Sunday'],\n       ['Monday']], dtype=object)\n        dtype = <class 'numpy.float64'>\n        order = None\n        copy = False\n    383 \n    384         if ensure_2d:\n    385             if array.ndim == 1:\n    386                 if ensure_min_samples >= 2:\n\nValueError: could not convert string to float: 'Sunday'\n___________________________________________________________________________"
     ]
    }
   ],
   "source": [
    "#Forward Feature Selection\n",
    "lr = LinearRegression()\n",
    "sfs=SFS(lr,\n",
    "        k_features= features.shape[1],\n",
    "        forward=True, \n",
    "        floating=False,\n",
    "        n_jobs=-1,\n",
    "        verbose=2,\n",
    "        scoring='neg_mean_squared_error',\n",
    "        cv=10)\n",
    "sfs=sfs.fit(features,target)"
   ]
  },
  {
   "cell_type": "code",
   "execution_count": null,
   "metadata": {
    "collapsed": true
   },
   "outputs": [],
   "source": []
  },
  {
   "cell_type": "code",
   "execution_count": 30,
   "metadata": {},
   "outputs": [
    {
     "data": {
      "text/plain": [
       "Index(['product_id', 'customer_id', 'zipcode', 'quantity_ordered', 'weight',\n",
       "       'num_reviews', 'onsite_price', 'on_promotion', 'order_value',\n",
       "       'num_returns', 'Friday', 'Monday', 'Saturday', 'Sunday', 'Thursday',\n",
       "       'Tuesday', 'Wednesday', 'afternoon', 'evening', 'morning',\n",
       "       'description_length', 'category_rate', 'manufacturer_rate'],\n",
       "      dtype='object')"
      ]
     },
     "execution_count": 30,
     "metadata": {},
     "output_type": "execute_result"
    }
   ],
   "source": [
    "df.columns"
   ]
  },
  {
   "cell_type": "markdown",
   "metadata": {},
   "source": [
    "# Removing the features with low variance:"
   ]
  },
  {
   "cell_type": "code",
   "execution_count": 31,
   "metadata": {},
   "outputs": [
    {
     "data": {
      "text/plain": [
       "(79080, 23)"
      ]
     },
     "execution_count": 31,
     "metadata": {},
     "output_type": "execute_result"
    }
   ],
   "source": [
    "df.shape #original dataframe"
   ]
  },
  {
   "cell_type": "code",
   "execution_count": 32,
   "metadata": {},
   "outputs": [
    {
     "data": {
      "text/plain": [
       "(79080, 23)"
      ]
     },
     "execution_count": 32,
     "metadata": {},
     "output_type": "execute_result"
    }
   ],
   "source": [
    "selector = VarianceThreshold(threshold= 0.5)\n",
    "selector.fit_transform(df)\n",
    "df.shape"
   ]
  },
  {
   "cell_type": "code",
   "execution_count": 68,
   "metadata": {
    "collapsed": true
   },
   "outputs": [],
   "source": [
    "y= df['order_value']\n",
    "x = df.drop('order_value', axis =1)"
   ]
  },
  {
   "cell_type": "code",
   "execution_count": 80,
   "metadata": {
    "collapsed": true
   },
   "outputs": [],
   "source": [
    "selector = SelectKBest(f_regression, k = 'all').fit(x,y)\n",
    "names = x.columns.values[selector.get_support()]\n",
    "scores = selector.scores_[selector.get_support()]\n",
    "name_scores = list(zip(names, scores))\n",
    "name_score_df = pd.DataFrame(data= name_scores, columns= ['name', 'f_regression'])\n",
    "name_score_sort_df = name_score_df.sort_values(by = 'f_regression', ascending = False)"
   ]
  },
  {
   "cell_type": "code",
   "execution_count": 81,
   "metadata": {
    "collapsed": true
   },
   "outputs": [],
   "source": [
    "def displayScores(ns_df, score):\n",
    "    plt.figure(figsize=(30,16))\n",
    "    sns.barplot(x ='name', y=score, data=ns_df)\n",
    "    plt.xticks(rotation=70, fontsize=20)\n",
    "    plt.xlabel('Feature',fontsize=20)\n",
    "    plt.yticks(fontsize=20)\n",
    "    plt.ylabel(score,fontsize=20)\n",
    "    plt.show()"
   ]
  },
  {
   "cell_type": "code",
   "execution_count": 82,
   "metadata": {},
   "outputs": [
    {
     "data": {
      "image/png": "[encoded data removed]",
      "text/plain": [
       "<matplotlib.figure.Figure at 0xacbc9900f0>"
      ]
     },
     "metadata": {},
     "output_type": "display_data"
    }
   ],
   "source": [
    "displayScores(name_score_sort_df, 'f_regression')"
   ]
  },
  {
   "cell_type": "code",
   "execution_count": 47,
   "metadata": {},
   "outputs": [
    {
     "data": {
      "text/plain": [
       "Index(['product_id', 'order_date', 'order_time', 'customer_id', 'zipcode',\n",
       "       'quantity_ordered', 'weight', 'num_reviews', 'onsite_price',\n",
       "       'on_promotion', 'description', 'category_name', 'manufacturer_name',\n",
       "       'order_value', 'num_returns', 'Friday', 'Monday', 'Saturday', 'Sunday',\n",
       "       'Thursday', 'Tuesday', 'Wednesday', 'afternoon', 'evening', 'morning',\n",
       "       'description_length', 'category_count', 'manu_count', 'category_rate',\n",
       "       'manufacturer_rate'],\n",
       "      dtype='object')"
      ]
     },
     "execution_count": 47,
     "metadata": {},
     "output_type": "execute_result"
    }
   ],
   "source": [
    "df3.columns"
   ]
  },
  {
   "cell_type": "code",
   "execution_count": 33,
   "metadata": {
    "collapsed": true
   },
   "outputs": [],
   "source": [
    "#Category rating\n",
    "cat_value = df3.groupby('category_name')['order_value'].sum().reset_index().sort_values(by= 'order_value', ascending = False)\n",
    "cat_value['category_rating'] = (cat_value['order_value']/cat_value['order_value'].sum())*100\n",
    "cat_value.drop('order_value',axis = 1, inplace = True)\n",
    "\n",
    "#Manufacturer Rating:\n",
    "man_value = df3.groupby('manufacturer_name')['order_value'].sum().reset_index().sort_values(by = 'order_value', ascending = False)\n",
    "man_value['manufacturer_rating'] = (man_value['order_value']/man_value['order_value'].sum())*100\n",
    "man_value.drop('order_value', axis =1, inplace = True)\n"
   ]
  },
  {
   "cell_type": "code",
   "execution_count": 34,
   "metadata": {
    "collapsed": true
   },
   "outputs": [],
   "source": [
    "df4 = pd.merge(df3, cat_value, on= 'category_name')\n",
    "df5 = pd.merge(df4, man_value, on='manufacturer_name')\n",
    "df5.drop(['manufacturer_name', 'category_name', 'manufacturer_rate', 'category_rate'], axis=1, inplace= True)"
   ]
  },
  {
   "cell_type": "markdown",
   "metadata": {},
   "source": [
    "# description rating ??"
   ]
  },
  {
   "cell_type": "code",
   "execution_count": 35,
   "metadata": {
    "collapsed": true,
    "scrolled": true
   },
   "outputs": [],
   "source": [
    "import nltk\n",
    "from nltk.corpus import stopwords\n",
    "# nltk.download()\n",
    "from nltk.tokenize import word_tokenize"
   ]
  },
  {
   "cell_type": "code",
   "execution_count": 36,
   "metadata": {
    "collapsed": true
   },
   "outputs": [],
   "source": [
    "stop_words = set(stopwords.words('english'))"
   ]
  },
  {
   "cell_type": "code",
   "execution_count": 39,
   "metadata": {
    "collapsed": true
   },
   "outputs": [],
   "source": [
    "word_token = word_tokenize(df5['description'][0])"
   ]
  },
  {
   "cell_type": "code",
   "execution_count": 85,
   "metadata": {
    "collapsed": true
   },
   "outputs": [],
   "source": [
    "# treebank_word_tokenize = TreebankWordTokenizer().tokenizefrom collections import Counter\n",
    "from nltk import FreqDist, word_tokenize\n",
    "from collections import Counter\n",
    "from nltk.corpus import brown"
   ]
  },
  {
   "cell_type": "code",
   "execution_count": 73,
   "metadata": {
    "collapsed": true
   },
   "outputs": [],
   "source": [
    "filt = []\n",
    "from collections import defaultdict\n",
    "\n",
    "dict_words = defaultdict()\n",
    "\n",
    "def filt_word(description):\n",
    "    dict_words = defaultdict()\n",
    "    token = word_tokenize(description)\n",
    "#     print(token)\n",
    "    stop_words = set(stopwords.words('english'))\n",
    "#     print(stop_words)\n",
    "    for w in token:\n",
    "        if w not in stop_words:\n",
    "            print(w)\n",
    "            if w not in dict_words:\n",
    "                dict_wor\n",
    "    return filt_words"
   ]
  },
  {
   "cell_type": "code",
   "execution_count": 117,
   "metadata": {
    "collapsed": true
   },
   "outputs": [],
   "source": [
    "x = Counter()\n",
    "for line in df5['description'].values:\n",
    "    x.update(word_tokenize(line))\n",
    "uniq = x.keys()"
   ]
  },
  {
   "cell_type": "code",
   "execution_count": 179,
   "metadata": {},
   "outputs": [],
   "source": [
    "word_count = defaultdict()\n",
    "for words, values in x.items():\n",
    "#     print(words)\n",
    "    if words not in stop_words:\n",
    "        print(words)\n",
    "        word_count[words]= values\n",
    "        "
   ]
  },
  {
   "cell_type": "code",
   "execution_count": 153,
   "metadata": {
    "collapsed": true
   },
   "outputs": [],
   "source": [
    "lis_count = word_count"
   ]
  },
  {
   "cell_type": "code",
   "execution_count": 180,
   "metadata": {
    "scrolled": true
   },
   "outputs": [],
   "source": [
    "import operator\n",
    "from collections import OrderedDict\n",
    "sorted_x =  OrderedDict(sorted(word_count.items(), key = lambda kv: kv[1], reverse = True))\n",
    "for k, v in sorted_x.items():\n",
    "    print(k,v)"
   ]
  },
  {
   "cell_type": "code",
   "execution_count": 167,
   "metadata": {
    "collapsed": true
   },
   "outputs": [],
   "source": [
    "import nltk, re\n",
    "import string\n",
    "from collections import Counter\n",
    "from string import punctuation\n",
    "from nltk.tokenize import TweetTokenizer, sent_tokenize, word_tokenize\n",
    "from nltk.corpus import gutenberg, stopwords\n",
    "from nltk.stem import WordNetLemmatizer\n",
    "# import global"
   ]
  },
  {
   "cell_type": "code",
   "execution_count": 156,
   "metadata": {
    "collapsed": true
   },
   "outputs": [],
   "source": [
    "table = str.maketrans('', '', string.punctuation)\n",
    "stripped = [w.translate(table) for w in lis_count ]\n"
   ]
  },
  {
   "cell_type": "code",
   "execution_count": 161,
   "metadata": {
    "collapsed": true
   },
   "outputs": [],
   "source": [
    "def preprocessing():\n",
    "    global word_count\n",
    "    raw_data = (gutenberg.raw(word_count))\n",
    "    tokens_sentences = sent_tokenize(raw_data)\n",
    "    tokens = [[word.lower() for word in line.split()] for line in tokens_sentences]\n",
    "    print(len(tokens))\n",
    "    stripped_tokens = [remove_punctuation(i) for i in tokens]\n",
    "    sw = (stopwords.words('english'))\n",
    "    filter_set = [[token for token in sentence if (token.lower() not in sw and token.isalnum())] for sentence in\n",
    "                  stripped_tokens]\n",
    "    lemma = WordNetLemmatizer()\n",
    "    lem = []\n",
    "    for w in filter_set:\n",
    "        lem.append([wi for wi in map(lemma.lemmatize, w)])\n",
    "    print(lem)\n",
    "\n",
    "    return lem"
   ]
  },
  {
   "cell_type": "markdown",
   "metadata": {},
   "source": [
    "# *************************MODEL **************************************************************************"
   ]
  },
  {
   "cell_type": "markdown",
   "metadata": {
    "collapsed": true
   },
   "source": [
    "# H2O Implementation:"
   ]
  },
  {
   "cell_type": "code",
   "execution_count": 184,
   "metadata": {},
   "outputs": [],
   "source": [
    "df6 = df5.drop(['order_date', 'order_time', 'description'], axis= 1)\n",
    "df6.to_csv(\"wayfair.csv\")\n"
   ]
  },
  {
   "cell_type": "code",
   "execution_count": 190,
   "metadata": {},
   "outputs": [
    {
     "name": "stdout",
     "output_type": "stream",
     "text": [
      "<class 'pandas.core.frame.DataFrame'>\n",
      "RangeIndex: 79080 entries, 0 to 79079\n",
      "Data columns (total 26 columns):\n",
      "Unnamed: 0             79080 non-null int64\n",
      "product_id             79080 non-null float64\n",
      "customer_id            79080 non-null float64\n",
      "zipcode                79080 non-null int64\n",
      "quantity_ordered       79080 non-null int64\n",
      "weight                 79080 non-null float64\n",
      "num_reviews            79080 non-null float64\n",
      "onsite_price           79080 non-null float64\n",
      "on_promotion           79080 non-null int64\n",
      "order_value            79080 non-null float64\n",
      "num_returns            79080 non-null float64\n",
      "Friday                 79080 non-null int64\n",
      "Monday                 79080 non-null int64\n",
      "Saturday               79080 non-null int64\n",
      "Sunday                 79080 non-null int64\n",
      "Thursday               79080 non-null int64\n",
      "Tuesday                79080 non-null int64\n",
      "Wednesday              79080 non-null int64\n",
      "afternoon              79080 non-null int64\n",
      "evening                79080 non-null int64\n",
      "morning                79080 non-null int64\n",
      "description_length     79080 non-null int64\n",
      "category_count         79080 non-null int64\n",
      "manu_count             79080 non-null int64\n",
      "category_rating        79080 non-null float64\n",
      "manufacturer_rating    79080 non-null float64\n",
      "dtypes: float64(9), int64(17)\n",
      "memory usage: 15.7 MB\n"
     ]
    }
   ],
   "source": [
    "df7 = pd.read_csv('wayfair.csv')\n",
    "df7.info()"
   ]
  },
  {
   "cell_type": "code",
   "execution_count": 188,
   "metadata": {},
   "outputs": [
    {
     "name": "stdout",
     "output_type": "stream",
     "text": [
      "Checking whether there is an H2O instance running at http://localhost:54321..... not found.\n",
      "Attempting to start a local H2O server...\n",
      "; Java HotSpot(TM) 64-Bit Server VM (build 9.0.4+11, mixed mode)\n",
      "  Starting server from C:\\Users\\Girijesh\\Anaconda3\\lib\\site-packages\\h2o\\backend\\bin\\h2o.jar\n",
      "  Ice root: C:\\Users\\Girijesh\\AppData\\Local\\Temp\\tmplm24u7l8\n",
      "  JVM stdout: C:\\Users\\Girijesh\\AppData\\Local\\Temp\\tmplm24u7l8\\h2o_Girijesh_started_from_python.out\n",
      "  JVM stderr: C:\\Users\\Girijesh\\AppData\\Local\\Temp\\tmplm24u7l8\\h2o_Girijesh_started_from_python.err\n",
      "  Server is running at http://127.0.0.1:54321\n",
      "Connecting to H2O server at http://127.0.0.1:54321... successful.\n"
     ]
    },
    {
     "data": {
      "text/html": [
       "<div style=\"overflow:auto\"><table style=\"width:50%\"><tr><td>H2O cluster uptime:</td>\n",
       "<td>08 secs</td></tr>\n",
       "<tr><td>H2O cluster timezone:</td>\n",
       "<td>America/New_York</td></tr>\n",
       "<tr><td>H2O data parsing timezone:</td>\n",
       "<td>UTC</td></tr>\n",
       "<tr><td>H2O cluster version:</td>\n",
       "<td>3.22.0.2</td></tr>\n",
       "<tr><td>H2O cluster version age:</td>\n",
       "<td>22 days </td></tr>\n",
       "<tr><td>H2O cluster name:</td>\n",
       "<td>H2O_from_python_Girijesh_czuzb3</td></tr>\n",
       "<tr><td>H2O cluster total nodes:</td>\n",
       "<td>1</td></tr>\n",
       "<tr><td>H2O cluster free memory:</td>\n",
       "<td>2.955 Gb</td></tr>\n",
       "<tr><td>H2O cluster total cores:</td>\n",
       "<td>4</td></tr>\n",
       "<tr><td>H2O cluster allowed cores:</td>\n",
       "<td>4</td></tr>\n",
       "<tr><td>H2O cluster status:</td>\n",
       "<td>accepting new members, healthy</td></tr>\n",
       "<tr><td>H2O connection url:</td>\n",
       "<td>http://127.0.0.1:54321</td></tr>\n",
       "<tr><td>H2O connection proxy:</td>\n",
       "<td>None</td></tr>\n",
       "<tr><td>H2O internal security:</td>\n",
       "<td>False</td></tr>\n",
       "<tr><td>H2O API Extensions:</td>\n",
       "<td>Algos, AutoML, Core V3, Core V4</td></tr>\n",
       "<tr><td>Python version:</td>\n",
       "<td>3.6.1 final</td></tr></table></div>"
      ],
      "text/plain": [
       "--------------------------  -------------------------------\n",
       "H2O cluster uptime:         08 secs\n",
       "H2O cluster timezone:       America/New_York\n",
       "H2O data parsing timezone:  UTC\n",
       "H2O cluster version:        3.22.0.2\n",
       "H2O cluster version age:    22 days\n",
       "H2O cluster name:           H2O_from_python_Girijesh_czuzb3\n",
       "H2O cluster total nodes:    1\n",
       "H2O cluster free memory:    2.955 Gb\n",
       "H2O cluster total cores:    4\n",
       "H2O cluster allowed cores:  4\n",
       "H2O cluster status:         accepting new members, healthy\n",
       "H2O connection url:         http://127.0.0.1:54321\n",
       "H2O connection proxy:\n",
       "H2O internal security:      False\n",
       "H2O API Extensions:         Algos, AutoML, Core V3, Core V4\n",
       "Python version:             3.6.1 final\n",
       "--------------------------  -------------------------------"
      ]
     },
     "metadata": {},
     "output_type": "display_data"
    }
   ],
   "source": [
    "import h2o\n",
    "from h2o.automl import H2OAutoML\n",
    "h2o.init()"
   ]
  },
  {
   "cell_type": "code",
   "execution_count": 189,
   "metadata": {},
   "outputs": [
    {
     "name": "stdout",
     "output_type": "stream",
     "text": [
      "Parse progress: |█████████████████████████████████████████████████████████| 100%\n"
     ]
    }
   ],
   "source": [
    "df5_h20 = h2o.import_file('wayfair.csv')"
   ]
  },
  {
   "cell_type": "code",
   "execution_count": 192,
   "metadata": {},
   "outputs": [],
   "source": [
    "x = df5_h20.columns\n",
    "y = 'order_value'\n",
    "x.remove('order_value')"
   ]
  },
  {
   "cell_type": "code",
   "execution_count": 195,
   "metadata": {},
   "outputs": [
    {
     "name": "stdout",
     "output_type": "stream",
     "text": [
      "AutoML progress: |████████████████████████████████████████████████████████| 100%\n"
     ]
    }
   ],
   "source": [
    "aml = H2OAutoML(max_models = 30, max_runtime_secs=300, seed = 1)\n",
    "aml.train(x= x, y = y, training_frame= df5_h20, leaderboard_frame= df5_h20)"
   ]
  },
  {
   "cell_type": "code",
   "execution_count": 196,
   "metadata": {},
   "outputs": [
    {
     "data": {
      "text/html": [
       "<div>\n",
       "<style scoped>\n",
       "    .dataframe tbody tr th:only-of-type {\n",
       "        vertical-align: middle;\n",
       "    }\n",
       "\n",
       "    .dataframe tbody tr th {\n",
       "        vertical-align: top;\n",
       "    }\n",
       "\n",
       "    .dataframe thead th {\n",
       "        text-align: right;\n",
       "    }\n",
       "</style>\n",
       "<table border=\"1\" class=\"dataframe\">\n",
       "  <thead>\n",
       "    <tr style=\"text-align: right;\">\n",
       "      <th></th>\n",
       "      <th>model_id</th>\n",
       "      <th>mean_residual_deviance</th>\n",
       "      <th>rmse</th>\n",
       "      <th>mse</th>\n",
       "      <th>mae</th>\n",
       "      <th>rmsle</th>\n",
       "    </tr>\n",
       "  </thead>\n",
       "  <tbody>\n",
       "    <tr>\n",
       "      <th>0</th>\n",
       "      <td>StackedEnsemble_AllModels_AutoML_20181214_211548</td>\n",
       "      <td>1813.145111</td>\n",
       "      <td>42.581042</td>\n",
       "      <td>1813.145111</td>\n",
       "      <td>10.344102</td>\n",
       "      <td>NaN</td>\n",
       "    </tr>\n",
       "    <tr>\n",
       "      <th>1</th>\n",
       "      <td>StackedEnsemble_BestOfFamily_AutoML_20181214_2...</td>\n",
       "      <td>1813.145111</td>\n",
       "      <td>42.581042</td>\n",
       "      <td>1813.145111</td>\n",
       "      <td>10.344102</td>\n",
       "      <td>NaN</td>\n",
       "    </tr>\n",
       "    <tr>\n",
       "      <th>2</th>\n",
       "      <td>DRF_1_AutoML_20181214_211548</td>\n",
       "      <td>2130.669414</td>\n",
       "      <td>46.159175</td>\n",
       "      <td>2130.669414</td>\n",
       "      <td>4.590798</td>\n",
       "      <td>0.045098</td>\n",
       "    </tr>\n",
       "    <tr>\n",
       "      <th>3</th>\n",
       "      <td>DRF_1_AutoML_20181214_212647</td>\n",
       "      <td>2275.367753</td>\n",
       "      <td>47.700815</td>\n",
       "      <td>2275.367753</td>\n",
       "      <td>4.737439</td>\n",
       "      <td>0.045384</td>\n",
       "    </tr>\n",
       "    <tr>\n",
       "      <th>4</th>\n",
       "      <td>XRT_1_AutoML_20181214_212647</td>\n",
       "      <td>2495.287995</td>\n",
       "      <td>49.952858</td>\n",
       "      <td>2495.287995</td>\n",
       "      <td>5.665747</td>\n",
       "      <td>0.051432</td>\n",
       "    </tr>\n",
       "    <tr>\n",
       "      <th>5</th>\n",
       "      <td>XRT_1_AutoML_20181214_211548</td>\n",
       "      <td>2495.287995</td>\n",
       "      <td>49.952858</td>\n",
       "      <td>2495.287995</td>\n",
       "      <td>5.665747</td>\n",
       "      <td>0.051432</td>\n",
       "    </tr>\n",
       "    <tr>\n",
       "      <th>6</th>\n",
       "      <td>GLM_grid_1_AutoML_20181214_212647_model_1</td>\n",
       "      <td>374699.407358</td>\n",
       "      <td>612.126954</td>\n",
       "      <td>374699.407358</td>\n",
       "      <td>262.615097</td>\n",
       "      <td>1.515323</td>\n",
       "    </tr>\n",
       "    <tr>\n",
       "      <th>7</th>\n",
       "      <td>GLM_grid_1_AutoML_20181214_211548_model_1</td>\n",
       "      <td>374699.407358</td>\n",
       "      <td>612.126954</td>\n",
       "      <td>374699.407358</td>\n",
       "      <td>262.615097</td>\n",
       "      <td>1.515323</td>\n",
       "    </tr>\n",
       "  </tbody>\n",
       "</table>\n",
       "</div>"
      ],
      "text/plain": [
       "                                            model_id  mean_residual_deviance  \\\n",
       "0   StackedEnsemble_AllModels_AutoML_20181214_211548             1813.145111   \n",
       "1  StackedEnsemble_BestOfFamily_AutoML_20181214_2...             1813.145111   \n",
       "2                       DRF_1_AutoML_20181214_211548             2130.669414   \n",
       "3                       DRF_1_AutoML_20181214_212647             2275.367753   \n",
       "4                       XRT_1_AutoML_20181214_212647             2495.287995   \n",
       "5                       XRT_1_AutoML_20181214_211548             2495.287995   \n",
       "6          GLM_grid_1_AutoML_20181214_212647_model_1           374699.407358   \n",
       "7          GLM_grid_1_AutoML_20181214_211548_model_1           374699.407358   \n",
       "\n",
       "         rmse            mse         mae     rmsle  \n",
       "0   42.581042    1813.145111   10.344102       NaN  \n",
       "1   42.581042    1813.145111   10.344102       NaN  \n",
       "2   46.159175    2130.669414    4.590798  0.045098  \n",
       "3   47.700815    2275.367753    4.737439  0.045384  \n",
       "4   49.952858    2495.287995    5.665747  0.051432  \n",
       "5   49.952858    2495.287995    5.665747  0.051432  \n",
       "6  612.126954  374699.407358  262.615097  1.515323  \n",
       "7  612.126954  374699.407358  262.615097  1.515323  "
      ]
     },
     "execution_count": 196,
     "metadata": {},
     "output_type": "execute_result"
    }
   ],
   "source": [
    "aml.leaderboard.as_data_frame()"
   ]
  },
  {
   "cell_type": "markdown",
   "metadata": {},
   "source": [
    "# Linear Regresssion:"
   ]
  },
  {
   "cell_type": "code",
   "execution_count": 197,
   "metadata": {
    "collapsed": true
   },
   "outputs": [],
   "source": [
    "import pathlib\n",
    "import zipfile\n",
    "from io import BytesIO\n",
    "import pandas as pd\n",
    "import warnings\n",
    "warnings.filterwarnings('ignore')\n",
    "import glob\n",
    "import numpy as np\n",
    "from sklearn.metrics import *\n",
    "import matplotlib.pyplot as plt\n",
    "import statsmodels.api as sm\n",
    "from sklearn.linear_model import LinearRegression\n",
    "from mlxtend.feature_selection import SequentialFeatureSelector as SFS\n",
    "import sklearn\n",
    "import pandas as pd\n",
    "from sklearn.ensemble import RandomForestRegressor\n",
    "from mlxtend.plotting import plot_sequential_feature_selection as plot_sfs\n",
    "import statsmodels.api as sm\n",
    "from mlxtend.feature_selection import ExhaustiveFeatureSelector as EFS\n",
    "from sklearn import preprocessing\n",
    "from math import sqrt"
   ]
  },
  {
   "cell_type": "code",
   "execution_count": 199,
   "metadata": {
    "collapsed": true
   },
   "outputs": [],
   "source": [
    "features = df7.drop(columns=['product_id','customer_id','order_value']).values\n",
    "target = df7['order_value'].values"
   ]
  },
  {
   "cell_type": "code",
   "execution_count": 200,
   "metadata": {
    "collapsed": true
   },
   "outputs": [],
   "source": [
    "X_train, X_test, y_train, y_test = train_test_split(features, target,\n",
    "                                                    train_size=0.75, test_size=0.25)"
   ]
  },
  {
   "cell_type": "code",
   "execution_count": 201,
   "metadata": {
    "collapsed": true
   },
   "outputs": [],
   "source": [
    "#Function for Mean Absolute Percentage Error\n",
    "def mean_absolute_percentage_error(y_true, y_pred): \n",
    "    y_arr_true, y_arr_pred = np.array(y_true), np.array(y_pred)\n",
    "    return np.mean(np.abs((y_arr_true - y_arr_pred) / y_arr_true)) * 100"
   ]
  },
  {
   "cell_type": "markdown",
   "metadata": {},
   "source": [
    "# Training "
   ]
  },
  {
   "cell_type": "code",
   "execution_count": 202,
   "metadata": {
    "collapsed": true
   },
   "outputs": [],
   "source": [
    "#Training dataset:\n",
    "lm = LinearRegression()\n",
    "lm.fit(X_train, y_train)\n",
    "train_pred = lm.predict(X_train)"
   ]
  },
  {
   "cell_type": "code",
   "execution_count": 203,
   "metadata": {},
   "outputs": [
    {
     "name": "stdout",
     "output_type": "stream",
     "text": [
      "MAE:59.41379021136503\n",
      "RMS: 296.25327549722067\n",
      "MAPE: 55.74466065034095\n"
     ]
    }
   ],
   "source": [
    "#Mean Absolute Error:\n",
    "#RMSE:\n",
    "#MAPE:\n",
    "print(\"MAE:\" + str(mean_absolute_error(y_train, train_pred)))\n",
    "print(\"RMS: \" + str(sqrt(mean_squared_error(y_train, train_pred))))\n",
    "print(\"MAPE: \" + str(mean_absolute_percentage_error(y_train, train_pred)))"
   ]
  },
  {
   "cell_type": "markdown",
   "metadata": {},
   "source": [
    "# Testing:"
   ]
  },
  {
   "cell_type": "code",
   "execution_count": 205,
   "metadata": {},
   "outputs": [],
   "source": [
    "test_pred = lm.predict(X_test)"
   ]
  },
  {
   "cell_type": "code",
   "execution_count": 208,
   "metadata": {},
   "outputs": [
    {
     "name": "stdout",
     "output_type": "stream",
     "text": [
      "MAE:58.73361460866351\n",
      "RMS: 288.3207785371299\n",
      "MAPE: 54.88796171507976\n"
     ]
    }
   ],
   "source": [
    "print(\"MAE:\" + str(mean_absolute_error(y_test, test_pred)))\n",
    "print(\"RMS: \" + str(sqrt(mean_squared_error(y_test, test_pred))))\n",
    "print(\"MAPE: \" + str(mean_absolute_percentage_error(y_test, test_pred)))"
   ]
  },
  {
   "cell_type": "markdown",
   "metadata": {},
   "source": [
    "# Random Forest"
   ]
  },
  {
   "cell_type": "markdown",
   "metadata": {},
   "source": [
    "# Training"
   ]
  },
  {
   "cell_type": "code",
   "execution_count": 209,
   "metadata": {
    "collapsed": true
   },
   "outputs": [],
   "source": [
    "from sklearn.ensemble import RandomForestRegressor\n",
    "\n",
    "clf = RandomForestRegressor(n_estimators= 1000, random_state= 42)"
   ]
  },
  {
   "cell_type": "code",
   "execution_count": 210,
   "metadata": {},
   "outputs": [
    {
     "data": {
      "text/plain": [
       "RandomForestRegressor(bootstrap=True, criterion='mse', max_depth=None,\n",
       "           max_features='auto', max_leaf_nodes=None,\n",
       "           min_impurity_split=1e-07, min_samples_leaf=1,\n",
       "           min_samples_split=2, min_weight_fraction_leaf=0.0,\n",
       "           n_estimators=1000, n_jobs=1, oob_score=False, random_state=42,\n",
       "           verbose=0, warm_start=False)"
      ]
     },
     "execution_count": 210,
     "metadata": {},
     "output_type": "execute_result"
    }
   ],
   "source": [
    "clf.fit(X_train, y_train)"
   ]
  },
  {
   "cell_type": "code",
   "execution_count": 212,
   "metadata": {},
   "outputs": [],
   "source": [
    "train_predict_rf = clf.predict(X_train)"
   ]
  },
  {
   "cell_type": "code",
   "execution_count": 213,
   "metadata": {},
   "outputs": [
    {
     "name": "stdout",
     "output_type": "stream",
     "text": [
      "MAE:0.6508129517798722\n",
      "RMS: 31.990554348956703\n",
      "MAPE: 0.024140004005520327\n"
     ]
    }
   ],
   "source": [
    "print(\"MAE:\" + str(mean_absolute_error(y_train, train_predict_rf)))\n",
    "print(\"RMS: \" + str(sqrt(mean_squared_error(y_train, train_predict_rf))))\n",
    "print(\"MAPE: \" + str(mean_absolute_percentage_error(y_train, train_predict_rf)))"
   ]
  },
  {
   "cell_type": "markdown",
   "metadata": {},
   "source": [
    "# Testing"
   ]
  },
  {
   "cell_type": "code",
   "execution_count": 218,
   "metadata": {},
   "outputs": [
    {
     "name": "stdout",
     "output_type": "stream",
     "text": [
      "MAE:1.1473407420343684\n",
      "RMS: 47.688213027304904\n",
      "MAPE: 0.04146995207964064\n"
     ]
    }
   ],
   "source": [
    "test_predict_rf = clf.predict(X_test)\n",
    "\n",
    "print(\"MAE:\" + str(mean_absolute_error(y_test, test_predict_rf)))\n",
    "print(\"RMS: \" + str(sqrt(mean_squared_error(y_test, test_predict_rf))))\n",
    "print(\"MAPE: \" + str(mean_absolute_percentage_error(y_test, test_predict_rf)))"
   ]
  },
  {
   "cell_type": "markdown",
   "metadata": {},
   "source": [
    "# Neural Networks"
   ]
  },
  {
   "cell_type": "code",
   "execution_count": 219,
   "metadata": {},
   "outputs": [
    {
     "name": "stderr",
     "output_type": "stream",
     "text": [
      "Using TensorFlow backend.\n"
     ]
    }
   ],
   "source": [
    "# Importing the Keras libraries and package\n",
    "import tensorflow\n",
    "import keras\n",
    "from keras.models import Sequential\n",
    "from keras.layers import Dense"
   ]
  },
  {
   "cell_type": "markdown",
   "metadata": {},
   "source": [
    "Trianing"
   ]
  },
  {
   "cell_type": "code",
   "execution_count": 223,
   "metadata": {
    "collapsed": true
   },
   "outputs": [],
   "source": [
    "# Initialising the ANN\n",
    "classifier = Sequential()\n",
    "\n",
    "# Adding the input layer and the first hidden layer\n",
    "classifier.add(Dense(units = 6, kernel_initializer = 'uniform', activation = 'relu', input_dim = 23))\n",
    "\n",
    "# Adding the second hidden layer\n",
    "classifier.add(Dense(units = 3, kernel_initializer = 'uniform', activation = 'relu'))\n",
    "\n",
    "# Adding the output layer\n",
    "classifier.add(Dense(units = 1, kernel_initializer = 'uniform'))\n",
    "\n",
    "# Compiling the ANN\n",
    "classifier.compile(optimizer = 'adam',loss = 'mean_squared_error')"
   ]
  },
  {
   "cell_type": "code",
   "execution_count": 224,
   "metadata": {
    "scrolled": true
   },
   "outputs": [
    {
     "name": "stdout",
     "output_type": "stream",
     "text": [
      "Epoch 1/100\n",
      " - 2s - loss: 444734.3987\n",
      "Epoch 2/100\n",
      " - 1s - loss: 444494.6588\n",
      "Epoch 3/100\n",
      " - 1s - loss: 444264.4566\n",
      "Epoch 4/100\n",
      " - 1s - loss: 444034.8381\n",
      "Epoch 5/100\n",
      " - 1s - loss: 443805.6380\n",
      "Epoch 6/100\n",
      " - 1s - loss: 443577.2965\n",
      "Epoch 7/100\n",
      " - 1s - loss: 443349.4017\n",
      "Epoch 8/100\n",
      " - 1s - loss: 443122.2458\n",
      "Epoch 9/100\n",
      " - 1s - loss: 442895.4552\n",
      "Epoch 10/100\n",
      " - 1s - loss: 442669.5187\n",
      "Epoch 11/100\n",
      " - 1s - loss: 442443.9180\n",
      "Epoch 12/100\n",
      " - 1s - loss: 442218.4513\n",
      "Epoch 13/100\n",
      " - 1s - loss: 441993.4246\n",
      "Epoch 14/100\n",
      " - 1s - loss: 441768.5535\n",
      "Epoch 15/100\n",
      " - 1s - loss: 441544.5372\n",
      "Epoch 16/100\n",
      " - 1s - loss: 441321.0821\n",
      "Epoch 17/100\n",
      " - 1s - loss: 441097.9828\n",
      "Epoch 18/100\n",
      " - 1s - loss: 440874.9576\n",
      "Epoch 19/100\n",
      " - 1s - loss: 440652.2930\n",
      "Epoch 20/100\n",
      " - 1s - loss: 440430.3176\n",
      "Epoch 21/100\n",
      " - 1s - loss: 440208.6922\n",
      "Epoch 22/100\n",
      " - 1s - loss: 439987.7022\n",
      "Epoch 23/100\n",
      " - 1s - loss: 439766.7181\n",
      "Epoch 24/100\n",
      " - 1s - loss: 439546.1417\n",
      "Epoch 25/100\n",
      " - 1s - loss: 439326.4192\n",
      "Epoch 26/100\n",
      " - 1s - loss: 439107.3551\n",
      "Epoch 27/100\n",
      " - 1s - loss: 438888.5935\n",
      "Epoch 28/100\n",
      " - 1s - loss: 438670.1936\n",
      "Epoch 29/100\n",
      " - 1s - loss: 438452.4913\n",
      "Epoch 30/100\n",
      " - 2s - loss: 438235.4820\n",
      "Epoch 31/100\n",
      " - 1s - loss: 438018.7981\n",
      "Epoch 32/100\n",
      " - 1s - loss: 437802.0993\n",
      "Epoch 33/100\n",
      " - 1s - loss: 437585.8029\n",
      "Epoch 34/100\n",
      " - 1s - loss: 437370.2527\n",
      "Epoch 35/100\n",
      " - 1s - loss: 437154.9796\n",
      "Epoch 36/100\n",
      " - 1s - loss: 436940.5827\n",
      "Epoch 37/100\n",
      " - 1s - loss: 436726.7556\n",
      "Epoch 38/100\n",
      " - 1s - loss: 436512.8078\n",
      "Epoch 39/100\n",
      " - 1s - loss: 436299.0872\n",
      "Epoch 40/100\n",
      " - 1s - loss: 436086.0000\n",
      "Epoch 41/100\n",
      " - 1s - loss: 435873.2529\n",
      "Epoch 42/100\n",
      " - 1s - loss: 435660.6475\n",
      "Epoch 43/100\n",
      " - 1s - loss: 435448.8232\n",
      "Epoch 44/100\n",
      " - 1s - loss: 435237.7288\n",
      "Epoch 45/100\n",
      " - 1s - loss: 435027.0595\n",
      "Epoch 46/100\n",
      " - 1s - loss: 434816.5969\n",
      "Epoch 47/100\n",
      " - 1s - loss: 434606.3017\n",
      "Epoch 48/100\n",
      " - 1s - loss: 434397.0289\n",
      "Epoch 49/100\n",
      " - 1s - loss: 434188.1909\n",
      "Epoch 50/100\n",
      " - 1s - loss: 433979.6317\n",
      "Epoch 51/100\n",
      " - 1s - loss: 433771.2676\n",
      "Epoch 52/100\n",
      " - 1s - loss: 433563.4989\n",
      "Epoch 53/100\n",
      " - 1s - loss: 433356.0356\n",
      "Epoch 54/100\n",
      " - 1s - loss: 433149.0872\n",
      "Epoch 55/100\n",
      " - 1s - loss: 432942.5702\n",
      "Epoch 56/100\n",
      " - 1s - loss: 432736.6002\n",
      "Epoch 57/100\n",
      " - 1s - loss: 432531.3339\n",
      "Epoch 58/100\n",
      " - 1s - loss: 432326.3447\n",
      "Epoch 59/100\n",
      " - 1s - loss: 432121.4909\n",
      "Epoch 60/100\n",
      " - 1s - loss: 431917.6011\n",
      "Epoch 61/100\n",
      " - 1s - loss: 431713.9800\n",
      "Epoch 62/100\n",
      " - 1s - loss: 431510.4007\n",
      "Epoch 63/100\n",
      " - 1s - loss: 431307.1147\n",
      "Epoch 64/100\n",
      " - 1s - loss: 431104.3978\n",
      "Epoch 65/100\n",
      " - 1s - loss: 430902.7638\n",
      "Epoch 66/100\n",
      " - 1s - loss: 430701.7271\n",
      "Epoch 67/100\n",
      " - 1s - loss: 430500.6060\n",
      "Epoch 68/100\n",
      " - 1s - loss: 430299.8224\n",
      "Epoch 69/100\n",
      " - 1s - loss: 430099.6372\n",
      "Epoch 70/100\n",
      " - 1s - loss: 429899.8726\n",
      "Epoch 71/100\n",
      " - 1s - loss: 429700.3502\n",
      "Epoch 72/100\n",
      " - 1s - loss: 429501.6247\n",
      "Epoch 73/100\n",
      " - 1s - loss: 429303.2180\n",
      "Epoch 74/100\n",
      " - 1s - loss: 429104.8487\n",
      "Epoch 75/100\n",
      " - 1s - loss: 428907.1198\n",
      "Epoch 76/100\n",
      " - 1s - loss: 428709.4882\n",
      "Epoch 77/100\n",
      " - 1s - loss: 428512.4449\n",
      "Epoch 78/100\n",
      " - 1s - loss: 428316.1672\n",
      "Epoch 79/100\n",
      " - 1s - loss: 428120.2602\n",
      "Epoch 80/100\n",
      " - 1s - loss: 427924.8091\n",
      "Epoch 81/100\n",
      " - 1s - loss: 427729.9993\n",
      "Epoch 82/100\n",
      " - 1s - loss: 427535.6597\n",
      "Epoch 83/100\n",
      " - 1s - loss: 427341.6964\n",
      "Epoch 84/100\n",
      " - 1s - loss: 427148.2316\n",
      "Epoch 85/100\n",
      " - 1s - loss: 426955.5079\n",
      "Epoch 86/100\n",
      " - 1s - loss: 426762.9038\n",
      "Epoch 87/100\n",
      " - 1s - loss: 426569.8743\n",
      "Epoch 88/100\n",
      " - 1s - loss: 426377.4626\n",
      "Epoch 89/100\n",
      " - 1s - loss: 426186.0060\n",
      "Epoch 90/100\n",
      " - 1s - loss: 425995.0142\n",
      "Epoch 91/100\n",
      " - 1s - loss: 425804.1812\n",
      "Epoch 92/100\n",
      " - 1s - loss: 425613.6226\n",
      "Epoch 93/100\n",
      " - 1s - loss: 425423.4178\n",
      "Epoch 94/100\n",
      " - 1s - loss: 425233.8037\n",
      "Epoch 95/100\n",
      " - 1s - loss: 425045.2505\n",
      "Epoch 96/100\n",
      " - 1s - loss: 424856.5824\n",
      "Epoch 97/100\n",
      " - 1s - loss: 424668.1798\n",
      "Epoch 98/100\n",
      " - 1s - loss: 424480.3141\n",
      "Epoch 99/100\n",
      " - 1s - loss: 424292.5540\n",
      "Epoch 100/100\n",
      " - 1s - loss: 424105.4994\n"
     ]
    },
    {
     "data": {
      "text/plain": [
       "<keras.callbacks.History at 0xa9ddec9e10>"
      ]
     },
     "execution_count": 224,
     "metadata": {},
     "output_type": "execute_result"
    }
   ],
   "source": [
    "classifier.fit(X_train, y_train,  batch_size = 126, epochs = 100, verbose= 2, shuffle= True)"
   ]
  },
  {
   "cell_type": "code",
   "execution_count": 225,
   "metadata": {
    "collapsed": true
   },
   "outputs": [],
   "source": [
    "train_pred_ann = classifier.predict(X_train)"
   ]
  },
  {
   "cell_type": "code",
   "execution_count": null,
   "metadata": {},
   "outputs": [
    {
     "name": "stdout",
     "output_type": "stream",
     "text": [
      "MAE:215.69014876955555\n",
      "RMS: 651.1622014027478\n"
     ]
    }
   ],
   "source": [
    "print(\"MAE:\" + str(mean_absolute_error(y_train, train_pred_ann)))\n",
    "print(\"RMS: \" + str(sqrt(mean_squared_error(y_train, train_pred_ann))))\n",
    "print(\"MAPE: \" + str(mean_absolute_percentage_error(y_train, train_pred_ann)))"
   ]
  },
  {
   "cell_type": "markdown",
   "metadata": {},
   "source": [
    "# Testing"
   ]
  },
  {
   "cell_type": "code",
   "execution_count": 228,
   "metadata": {},
   "outputs": [],
   "source": [
    "pred_test_ann = classifier.predict(X_test)"
   ]
  },
  {
   "cell_type": "code",
   "execution_count": 229,
   "metadata": {},
   "outputs": [
    {
     "name": "stdout",
     "output_type": "stream",
     "text": [
      "MAE:211.70253788653127\n",
      "RMS: 628.1829339995386\n",
      "MAPE: 75.10450877591661\n"
     ]
    }
   ],
   "source": [
    "print(\"MAE:\" + str(mean_absolute_error(y_test, pred_test_ann)))\n",
    "print(\"RMS: \" + str(sqrt(mean_squared_error(y_test, pred_test_ann))))\n",
    "print(\"MAPE: \" + str(mean_absolute_percentage_error(y_test, pred_test_ann)))"
   ]
  },
  {
   "cell_type": "code",
   "execution_count": null,
   "metadata": {
    "collapsed": true
   },
   "outputs": [],
   "source": []
  }
 ],
 "metadata": {
  "kernelspec": {
   "display_name": "Python 3",
   "language": "python",
   "name": "python3"
  },
  "language_info": {
   "codemirror_mode": {
    "name": "ipython",
    "version": 3
   },
   "file_extension": ".py",
   "mimetype": "text/x-python",
   "name": "python",
   "nbconvert_exporter": "python",
   "pygments_lexer": "ipython3",
   "version": "3.6.1"
  }
 },
 "nbformat": 4,
 "nbformat_minor": 2
}
