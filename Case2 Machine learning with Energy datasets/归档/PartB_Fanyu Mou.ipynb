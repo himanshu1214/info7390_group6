{
 "cells": [
  {
   "cell_type": "code",
   "execution_count": 1,
   "metadata": {
    "collapsed": true
   },
   "outputs": [],
   "source": [
    "from __future__ import print_function\n",
    "import urllib3 #  pip install -i https://pypi.anaconda.org/pypi/simple urllib3\n",
    "import unicodedata\n",
    "from bs4 import BeautifulSoup, SoupStrainer, Comment\n",
    "import warnings\n",
    "warnings.filterwarnings('ignore')"
   ]
  },
  {
   "cell_type": "code",
   "execution_count": 2,
   "metadata": {
    "collapsed": true
   },
   "outputs": [],
   "source": [
    "url='https://www.billboard.com/'"
   ]
  },
  {
   "cell_type": "code",
   "execution_count": 3,
   "metadata": {},
   "outputs": [
    {
     "data": {
      "text/plain": [
       "200"
      ]
     },
     "execution_count": 3,
     "metadata": {},
     "output_type": "execute_result"
    }
   ],
   "source": [
    "http = urllib3.PoolManager()\n",
    "response = http.request('GET',url)\n",
    "response.status"
   ]
  },
  {
   "cell_type": "code",
   "execution_count": 4,
   "metadata": {
    "collapsed": true
   },
   "outputs": [],
   "source": [
    "soup=BeautifulSoup(response.data, \"lxml\")"
   ]
  },
  {
   "cell_type": "code",
   "execution_count": 5,
   "metadata": {},
   "outputs": [
    {
     "data": {
      "text/plain": [
       "<a class=\"site-header__brand-link\" href=\"/\">\n",
       "<img alt=\"Billboard\" class=\"site-header__brand-logo\" src=\"https://assets.billboard.com/assets/1516894504/images/Billboard-white.svg?6da0da19dc1d3296bbd2\"/>\n",
       "<span class=\"site-header__brand-name\">Billboard</span>\n",
       "</a>"
      ]
     },
     "execution_count": 5,
     "metadata": {},
     "output_type": "execute_result"
    }
   ],
   "source": [
    "soup.find('a')"
   ]
  },
  {
   "cell_type": "code",
   "execution_count": 6,
   "metadata": {
    "collapsed": true
   },
   "outputs": [],
   "source": [
    "html=soup.find('a')"
   ]
  },
  {
   "cell_type": "code",
   "execution_count": 7,
   "metadata": {
    "collapsed": true
   },
   "outputs": [],
   "source": [
    "l=soup.find_all('a')"
   ]
  },
  {
   "cell_type": "code",
   "execution_count": 8,
   "metadata": {},
   "outputs": [
    {
     "data": {
      "text/plain": [
       "'https://subscribe.billboard.com/sub/?p=BBL&f=sale&s=IB1404NS08'"
      ]
     },
     "execution_count": 8,
     "metadata": {},
     "output_type": "execute_result"
    }
   ],
   "source": [
    "l[1]['href']"
   ]
  },
  {
   "cell_type": "code",
   "execution_count": 9,
   "metadata": {},
   "outputs": [
    {
     "data": {
      "text/plain": [
       "200"
      ]
     },
     "execution_count": 9,
     "metadata": {},
     "output_type": "execute_result"
    }
   ],
   "source": [
    "response = http.request('GET',l[1]['href'])\n",
    "response.status"
   ]
  },
  {
   "cell_type": "code",
   "execution_count": 10,
   "metadata": {
    "collapsed": true
   },
   "outputs": [],
   "source": [
    "import datetime"
   ]
  },
  {
   "cell_type": "code",
   "execution_count": 11,
   "metadata": {
    "collapsed": true
   },
   "outputs": [],
   "source": [
    "vali = ''"
   ]
  },
  {
   "cell_type": "code",
   "execution_count": 12,
   "metadata": {
    "collapsed": true
   },
   "outputs": [],
   "source": [
    "if response.status==200:\n",
    "    vali = 'valid'\n",
    "        \n",
    "else: \n",
    "    vali = 'not valid'"
   ]
  },
  {
   "cell_type": "code",
   "execution_count": 13,
   "metadata": {
    "collapsed": true
   },
   "outputs": [],
   "source": [
    "linklist=[]"
   ]
  },
  {
   "cell_type": "code",
   "execution_count": 14,
   "metadata": {},
   "outputs": [
    {
     "name": "stdout",
     "output_type": "stream",
     "text": [
      "url: https://subscribe.billboard.com/sub/?p=BBL&f=sale&s=IB1404NS08 Description: \n",
      "Subscribe now\n",
      " 18-01-26-12-43 valid\n",
      "url: https://www.facebook.com/Billboard/ Description: \n",
      "\n",
      " 18-01-26-12-43 valid\n",
      "url: https://twitter.com/billboard Description: \n",
      "\n",
      " 18-01-26-12-43 valid\n",
      "url: http://www.pretareporter.com Description: \n",
      "Pret-a-Reporter\n",
      " 18-01-26-12-43 valid\n",
      "url: https://subscribe.billboard.com/sub/?p=BBL&f=sale&s=IB1404NS08 Description: \n",
      "Subscribe\n",
      " 18-01-26-12-43 valid\n",
      "url: https://subscribe.billboard.com/sub/?p=BBL&f=sale&s=IB1404NS08 Description: \n",
      "\n",
      " 18-01-26-12-43 valid\n",
      "url: https://subscribe.billboard.com/sub/?p=BBL&f=landing Description: Customer Service 18-01-26-12-43 valid\n",
      "url: https://subscribe.billboard.com/sub/?p=BBL&f=sale&s=IB1404NS03 Description: Subscribe 18-01-26-12-43 valid\n",
      "url: http://shop.billboard.com/ Description: Buy this issue 18-01-26-12-43 valid\n",
      "url: http://www.facebook.com/Billboard Description: Facebook 18-01-26-12-43 valid\n",
      "url: https://twitter.com/billboard Description: Twitter 18-01-26-12-43 valid\n",
      "url: https://plus.google.com/+Billboard/posts Description: Google+ 18-01-26-12-43 valid\n",
      "url: http://youtube.com/billboard Description: YouTube 18-01-26-12-43 valid\n",
      "url: http://instagram.com/billboard Description: Instagram 18-01-26-12-43 valid\n",
      "url: http://billboard.tumblr.com/ Description: Tumblr 18-01-26-12-43 valid\n",
      "url: http://pinterest.com/billboard Description: Pinterest 18-01-26-12-43 valid\n",
      "url: http://open.spotify.com/app/billboard Description: Spotify 18-01-26-12-43 valid\n",
      "url: http://store.billboard.com/ Description: Shop 18-01-26-12-43 valid\n",
      "url: http://prometheusglobalmedia.applytojob.com/ Description: Jobs 18-01-26-12-43 valid\n",
      "url: http://billboardlicensing.licensestream.com Description: Chart Licensing 18-01-26-12-43 valid\n",
      "url: https://docs.google.com/spreadsheet/viewform?formkey=dDZ1RmJPWndBRmc0cThUOEMwMXhLMXc6MQ#gid=0 Description: Feedback 18-01-26-12-43 valid\n",
      "url: http://www.metrolyrics.com/ Description: Lyrics 18-01-26-12-43 valid\n",
      "url: http://www.hollywoodreporter.com/ Description:  18-01-26-12-43 valid\n",
      "url: http://www.spin.com/ Description:  18-01-26-12-43 valid\n",
      "url: http://www.vibe.com/ Description:  18-01-26-12-43 valid\n",
      "url: http://www.stereogum.com/ Description:  18-01-26-12-43 valid\n",
      "url: http://www.deathandtaxesmag.com/ Description:  18-01-26-12-43 valid\n"
     ]
    }
   ],
   "source": [
    "for a in soup.find_all('a',href = True ):\n",
    "    if (a['href'].startswith(\"http\")):\n",
    "        if not (a['href'].startswith(\"https://www.billboard\")):\n",
    "            if not (a['href'].startswith(\"http://www.billboard\")):\n",
    "                print(\"url:\",a['href'],\"Description:\",a.text,datetime.datetime.now().strftime(\"%y-%m-%d-%H-%M\"),vali) \n",
    "                linklist.append((a['href'],a.text,datetime.datetime.now().strftime(\"%y-%m-%d-%H-%M\"),vali))"
   ]
  },
  {
   "cell_type": "code",
   "execution_count": 15,
   "metadata": {
    "collapsed": true
   },
   "outputs": [],
   "source": [
    "import csv\n",
    "with open('linklist_FanyuMou.csv','w') as f:\n",
    "    writer = csv.writer(f)\n",
    "    writer.writerow(['Link', 'Description', 'Time','Valid'])\n",
    "    writer.writerows(linklist)"
   ]
  },
  {
   "cell_type": "code",
   "execution_count": null,
   "metadata": {
    "collapsed": true
   },
   "outputs": [],
   "source": []
  }
 ],
 "metadata": {
  "kernelspec": {
   "display_name": "Python 3",
   "language": "python",
   "name": "python3"
  },
  "language_info": {
   "codemirror_mode": {
    "name": "ipython",
    "version": 3
   },
   "file_extension": ".py",
   "mimetype": "text/x-python",
   "name": "python",
   "nbconvert_exporter": "python",
   "pygments_lexer": "ipython3",
   "version": "3.7.0"
  }
 },
 "nbformat": 4,
 "nbformat_minor": 2
}
