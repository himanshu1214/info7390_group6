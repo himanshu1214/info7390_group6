{
 "cells": [
  {
   "cell_type": "code",
   "execution_count": 16,
   "metadata": {},
   "outputs": [],
   "source": [
    "import pandas as pd\n",
    "import numpy as np\n",
    "from sklearn.pipeline import Pipeline\n",
    "from mlxtend.feature_selection import ExhaustiveFeatureSelector as EFS\n",
    "from sklearn.ensemble import RandomForestRegressor\n",
    "from sklearn.model_selection import train_test_split\n",
    "from sklearn.feature_selection import SelectFromModel\n",
    "    \n",
    "import warnings\n",
    "warnings.filterwarnings(\"ignore\")"
   ]
  },
  {
   "cell_type": "code",
   "execution_count": 15,
   "metadata": {},
   "outputs": [
    {
     "data": {
      "text/plain": [
       "(986, 29)"
      ]
     },
     "execution_count": 15,
     "metadata": {},
     "output_type": "execute_result"
    }
   ],
   "source": [
    "# read data\n",
    "df = pd.read_csv(\"energy_consumption.csv\")\n",
    "\n",
    "# drop categorical columns\n",
    "df = df.drop(['date','week_of_day','week_status','week'], axis=1) \n",
    "\n",
    "# split x, y\n",
    "y = df['Appliances']\n",
    "x = df.drop(['Appliances'], axis=1)\n",
    "\n",
    "# split train and test \n",
    "x_train, x_test, y_train, y_test = train_test_split(x, y, train_size=0.05, random_state=0)\n",
    "x_train.shape"
   ]
  },
  {
   "cell_type": "code",
   "execution_count": 18,
   "metadata": {},
   "outputs": [
    {
     "ename": "TypeError",
     "evalue": "'tuple' object is not callable",
     "output_type": "error",
     "traceback": [
      "\u001b[0;31m---------------------------------------------------------------------------\u001b[0m",
      "\u001b[0;31mTypeError\u001b[0m                                 Traceback (most recent call last)",
      "\u001b[0;32m<ipython-input-18-f5c0ec23d041>\u001b[0m in \u001b[0;36m<module>\u001b[0;34m()\u001b[0m\n\u001b[1;32m      8\u001b[0m                              \u001b[0mn_jobs\u001b[0m\u001b[0;34m=\u001b[0m\u001b[0;34m-\u001b[0m\u001b[0;36m1\u001b[0m\u001b[0;34m,\u001b[0m\u001b[0;34m\u001b[0m\u001b[0m\n\u001b[1;32m      9\u001b[0m                              \u001b[0mprint_progress\u001b[0m\u001b[0;34m=\u001b[0m\u001b[0;32mTrue\u001b[0m\u001b[0;34m,\u001b[0m\u001b[0;34m\u001b[0m\u001b[0m\n\u001b[0;32m---> 10\u001b[0;31m                              cv=8)),\n\u001b[0m\u001b[1;32m     11\u001b[0m     \u001b[0;31m# part 6: modela validation and selection\u001b[0m\u001b[0;34m\u001b[0m\u001b[0;34m\u001b[0m\u001b[0m\n\u001b[1;32m     12\u001b[0m     \u001b[0;34m(\u001b[0m\u001b[0;34m'regression_model'\u001b[0m\u001b[0;34m,\u001b[0m\u001b[0mRandomForestRegressor\u001b[0m\u001b[0;34m(\u001b[0m\u001b[0;34m)\u001b[0m\u001b[0;34m)\u001b[0m\u001b[0;34m\u001b[0m\u001b[0m\n",
      "\u001b[0;31mTypeError\u001b[0m: 'tuple' object is not callable"
     ]
    }
   ],
   "source": [
    "pipe=Pipeline([\n",
    "    # part 5: feature selection\n",
    "    ('select_from_model',SelectFromModel(RandomForestRegressor(n_estimators=100)))\n",
    "    ('exhaustive_selection',EFS(RandomForestRegressor(n_estimators=100), \n",
    "                             min_features=8,\n",
    "                             max_features=11,\n",
    "                             scoring='mean_absolute_error',\n",
    "                             n_jobs=-1,\n",
    "                             print_progress=True,\n",
    "                             cv=8)),\n",
    "    # part 6: modela validation and selection\n",
    "    ('regression_model',RandomForestRegressor(bootstrap= True,\n",
    "                                              max_depth=35,\n",
    "                                              max_features=5,\n",
    "                                              min_samples_leaf=3,\n",
    "                                              min_samples_split=8,\n",
    "                                              n_estimators=110))\n",
    "])"
   ]
  }
 ],
 "metadata": {
  "kernelspec": {
   "display_name": "Python 3",
   "language": "python",
   "name": "python3"
  },
  "language_info": {
   "codemirror_mode": {
    "name": "ipython",
    "version": 3
   },
   "file_extension": ".py",
   "mimetype": "text/x-python",
   "name": "python",
   "nbconvert_exporter": "python",
   "pygments_lexer": "ipython3",
   "version": "3.6.5"
  }
 },
 "nbformat": 4,
 "nbformat_minor": 2
}
