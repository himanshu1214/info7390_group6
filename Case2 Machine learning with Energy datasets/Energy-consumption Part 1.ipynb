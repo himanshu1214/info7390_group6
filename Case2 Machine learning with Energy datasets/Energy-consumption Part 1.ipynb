{
 "cells": [
  {
   "cell_type": "markdown",
   "metadata": {},
   "source": [
    "# Research Paper1 :"
   ]
  },
  {
   "cell_type": "markdown",
   "metadata": {},
   "source": [
    "Topic: Data Driven prediction of model of energy use of appliances\n",
    "#Data Source: \n",
    "1. Data from home- \n",
    "2. sensor data from home - Temp, Humidity\n",
    "3. components of energy consumption: Appliances, Light\n",
    "4. Data from weather: recorded from nearest Airport\n",
    "\n",
    "Data format: \n",
    "1. Timeseries data collected over a period of 6 months\n",
    "2. sensor data collected every 10 minutes\n",
    "\n",
    "Target Parameter: \n",
    "1. Energy consumption\n",
    "\n",
    "EDA:\n",
    "1. Average Electricity consumption and frequency of variety of power consumption\n",
    "2. Correlation diag between electricity consumption of appliances, Room Temperature, Relative Humidity are measured.\n",
    "3. Relationship between indoor temperature and weather conditions outside {Pressure, Temperature, Windspeed}\n",
    "4. positive correlation energy consumption vs lights, Appliances & T2, Appliances & Outdoor Temp, NSM & Appliances\n",
    "5. Negative correlation appliances & outdoor humidity \n",
    "\n",
    "Data Filtering\n",
    "1. Parameter selection based on which features are improving the accuracy of model.\n",
    "\n",
    "Boruta Algorithm:\n",
    "1. Comparision of random parameter (as base) with other parameters \n",
    "2. Ranks the variables NSM: high ranked, week status- weak\n",
    "\n",
    "Correaltion with RMSE:\n",
    "1. RFE algorithm applied and dummy variables are introduced for week of day and week status. Number of optimal parameter are 34.\n",
    "\n",
    "Performance of regression model: {LM, GBM, SVM, Random Forest are used}\n",
    "1. 10 cross validation are applied for making the model robust. \n",
    "2. Since the RMSE for linear model are not normally distributed hence is not accurate to use.\n",
    "\n",
    "Four Parameter used for performance evaluation of model:\n",
    "1. RMSE\n",
    "2. R2\n",
    "3. MAE\n",
    "4. MAPE\n",
    "\n",
    "SVR radial kernel - {sigma and cost function are tuning parameters apart from 12 parameters}\n",
    "\n",
    "Random Forest model - Tree based model\n",
    "1. Tree based on random set of predictors for removing the correlation between trees & improve the prediction.\n",
    "2. predicts optimal number of trees (300) - {RMSE stops improving after that}\n",
    "3. Number of optimal variables for the model calculated as 18. \n",
    "\n",
    "GBM model: \n",
    "1. Improve prediction of information from first trees. \n",
    "2. Require selection of optimal paramter for number of trees(10900) & tree depth (5)\n",
    "\n",
    "Model Selection:\n",
    "1. 5 Model from 10 cross validation & 3 repeats.\n",
    "2. RFE & GBM- similatr performance on RMSE & R2.\n",
    "3. SVR is better than LM.\n",
    "\n",
    "variable importance measured by residual sum of squares\n",
    "GBM is best. \n",
    "\n",
    "Evaluating further GBM & variable importance:\n",
    "1. subsets of variables as model variables - RMSE parameter is computed\n"
   ]
  },
  {
   "cell_type": "markdown",
   "metadata": {},
   "source": [
    "#Reseach Paper3:\n",
    "Perdiction of Appliance use in smart homes:\n",
    "1. The paper predicts the energy consumption on the next day. Two basic predcitors and one stochastic predictor is proposed.\n",
    "2. Predictors gives better performance than other approaches.\n",
    "3. Two processings are proposed to improve the prediction, segmentation, aggregation of data. \n",
    "4. Data was collected from European countrries including Central and Eastern Europen Countries(REMODECE database)\n",
    "5. Hourly data was analysed for appliances over a year. \n",
    "6. The performance of the predictor is evaluated using e(h), which is 1 if the appliance is actually consuming the electricity,else 0. P(h) be the prediction provided by the predictor a , which is equal to 1 if the appliance is acually consuming the electricity else 0. Then with the formula the precision of the predictor is calculated for any time. \n",
    "\n",
    "proposed algorithm for assessing a predictor a involves the following steps:\n",
    "1. Set the time window dimension to n hours within the period for which the historical data was registered where n goes from 24 to 364 * 24;\n",
    "2. Compute the predictions for the data corresponding to the historical sliding time window;\n",
    "3. Compute the predictor precision pa(h) based on the “next day” data for all possible hours h and compute an average precision for the predictor.\n",
    "\n",
    "Prediction with different predictors:\n",
    "1. \"Will Always cosume\" and \"Will never consume predictors\" \n",
    "It refers to the probability of the appliance will consume and vice versa\n",
    "\n",
    "ARMA predictor:\n",
    "1. In the algorithm the current value of a time variable is made a function of its past values and is expresses as sum of weights. \n",
    "2. This ARMA model was used in order to predict the next day energy consumption.\n",
    "\n",
    "Proposed Predictor:\n",
    "1. Proposed predictor specifies the probability of the appliance to consume on an hourly base\n",
    "\n",
    "Improving the Prediciton precison:\n",
    "1. temporal segmentation, that considers each day of the week as a partition was done.\n",
    "2. the hourly predictions are made considering the proposed predictor. A k-Means clustering algorithm is applied in order to group the similar consumption days.\n",
    "3. Each cluster is defined by its cluster center and clustering proceeds by assigning each of the input data to the cluster with the closest centre.\n",
    "\n",
    "Prediction precison after clustering:\n",
    "1. After applying the iterative k-Means algorithm, two clusters are obtained. In the presented case, cluster C1 groups weekdays data and cluster C2 gathers Saturday and Sunday data"
   ]
  },
  {
   "cell_type": "markdown",
   "metadata": {},
   "source": [
    "#Research Paper 2:\n",
    "1. Engineering and hybrid approaches use thermodynamic equations to estimate energy use, the AI-based approach uses historical data to predict future energy use under constraints. \n",
    "2. Ease of use and adaptability to seek optimal solutions in a rapid manner, the AI-based approach has gained popularity in recent years. \n",
    "3. Approaches for building energy use prediction, conducts an in-depth review of single AI-based methods such as multiple linear regression, artificial neural networks, and support vector regression, and ensemble prediction method \n",
    "4. Combining multiple single AI-based prediction models improves the prediction accuracy manifold. This paper elaborates the principles, applications, advantages and limitations of these AI-based prediction methods and concludes with a discussion on the future directions of the research on AI-based methods for building energy use prediction.\n"
   ]
  }
 ],
 "metadata": {
  "kernelspec": {
   "display_name": "Python 3",
   "language": "python",
   "name": "python3"
  },
  "language_info": {
   "codemirror_mode": {
    "name": "ipython",
    "version": 3
   },
   "file_extension": ".py",
   "mimetype": "text/x-python",
   "name": "python",
   "nbconvert_exporter": "python",
   "pygments_lexer": "ipython3",
   "version": "3.6.1"
  }
 },
 "nbformat": 4,
 "nbformat_minor": 2
}
