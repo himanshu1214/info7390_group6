{
 "cells": [
  {
   "cell_type": "markdown",
   "metadata": {},
   "source": [
    "# Part 5: Feature Selection"
   ]
  },
  {
   "cell_type": "code",
   "execution_count": 1,
   "metadata": {},
   "outputs": [],
   "source": [
    "import pandas as pd\n",
    "from sklearn.feature_selection import VarianceThreshold\n",
    "from sklearn.feature_selection import SelectKBest\n",
    "from sklearn.feature_selection import f_regression\n",
    "from sklearn.feature_selection import mutual_info_regression\n",
    "from sklearn.feature_selection import SelectFpr\n",
    "from sklearn.feature_selection import RFE\n",
    "from sklearn.linear_model import LogisticRegression\n",
    "from sklearn.model_selection import train_test_split\n",
    "\n",
    "%matplotlib inline\n",
    "import matplotlib.pyplot as plt\n",
    "import seaborn as sns\n",
    "\n",
    "import warnings\n",
    "warnings.filterwarnings(\"ignore\")"
   ]
  },
  {
   "cell_type": "code",
   "execution_count": 2,
   "metadata": {},
   "outputs": [
    {
     "name": "stdout",
     "output_type": "stream",
     "text": [
      "<class 'pandas.core.frame.DataFrame'>\n",
      "RangeIndex: 19735 entries, 0 to 19734\n",
      "Data columns (total 34 columns):\n",
      "date              19735 non-null object\n",
      "Appliances        19735 non-null int64\n",
      "lights            19735 non-null int64\n",
      "T1                19735 non-null float64\n",
      "RH_1              19735 non-null float64\n",
      "T2                19735 non-null float64\n",
      "RH_2              19735 non-null float64\n",
      "T3                19735 non-null float64\n",
      "RH_3              19735 non-null float64\n",
      "T4                19735 non-null float64\n",
      "RH_4              19735 non-null float64\n",
      "T5                19735 non-null float64\n",
      "RH_5              19735 non-null float64\n",
      "T6                19735 non-null float64\n",
      "RH_6              19735 non-null float64\n",
      "T7                19735 non-null float64\n",
      "RH_7              19735 non-null float64\n",
      "T8                19735 non-null float64\n",
      "RH_8              19735 non-null float64\n",
      "T9                19735 non-null float64\n",
      "RH_9              19735 non-null float64\n",
      "T_out             19735 non-null float64\n",
      "Press_mm_hg       19735 non-null float64\n",
      "RH_out            19735 non-null float64\n",
      "Windspeed         19735 non-null float64\n",
      "Visibility        19735 non-null float64\n",
      "Tdewpoint         19735 non-null float64\n",
      "rv1               19735 non-null float64\n",
      "rv2               19735 non-null float64\n",
      "weekday_number    19735 non-null int64\n",
      "week_of_day       19735 non-null object\n",
      "week_status       19735 non-null object\n",
      "NSM               19735 non-null int64\n",
      "week              19735 non-null int64\n",
      "dtypes: float64(26), int64(5), object(3)\n",
      "memory usage: 5.1+ MB\n"
     ]
    }
   ],
   "source": [
    "df = pd.read_csv(\"energy_consumption.csv\")\n",
    "df.info()"
   ]
  },
  {
   "cell_type": "code",
   "execution_count": 4,
   "metadata": {},
   "outputs": [
    {
     "name": "stdout",
     "output_type": "stream",
     "text": [
      "<class 'pandas.core.frame.DataFrame'>\n",
      "RangeIndex: 19735 entries, 0 to 19734\n",
      "Data columns (total 30 columns):\n",
      "Appliances        19735 non-null int64\n",
      "lights            19735 non-null int64\n",
      "T1                19735 non-null float64\n",
      "RH_1              19735 non-null float64\n",
      "T2                19735 non-null float64\n",
      "RH_2              19735 non-null float64\n",
      "T3                19735 non-null float64\n",
      "RH_3              19735 non-null float64\n",
      "T4                19735 non-null float64\n",
      "RH_4              19735 non-null float64\n",
      "T5                19735 non-null float64\n",
      "RH_5              19735 non-null float64\n",
      "T6                19735 non-null float64\n",
      "RH_6              19735 non-null float64\n",
      "T7                19735 non-null float64\n",
      "RH_7              19735 non-null float64\n",
      "T8                19735 non-null float64\n",
      "RH_8              19735 non-null float64\n",
      "T9                19735 non-null float64\n",
      "RH_9              19735 non-null float64\n",
      "T_out             19735 non-null float64\n",
      "Press_mm_hg       19735 non-null float64\n",
      "RH_out            19735 non-null float64\n",
      "Windspeed         19735 non-null float64\n",
      "Visibility        19735 non-null float64\n",
      "Tdewpoint         19735 non-null float64\n",
      "rv1               19735 non-null float64\n",
      "rv2               19735 non-null float64\n",
      "weekday_number    19735 non-null int64\n",
      "NSM               19735 non-null int64\n",
      "dtypes: float64(26), int64(4)\n",
      "memory usage: 4.5 MB\n"
     ]
    }
   ],
   "source": [
    "df = df.drop(['date','week_of_day','week_status','week'], axis=1)\n",
    "df.info()"
   ]
  },
  {
   "cell_type": "markdown",
   "metadata": {},
   "source": [
    "## Removing features with low varaince\n"
   ]
  },
  {
   "cell_type": "markdown",
   "metadata": {},
   "source": [
    "## Univariate feature selection"
   ]
  },
  {
   "cell_type": "code",
   "execution_count": 7,
   "metadata": {},
   "outputs": [
    {
     "data": {
      "text/plain": [
       "(19735, 29)"
      ]
     },
     "execution_count": 7,
     "metadata": {},
     "output_type": "execute_result"
    }
   ],
   "source": [
    "y = df['Appliances']\n",
    "x = df.drop(['Appliances'], axis=1)\n",
    "x.shape"
   ]
  },
  {
   "cell_type": "markdown",
   "metadata": {},
   "source": [
    "#### Comparison of F-test and mutual information\n",
    "http://scikit-learn.org/stable/auto_examples/feature_selection/plot_f_test_vs_mi.html#sphx-glr-auto-examples-feature-selection-plot-f-test-vs-mi-py"
   ]
  },
  {
   "cell_type": "code",
   "execution_count": null,
   "metadata": {},
   "outputs": [],
   "source": [
    "from sklearn.feature_selection import RFE\n",
    "from sklearn.svm import SVR\n",
    "estimator = SVR(kernel=\"linear\")\n",
    "selector = RFE(estimator, 20, step = 1).fit(x_train,y_train)\n",
    "names = x.columns.values[selector.get_support()]"
   ]
  },
  {
   "cell_type": "markdown",
   "metadata": {},
   "source": [
    "## Feature selection using SelectFromModel"
   ]
  },
  {
   "cell_type": "markdown",
   "metadata": {},
   "source": [
    "### L1-based feature selection"
   ]
  },
  {
   "cell_type": "code",
   "execution_count": null,
   "metadata": {},
   "outputs": [],
   "source": [
    "from sklearn.svm import LinearSVC\n",
    "from sklearn.feature_selection import SelectFromModel\n",
    "\n"
   ]
  }
 ],
 "metadata": {
  "kernelspec": {
   "display_name": "Python 3",
   "language": "python",
   "name": "python3"
  },
  "language_info": {
   "codemirror_mode": {
    "name": "ipython",
    "version": 3
   },
   "file_extension": ".py",
   "mimetype": "text/x-python",
   "name": "python",
   "nbconvert_exporter": "python",
   "pygments_lexer": "ipython3",
   "version": "3.6.5"
  }
 },
 "nbformat": 4,
 "nbformat_minor": 2
}
