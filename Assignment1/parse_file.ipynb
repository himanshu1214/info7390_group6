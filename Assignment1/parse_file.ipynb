{
 "cells": [
  {
   "cell_type": "code",
   "execution_count": 107,
   "metadata": {},
   "outputs": [],
   "source": [
    "from urllib.request import urlopen\n",
    "from bs4 import BeautifulSoup\n",
    "import unicodedata\n",
    "import csv\n",
    "import pandas as pd\n",
    "\n",
    "# IBM\n",
    "#company ID\n",
    "CIK = '51143' \n",
    "#document accession number\n",
    "acc_no = '0000051143-13-000007'\n",
    "\n",
    "# Ggogle\n",
    "# #company ID\n",
    "# CIK = '1288776' \n",
    "# #document accession number\n",
    "# acc_no = '0001288776-15-000046'\n",
    "\n",
    "# replace '_' in accession number\n",
    "string1 = acc_no.replace('-','')\n",
    "\n",
    "# generate index url\n",
    "indexUrl = 'https://www.sec.gov/Archives/edgar/data/' + CIK + '/' + string1 + '/' + acc_no + '-index.html'\n",
    "\n",
    "# create a function that extract soup object from the given url\n",
    "def file_from_url(url):\n",
    "    # get the html document from the url\n",
    "    response = urlopen(url)\n",
    "    # import beautiful soup to represent the document as a nested data structure\n",
    "    page = BeautifulSoup(response,'lxml')\n",
    "    return page\n",
    "\n",
    "indexPage = file_from_url(indexUrl)\n",
    "# extract second row in the table 'tableFile'\n",
    "table = indexPage.find('table', class_= 'tableFile')\n",
    "row = table.findAll('tr')\n",
    "url = 'https://www.sec.gov' + row[1].a.get('href')\n",
    "\n",
    "# here only extrat the first useful table as sample and write the raw table to out.csv\n",
    "df = pd.read_html(url)\n",
    "df = pd.DataFrame(df[4])\n",
    "df.to_csv('out.csv',index = False)\n"
   ]
  },
  {
   "cell_type": "code",
   "execution_count": 1,
   "metadata": {},
   "outputs": [],
   "source": [
    "\n",
    "import pandas as pd\n",
    "import numpy as np\n",
    "\n",
    "# read the raw table from out.csv\n",
    "df1 = pd.read_csv('out.csv')\n",
    "\n",
    "# replace the $ sign in the table\n",
    "df1 = df1.replace('$',None)\n",
    "\n",
    "# shift the row left whose firs column is none\n",
    "s1 = df1[df1.columns[0]]\n",
    "for i,x in enumerate(s1):\n",
    "    if pd.isnull(s1[i]) and i > 1:\n",
    "        df1.iloc[i]=df1.iloc[i].shift(-1)\n",
    "\n",
    "# drop the rows and columns which contains all none data\n",
    "df1.dropna(how='all',inplace=True)\n",
    "df1.dropna(axis=1, how = 'all',inplace=True)\n",
    "\n",
    "# replace nan to blank\n",
    "df1.fillna('',inplace=True)\n",
    "\n",
    "# show the finished table and write to csv\n",
    "df1.style\n",
    "df1.to_csv('table4.csv',index=False)\n"
   ]
  }
 ],
 "metadata": {
  "kernelspec": {
   "display_name": "Python 3",
   "language": "python",
   "name": "python3"
  },
  "language_info": {
   "codemirror_mode": {
    "name": "ipython",
    "version": 3
   },
   "file_extension": ".py",
   "mimetype": "text/x-python",
   "name": "python",
   "nbconvert_exporter": "python",
   "pygments_lexer": "ipython3",
   "version": "3.7.0"
  }
 },
 "nbformat": 4,
 "nbformat_minor": 2
}
