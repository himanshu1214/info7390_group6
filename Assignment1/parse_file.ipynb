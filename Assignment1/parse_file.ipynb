{
 "cells": [
  {
   "cell_type": "code",
   "execution_count": 4,
   "metadata": {},
   "outputs": [
    {
     "name": "stdout",
     "output_type": "stream",
     "text": [
      "Enter the CIK number:51143\n",
      "Enter the accession number:0000051143-13-000007\n"
     ]
    }
   ],
   "source": [
    "from urllib.request import urlopen\n",
    "from bs4 import BeautifulSoup\n",
    "import csv\n",
    "import pandas as pd\n",
    "import os\n",
    "\n",
    "# # IBM\n",
    "# # company ID\n",
    "# CIK = '51143' \n",
    "# # document accession number\n",
    "# acc_no = '0000051143-13-000007'\n",
    "\n",
    "CIK = input('Enter the CIK number:')\n",
    "acc_no = input('Enter the accession number:')\n",
    "\n",
    "# Ggogle\n",
    "# #company ID\n",
    "# CIK = '1288776' \n",
    "# #document accession number\n",
    "# acc_no = '0001288776-15-000046'\n",
    "\n",
    "# replace '_' in accession number\n",
    "string1 = acc_no.replace('-','')\n",
    "\n",
    "# generate index url and parse index html\n",
    "indexUrl = 'https://www.sec.gov/Archives/edgar/data/' + CIK + '/' + string1 + '/' + acc_no + '-index.html'\n",
    "indexPage = BeautifulSoup(urlopen(indexUrl),'lxml')\n",
    "\n",
    "# find 10-Q url through checking the file type in each table row\n",
    "url10Q = ''\n",
    "for row in indexPage.findAll('tr'):\n",
    "    cell = row.text.split('\\n')\n",
    "    if cell[4] == '10-Q':\n",
    "        url10Q = 'https://www.sec.gov' + row.a.get('href')\n",
    "        break\n",
    "\n",
    "# extract all tables from 10-Q url and write the tables data in csv\n",
    "try:\n",
    "    df = pd.read_html(url10Q, header = None) \n",
    "except Exception:\n",
    "    print('Error, wrong 10-Q url, fail to get 10-Q file.')\n",
    "    \n",
    "# check cleaned directory    \n",
    "outdir = './cleaned_tables'\n",
    "if not os.path.exists(outdir):\n",
    "    os.mkdir(outdir)\n",
    "\n",
    "# extrac raw tables, clean up the data, and write cleaned tables to cleaned directory\n",
    "# since first four table has no useful data, start with table[4]\n",
    "for i in range(4, len(df)):\n",
    "    fullname = os.path.join(outdir, 'table' + str(i) + '.csv')    \n",
    "    df1 = pd.DataFrame(df[i])\n",
    "    \n",
    "    # replace the $ sign in the table\n",
    "    df1 = df1.replace('$',None)\n",
    "\n",
    "    # shift the row left whose firs column is empty\n",
    "    s1 = df1[df1.columns[0]]\n",
    "    for i,x in enumerate(s1):\n",
    "        if pd.isnull(s1[i]) and i > 1:\n",
    "            df1.iloc[i]=df1.iloc[i].shift(-1)\n",
    "\n",
    "    # drop the rows and columns which only contains none \n",
    "    df1.dropna(how='all',inplace=True)\n",
    "    df1.dropna(axis=1, how = 'all',inplace=True)\n",
    "\n",
    "    # replace nan to blank\n",
    "    df1.fillna('',inplace=True)\n",
    "\n",
    "    # show the finished table and write to csv\n",
    "    df1.to_csv(fullname,index=False, header=None)   "
   ]
  }
 ],
 "metadata": {
  "kernelspec": {
   "display_name": "Python 3",
   "language": "python",
   "name": "python3"
  },
  "language_info": {
   "codemirror_mode": {
    "name": "ipython",
    "version": 3
   },
   "file_extension": ".py",
   "mimetype": "text/x-python",
   "name": "python",
   "nbconvert_exporter": "python",
   "pygments_lexer": "ipython3",
   "version": "3.6.5"
  }
 },
 "nbformat": 4,
 "nbformat_minor": 2
}
